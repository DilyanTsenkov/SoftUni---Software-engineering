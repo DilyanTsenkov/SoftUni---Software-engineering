{
 "cells": [
  {
   "cell_type": "markdown",
   "metadata": {},
   "source": [
    "13.10.2020 LAB:"
   ]
  },
  {
   "cell_type": "markdown",
   "metadata": {},
   "source": [
    "# Lists Advanced"
   ]
  },
  {
   "cell_type": "markdown",
   "metadata": {},
   "source": [
    "## 1.\tTrains"
   ]
  },
  {
   "cell_type": "markdown",
   "metadata": {},
   "source": [
    "You will receive how many wagons the train has. Create a list with that length with all zeros. Until you receive the command \"End\", you get some of the following commands:\n",
    "- add {people} -> adds the people in the last wagon\n",
    "- insert {index} {people} -> adds the people at the given wagon\n",
    "- leave {index} {people} -> removes the people from the wagon"
   ]
  },
  {
   "cell_type": "markdown",
   "metadata": {},
   "source": [
    "After you receive the \"End\" command print the train"
   ]
  },
  {
   "cell_type": "code",
   "execution_count": 2,
   "metadata": {},
   "outputs": [
    {
     "name": "stdout",
     "output_type": "stream",
     "text": [
      "3\n",
      "add 20\n",
      "insert 0 15\n",
      "leave 0 5\n",
      "End\n",
      "[10, 0, 20]\n"
     ]
    }
   ],
   "source": [
    "wagons = int(input())\n",
    "command = input().split()\n",
    "\n",
    "train = [0 for _ in range(wagons)]\n",
    "\n",
    "while command[0] != \"End\":\n",
    "    if command[0] == \"add\":\n",
    "        train[-1] += int(command[1])\n",
    "    elif command[0] == \"insert\":\n",
    "        train[int(command[1])] += int(command[2])\n",
    "    elif command[0] == \"leave\":\n",
    "        train[int(command[1])] -= int(command[2])\n",
    "    command = input().split()\n",
    "    \n",
    "print(train)"
   ]
  },
  {
   "cell_type": "markdown",
   "metadata": {},
   "source": [
    "## 2.\tTodo List"
   ]
  },
  {
   "cell_type": "markdown",
   "metadata": {},
   "source": [
    "You will receive a todo-notes until you get the command \"End\". The notes will be in the format: \"{importance}-{value}\". Return the list of todo-notes sorted by importance. The maximum importance will be 10"
   ]
  },
  {
   "cell_type": "code",
   "execution_count": 3,
   "metadata": {},
   "outputs": [
    {
     "name": "stdout",
     "output_type": "stream",
     "text": [
      "2-Walk the dog\n",
      "1-Drink coffee\n",
      "6-Dinner\n",
      "5-Work\n",
      "End\n",
      "['Drink coffee', 'Walk the dog', 'Work', 'Dinner']\n"
     ]
    }
   ],
   "source": [
    "todo_notes = input().split(\"-\")\n",
    "\n",
    "list_todo_notes = [0 for _ in range(10)]\n",
    "\n",
    "while todo_notes[0] != \"End\":\n",
    "    list_todo_notes.pop(int(todo_notes[0])-1)\n",
    "    list_todo_notes.insert(int(todo_notes[0])-1, todo_notes[1])\n",
    "\n",
    "    todo_notes = input().split(\"-\")\n",
    "\n",
    "list_todo_notes = [el for el in list_todo_notes if el != 0]\n",
    "\n",
    "print(list_todo_notes)"
   ]
  },
  {
   "cell_type": "markdown",
   "metadata": {},
   "source": [
    "## 3.\tPalindrome Strings"
   ]
  },
  {
   "cell_type": "markdown",
   "metadata": {},
   "source": [
    "Write a program that receives on the first line words separated by a space and a searched palindrome on the second. Print all the palindromes on the first line. Print all the occurrences of the searched palindrome in the format: \"Found palindrome {count} times\""
   ]
  },
  {
   "cell_type": "code",
   "execution_count": 4,
   "metadata": {},
   "outputs": [
    {
     "name": "stdout",
     "output_type": "stream",
     "text": [
      "wow father mom wow shirt stats\n",
      "wow\n",
      "['wow', 'mom', 'wow', 'stats']\n",
      "Found palindrome 2 times\n"
     ]
    }
   ],
   "source": [
    "words = input().split()\n",
    "searched_word = input()\n",
    "\n",
    "palindrome_list = [word for word in words if word == word[::-1]]\n",
    "counter = palindrome_list.count(searched_word)\n",
    "\n",
    "print(palindrome_list)\n",
    "print(f\"Found palindrome {counter} times\")"
   ]
  },
  {
   "cell_type": "markdown",
   "metadata": {},
   "source": [
    "## 4.\tEven Numbers"
   ]
  },
  {
   "cell_type": "markdown",
   "metadata": {},
   "source": [
    "Write a program that reads a single string with numbers separated by comma and space \", \". Print the indices of all even numbers"
   ]
  },
  {
   "cell_type": "code",
   "execution_count": 5,
   "metadata": {},
   "outputs": [
    {
     "name": "stdout",
     "output_type": "stream",
     "text": [
      "2, 4, 6, 9, 10\n",
      "[0, 1, 2, 4]\n"
     ]
    }
   ],
   "source": [
    "string = input().split(\", \")\n",
    "\n",
    "even = [index for index in range(len(string)) if int(string[index]) % 2 == 0]\n",
    "\n",
    "print(even)"
   ]
  },
  {
   "cell_type": "markdown",
   "metadata": {},
   "source": [
    "## 5.\tThe Office"
   ]
  },
  {
   "cell_type": "markdown",
   "metadata": {},
   "source": [
    "You Will Receive Two Lines of Input: a List of Employee's Happiness As String with Numbers Separated by a Single Space and a Happiness Improvement Factor (Single Number). Your Task is to Find Out If the Employees Are Generally Happy in Their Office. To Do That You Have to Increase Their Happiness by Multiplying the All the Employee's Happiness (the Numbers from the List) by the Factor, Filter the Employees Which Happiness is Greater Than or Equal to the Average in the New List and Print the Result"
   ]
  },
  {
   "cell_type": "markdown",
   "metadata": {},
   "source": [
    "There are two types of output:\n",
    "- If the half or more of the employees have happiness >= than the average: \"Score: {happy_count}/{total_count}. Employees are happy!\"\n",
    "- Otherwise: \"Score: {happy_count}/{total_count}. Employees are not happy!\""
   ]
  },
  {
   "cell_type": "code",
   "execution_count": 6,
   "metadata": {},
   "outputs": [
    {
     "name": "stdout",
     "output_type": "stream",
     "text": [
      "2 3 2 1 3 3\n",
      "4\n",
      "Score: 3/6. Employees are happy!\n"
     ]
    }
   ],
   "source": [
    "happiness = input().split()\n",
    "happiness_factor = int(input())\n",
    "\n",
    "happiness = [int(el) for el in happiness]\n",
    "\n",
    "multiplying_happiness = list(map(lambda el: el * happiness_factor, happiness))\n",
    "average = sum(multiplying_happiness) / len(multiplying_happiness)\n",
    "\n",
    "above_average = [el for el in multiplying_happiness if el >= average]\n",
    "\n",
    "if len(above_average) >= len(happiness) / 2:\n",
    "    print(f\"Score: {len(above_average)}/{len(happiness)}. Employees are happy!\")\n",
    "else:\n",
    "    print(f\"Score: {len(above_average)}/{len(happiness)}. Employees are not happy!\")"
   ]
  }
 ],
 "metadata": {
  "kernelspec": {
   "display_name": "Python 3",
   "language": "python",
   "name": "python3"
  },
  "language_info": {
   "codemirror_mode": {
    "name": "ipython",
    "version": 3
   },
   "file_extension": ".py",
   "mimetype": "text/x-python",
   "name": "python",
   "nbconvert_exporter": "python",
   "pygments_lexer": "ipython3",
   "version": "3.8.3"
  }
 },
 "nbformat": 4,
 "nbformat_minor": 4
}
