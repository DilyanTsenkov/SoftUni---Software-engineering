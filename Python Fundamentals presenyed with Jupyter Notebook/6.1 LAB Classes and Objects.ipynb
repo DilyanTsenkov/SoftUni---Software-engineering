{
 "cells": [
  {
   "cell_type": "markdown",
   "metadata": {},
   "source": [
    "#### 20.10.2020 LAB:"
   ]
  },
  {
   "cell_type": "markdown",
   "metadata": {},
   "source": [
    "# Classes and Objects"
   ]
  },
  {
   "cell_type": "markdown",
   "metadata": {},
   "source": [
    "## 1.\tComment"
   ]
  },
  {
   "cell_type": "markdown",
   "metadata": {},
   "source": [
    "Create a class with name \"Comment\". The __init__ method should accept 3 parameters\n",
    "- username\n",
    "- content\n",
    "- likes (optional, 0 by default)"
   ]
  },
  {
   "cell_type": "markdown",
   "metadata": {},
   "source": [
    "Use the exact names for your variables"
   ]
  },
  {
   "cell_type": "code",
   "execution_count": 4,
   "metadata": {},
   "outputs": [
    {
     "name": "stdout",
     "output_type": "stream",
     "text": [
      "user1\n",
      "I like this book\n",
      "0\n"
     ]
    }
   ],
   "source": [
    "class Comment:\n",
    "    def __init__(self, username, content, likes=0):\n",
    "        self.username = username\n",
    "        self.content = content\n",
    "        self.likes = likes\n",
    "\n",
    "\n",
    "comment = Comment(\"user1\", \"I like this book\")\n",
    "\n",
    "print(comment.username)\n",
    "print(comment.content)\n",
    "print(comment.likes)"
   ]
  },
  {
   "cell_type": "markdown",
   "metadata": {},
   "source": [
    "## 2.\tParty"
   ]
  },
  {
   "cell_type": "markdown",
   "metadata": {},
   "source": [
    "Create a class Party that only has an attribute called people. The __init__ method should not accept any parameters. You will be given names of people (on separate lines) until you receive the command \"End\". Use the created class to solve this problem. After you receive the end command print 2 lines:\n",
    "- \"Going: {people}\" - the people should be separated by comma and space \", \"\n",
    "- \"Total: {total_people_going}\""
   ]
  },
  {
   "cell_type": "code",
   "execution_count": 5,
   "metadata": {},
   "outputs": [
    {
     "name": "stdout",
     "output_type": "stream",
     "text": [
      "Peter\n",
      "John\n",
      "Katy\n",
      "End\n",
      "Going: Peter, John, Katy\n",
      "Total: 3\n"
     ]
    }
   ],
   "source": [
    "class Party:\n",
    "    def __init__(self):\n",
    "        self.people = []\n",
    "\n",
    "\n",
    "party = Party()\n",
    "names = input()\n",
    "\n",
    "while names != \"End\":\n",
    "    party.people.append(names)\n",
    "    names = input()\n",
    "\n",
    "print(f\"Going: {', '.join(party.people)}\")\n",
    "print(f\"Total: {len(party.people)}\")"
   ]
  },
  {
   "cell_type": "markdown",
   "metadata": {},
   "source": [
    "## 3.\tEmail"
   ]
  },
  {
   "cell_type": "markdown",
   "metadata": {},
   "source": [
    "Create class Email. The __init__ method should receive sender, receiver and a content. It should also have a default set to False attribute called is_sent. The class should have two additional methods:\n",
    "- send() - sets the is_sent attribute to True\n",
    "- get_info() - returns the following string: \"{sender} says to {receiver}: {content}. Sent: {is_sent}\""
   ]
  },
  {
   "cell_type": "markdown",
   "metadata": {},
   "source": [
    "You will receive some emails until you receive \"Stop\" (separated by single space). The first will be the sender, the second one – the receiver and the third one – the content"
   ]
  },
  {
   "cell_type": "markdown",
   "metadata": {},
   "source": [
    "On the final line you will be given the indices of the sent emails separated by comma and space. Call the send() method for the given emails. For each email call the get_info() method"
   ]
  },
  {
   "cell_type": "code",
   "execution_count": 6,
   "metadata": {},
   "outputs": [
    {
     "name": "stdout",
     "output_type": "stream",
     "text": [
      "Peter John Hi,John\n",
      "John Peter Hi,Peter!\n",
      "Katy Lilly Hello,Lilly\n",
      "Stop\n",
      "0, 2\n",
      "Peter says to John: Hi,John. Sent: True\n",
      "John says to Peter: Hi,Peter!. Sent: False\n",
      "Katy says to Lilly: Hello,Lilly. Sent: True\n"
     ]
    }
   ],
   "source": [
    "class Email:\n",
    "    def __init__(self, sender, receiver, content, is_sent=False):\n",
    "        self.sender = sender\n",
    "        self.receiver = receiver\n",
    "        self.content = content\n",
    "        self.is_sent = is_sent\n",
    "\n",
    "    def print_info(self):\n",
    "        return f\"{self.sender} says to {self.receiver}: {self.content}. Sent: {self.is_sent}\"\n",
    "\n",
    "\n",
    "mails = input().split(\" \")\n",
    "email_list = []\n",
    "\n",
    "while mails[0] != \"Stop\":\n",
    "    email = Email(mails[0], mails[1], mails[2])\n",
    "    email_list.append(email)\n",
    "    mails = input().split(\" \")\n",
    "\n",
    "send_mails = input().split(\", \")\n",
    "\n",
    "for el in send_mails:\n",
    "    email_list[int(el)].is_sent = True\n",
    "\n",
    "for mail in email_list:\n",
    "    print(mail.print_info())"
   ]
  },
  {
   "cell_type": "markdown",
   "metadata": {},
   "source": [
    "## 4.\tZoo"
   ]
  },
  {
   "cell_type": "markdown",
   "metadata": {},
   "source": [
    "Create a class Zoo. It should have a class attribute called __animals that stores the total count of the animals in the zoo. The __init__ method should only receive the name of the zoo. There you should also create 3 empty lists (mammals, fishes, birds). The class should also have 2 more methods:\n",
    "- add_animal(species, name) - based on the species adds the name to the corresponding list\n",
    "- get_info(species) - based on the species returns a string in the following format: \"{Species} in {zoo_name}: {names}\" and on another line \"Total animals: {total_animals}\" "
   ]
  },
  {
   "cell_type": "markdown",
   "metadata": {},
   "source": [
    "On the first line you will receive the name of the zoo. On the second line you will receive number n. On the next n lines you will receive animal info in the format: \"{species} {name}\". Add the animal to the zoo to the corresponding list. The \"species\" command will be mammal, fish or bird. On the final line you will receive a spеcies. At the end, print all the info for that species and the total count of animals."
   ]
  },
  {
   "cell_type": "code",
   "execution_count": 7,
   "metadata": {},
   "outputs": [
    {
     "name": "stdout",
     "output_type": "stream",
     "text": [
      "Great Zoo\n",
      "5\n",
      "mammal lion\n",
      "mammal bear\n",
      "fish salmon\n",
      "bird owl\n",
      "mammal tiger\n",
      "mammal\n",
      "Mammals in Great Zoo: lion, bear, tiger\n",
      "Total animals: 5\n"
     ]
    }
   ],
   "source": [
    "class Zoo:\n",
    "\n",
    "    def __init__(self, name):\n",
    "        self.name = name\n",
    "        self.mammals = []\n",
    "        self.fish = []\n",
    "        self.birds = []\n",
    "\n",
    "    def add_animal(self, species, name):\n",
    "        if species == \"mammal\":\n",
    "            self.mammals.append(name)\n",
    "        elif species == \"fish\":\n",
    "            self.fish.append(name)\n",
    "        elif species == \"bird\":\n",
    "            self.birds.append(name)\n",
    "\n",
    "    def get_info(self, species):\n",
    "        result = \"\"\n",
    "        if species == \"mammal\":\n",
    "            result += f\"Mammals in {self.name}: {', '.join(self.mammals)}\\n\"\n",
    "        elif species == \"fish\":\n",
    "            result += f\"Fishes in {self.name}: {', '.join(self.fish)}\\n\"\n",
    "        elif species == \"bird\":\n",
    "            result += f\"Birds in {self.name}: {', '.join(self.birds)}\\n\"\n",
    "        result += f\"Total animals: {animals}\"\n",
    "        return result\n",
    "\n",
    "\n",
    "zoo_name = input()\n",
    "zoo = Zoo(zoo_name)\n",
    "\n",
    "animals = int(input())\n",
    "\n",
    "for animal in range(animals):\n",
    "    animal_species, animal_type = input().split(\" \")\n",
    "    zoo.add_animal(animal_species, animal_type)\n",
    "\n",
    "species_to_print = input()\n",
    "\n",
    "print(zoo.get_info(species_to_print))"
   ]
  },
  {
   "cell_type": "markdown",
   "metadata": {},
   "source": [
    "## 5.\tCircle"
   ]
  },
  {
   "cell_type": "markdown",
   "metadata": {},
   "source": [
    "Create a class Circle. In the __init__ method the circle should only receive one parameter (its diameter). Create a class attribute called __pi that is equal to 3.14. The class should also have the following methods:\n",
    "- calculate_circumference() - returns the circumference of the circle\n",
    "- calculate_area() - returns the area of the circle\n",
    "- calculate_area_of_sector(angle) - given the central angle in degrees, returns the area that fills the sector"
   ]
  },
  {
   "cell_type": "code",
   "execution_count": 8,
   "metadata": {},
   "outputs": [
    {
     "name": "stdout",
     "output_type": "stream",
     "text": [
      "31.40\n",
      "78.50\n",
      "1.09\n"
     ]
    }
   ],
   "source": [
    "class Circle:\n",
    "    __pi = 3.14\n",
    "\n",
    "    def __init__(self, diameter):\n",
    "        self.diameter = diameter\n",
    "        self.radius = diameter / 2\n",
    "\n",
    "    def calculate_circumference(self):\n",
    "        return Circle.__pi * self.diameter\n",
    "\n",
    "    def calculate_area(self):\n",
    "        return Circle.__pi * self.radius ** 2\n",
    "\n",
    "    def calculate_area_of_sector(self, angle):\n",
    "        return self.radius ** 2 * angle / 360 * Circle.__pi\n",
    "\n",
    "\n",
    "circle = Circle(10)\n",
    "angle = 5\n",
    "print(f\"{circle.calculate_circumference():.2f}\")\n",
    "print(f\"{circle.calculate_area():.2f}\")\n",
    "print(f\"{circle.calculate_area_of_sector(angle):.2f}\")"
   ]
  }
 ],
 "metadata": {
  "kernelspec": {
   "display_name": "Python 3",
   "language": "python",
   "name": "python3"
  },
  "language_info": {
   "codemirror_mode": {
    "name": "ipython",
    "version": 3
   },
   "file_extension": ".py",
   "mimetype": "text/x-python",
   "name": "python",
   "nbconvert_exporter": "python",
   "pygments_lexer": "ipython3",
   "version": "3.8.3"
  }
 },
 "nbformat": 4,
 "nbformat_minor": 4
}
