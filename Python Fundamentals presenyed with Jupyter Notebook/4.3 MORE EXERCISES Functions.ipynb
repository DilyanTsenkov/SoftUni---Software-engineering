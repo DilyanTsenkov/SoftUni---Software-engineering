{
 "cells": [
  {
   "cell_type": "markdown",
   "metadata": {},
   "source": [
    "# More Exercise: Functions"
   ]
  },
  {
   "cell_type": "markdown",
   "metadata": {},
   "source": [
    "## 1.\tData Types"
   ]
  },
  {
   "cell_type": "markdown",
   "metadata": {},
   "source": [
    "Write a program that, depending on the first line of the input, reads an int, double or string.\n",
    "- If the data type is int, multiply the number by 2.\n",
    "- If the data type is real, multiply the number by 1.5 and format it to the second decimal point.\n",
    "- If the data type is string, surround the input with \"$\"."
   ]
  },
  {
   "cell_type": "code",
   "execution_count": 1,
   "metadata": {},
   "outputs": [
    {
     "name": "stdout",
     "output_type": "stream",
     "text": [
      "real\n",
      "2\n",
      "3.00\n"
     ]
    }
   ],
   "source": [
    "def input_data_type(first_line, second_line):\n",
    "    result = None\n",
    "    if first_line == \"int\":\n",
    "        result = 2 * int(second_line)\n",
    "    elif first_line == \"real\":\n",
    "        result = 1.5 * float(second_line)\n",
    "        result = f\"{result:.2f}\"\n",
    "    elif first_line == \"string\":\n",
    "        result = \"$\" + second_line + \"$\"\n",
    "    return result\n",
    "\n",
    "\n",
    "first_line_input = input()\n",
    "second_line_input = input()\n",
    "print(input_data_type(first_line_input, second_line_input))"
   ]
  },
  {
   "cell_type": "markdown",
   "metadata": {},
   "source": [
    "## 2.\tCenter Point"
   ]
  },
  {
   "cell_type": "markdown",
   "metadata": {},
   "source": [
    "You are given the coordinates of two points on a Cartesian coordinate system - X1, Y1, X2 and Y2. Create a method that prints the point that is closest to the center of the coordinate system (0, 0) in the format (X, Y). If the points are on a same distance from the center, print only the first one. The resulting coordinates must be formated to the lowest integer"
   ]
  },
  {
   "cell_type": "code",
   "execution_count": 2,
   "metadata": {},
   "outputs": [
    {
     "name": "stdout",
     "output_type": "stream",
     "text": [
      "2\n",
      "4\n",
      "-1\n",
      "2\n",
      "(-1, 2)\n"
     ]
    }
   ],
   "source": [
    "def center_point(x1, y1, x2, y2):\n",
    "    import math\n",
    "    first_point = math.sqrt(((x1 - 0) ** 2) + ((y1 - 0) ** 2))\n",
    "    second_point = math.sqrt(((x2 - 0) ** 2) + ((y2 - 0) ** 2))\n",
    "    if first_point <= second_point:\n",
    "        x = x1\n",
    "        y = y1\n",
    "    else:\n",
    "        x = x2\n",
    "        y = y2\n",
    "    return f\"({int(x)}, {int(y)})\"\n",
    "\n",
    "\n",
    "x1 = input()\n",
    "y1 = input()\n",
    "x2 = input()\n",
    "y2 = input()\n",
    "print(center_point(float(x1), float(y1), float(x2), float(y2)))"
   ]
  },
  {
   "cell_type": "markdown",
   "metadata": {},
   "source": [
    "## 3.\tLonger Line"
   ]
  },
  {
   "cell_type": "markdown",
   "metadata": {},
   "source": [
    "You are given the coordinates of four points in the 2D plane. The first and the second pair of points form two different lines. Print the longer line in format \"(X1, Y1)(X2, Y2)\" starting with the point that is closer to the center of the coordinate system (0, 0) (You can reuse the method that you wrote for the previous problem). If the lines are of equal length, print only the first one. The resulting coordinates must be formated to the lowest integer."
   ]
  },
  {
   "cell_type": "code",
   "execution_count": 3,
   "metadata": {},
   "outputs": [
    {
     "name": "stdout",
     "output_type": "stream",
     "text": [
      "2\n",
      "4\n",
      "-1\n",
      "2\n",
      "-5\n",
      "-5\n",
      "4\n",
      "-3\n",
      "(4, -3)(-5, -5)\n"
     ]
    }
   ],
   "source": [
    "def line(x1, y1, x2, y2, x3, y3, x4, y4):\n",
    "    import math\n",
    "    first_line = math.sqrt(((x2 - x1) ** 2) + ((y2 - y1) ** 2))\n",
    "    second_line = math.sqrt(((x4 - x3) ** 2) + ((y4 - y3) ** 2))\n",
    "    if first_line >= second_line:\n",
    "        first_point = math.sqrt(((x1 - 0) ** 2) + ((y1 - 0) ** 2))\n",
    "        second_point = math.sqrt(((x2 - 0) ** 2) + ((y2 - 0) ** 2))\n",
    "        if first_point <= second_point:\n",
    "            first_point_x = x1\n",
    "            first_point_y = y1\n",
    "            second_point_x = x2\n",
    "            second_point_y = y2\n",
    "        else:\n",
    "            first_point_x = x2\n",
    "            first_point_y = y2\n",
    "            second_point_x = x1\n",
    "            second_point_y = y1\n",
    "    else:\n",
    "        first_point = math.sqrt(((x3 - 0) ** 2) + ((y3 - 0) ** 2))\n",
    "        second_point = math.sqrt(((x4 - 0) ** 2) + ((y4 - 0) ** 2))\n",
    "        if first_point <= second_point:\n",
    "            first_point_x = x3\n",
    "            first_point_y = y3\n",
    "            second_point_x = x4\n",
    "            second_point_y = y4\n",
    "        else:\n",
    "            first_point_x = x4\n",
    "            first_point_y = y4\n",
    "            second_point_x = x3\n",
    "            second_point_y = y3\n",
    "    return f\"({int(first_point_x)}, {int(first_point_y)})({int(second_point_x)}, {int(second_point_y)})\"\n",
    "\n",
    "\n",
    "x1 = float(input())\n",
    "y1 = float(input())\n",
    "x2 = float(input())\n",
    "y2 = float(input())\n",
    "x3 = float(input())\n",
    "y3 = float(input())\n",
    "x4 = float(input())\n",
    "y4 = float(input())\n",
    "\n",
    "print(line(x1, y1, x2, y2, x3, y3, x4, y4))"
   ]
  },
  {
   "cell_type": "markdown",
   "metadata": {},
   "source": [
    "## 4.\tTribonacci Sequence"
   ]
  },
  {
   "cell_type": "markdown",
   "metadata": {},
   "source": [
    "In the \"Tribonacci\" sequence, every number is formed by the sum of the previous 3.\n",
    "You are given a number num. Write a program that prints num numbers from the Tribonacci sequence, each on a new line, starting from 1. The input comes as a parameter named num. The value num will always be positive integer."
   ]
  },
  {
   "cell_type": "code",
   "execution_count": 4,
   "metadata": {},
   "outputs": [
    {
     "name": "stdout",
     "output_type": "stream",
     "text": [
      "8\n",
      "1 1 2 4 7 13 24 44\n"
     ]
    }
   ],
   "source": [
    "def tribonacci_sequence(number):\n",
    "    tribonacci_list = [1]\n",
    "    tribonacci_sum = 1\n",
    "    tribonacci_last_three = []\n",
    "    for tribo in range(1, int(num)):\n",
    "        if tribo > 2:\n",
    "            tribonacci_sum = sum(tribonacci_list[-3:])\n",
    "            tribonacci_list.append(tribonacci_sum)\n",
    "        else:\n",
    "            tribonacci_sum = sum(tribonacci_list[:3])\n",
    "            tribonacci_list.append(tribonacci_sum)\n",
    "    print_string = \" \".join(str(n) for n in tribonacci_list)\n",
    "    return print_string\n",
    "\n",
    "\n",
    "num = input()\n",
    "print(tribonacci_sequence(num))"
   ]
  },
  {
   "cell_type": "markdown",
   "metadata": {},
   "source": [
    "# 5.\tMultiplication Sign"
   ]
  },
  {
   "cell_type": "markdown",
   "metadata": {},
   "source": [
    "You are given a number num1, num2 and num3. Write a program that finds if num1 * num2 * num3 (the product) is negative, positive or zero. Try to do this WITHOUT multiplying the 3 numbers."
   ]
  },
  {
   "cell_type": "code",
   "execution_count": 5,
   "metadata": {},
   "outputs": [
    {
     "name": "stdout",
     "output_type": "stream",
     "text": [
      "2\n",
      "3\n",
      "-1\n",
      "negative\n"
     ]
    }
   ],
   "source": [
    "def multiplication(first_number, second_number, third_number):\n",
    "    if first_number == 0 or second_number == 0 or third_number == 0:\n",
    "        return \"zero\"\n",
    "    elif (first_number < 0 and second_number < 0 and third_number > 0) or (\n",
    "            first_number < 0 and second_number > 0 and third_number < 0) or (\n",
    "            first_number > 0 and second_number < 0 and third_number < 0) or (\n",
    "            first_number > 0 and second_number > 0 and third_number > 0):\n",
    "        return \"positive \"\n",
    "    else:\n",
    "        return \"negative\"\n",
    "\n",
    "\n",
    "num1 = int(input())\n",
    "num2 = int(input())\n",
    "num3 = int(input())\n",
    "print(multiplication(num1, num2, num3))"
   ]
  }
 ],
 "metadata": {
  "kernelspec": {
   "display_name": "Python 3",
   "language": "python",
   "name": "python3"
  },
  "language_info": {
   "codemirror_mode": {
    "name": "ipython",
    "version": 3
   },
   "file_extension": ".py",
   "mimetype": "text/x-python",
   "name": "python",
   "nbconvert_exporter": "python",
   "pygments_lexer": "ipython3",
   "version": "3.8.3"
  }
 },
 "nbformat": 4,
 "nbformat_minor": 4
}
