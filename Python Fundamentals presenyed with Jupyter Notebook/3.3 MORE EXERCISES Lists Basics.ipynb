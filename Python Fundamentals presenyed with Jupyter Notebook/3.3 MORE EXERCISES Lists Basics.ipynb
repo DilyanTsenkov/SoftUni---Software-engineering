{
 "cells": [
  {
   "cell_type": "markdown",
   "metadata": {},
   "source": [
    "# More Exercises: Lists Basics"
   ]
  },
  {
   "cell_type": "markdown",
   "metadata": {},
   "source": [
    "## 1.\tZeros to Back"
   ]
  },
  {
   "cell_type": "markdown",
   "metadata": {},
   "source": [
    "Write a program that receives a single string (integers separated by a comma and space \", \"), finds all the zeros and moves them to the back without messing up the other elements. Print the resulting integer list"
   ]
  },
  {
   "cell_type": "code",
   "execution_count": 1,
   "metadata": {},
   "outputs": [
    {
     "name": "stdout",
     "output_type": "stream",
     "text": [
      "1, 0, 1, 2, 0, 1, 3\n",
      "[1, 1, 2, 1, 3, 0, 0]\n"
     ]
    }
   ],
   "source": [
    "single_string = input()\n",
    "single_string_list = single_string.split(\", \")\n",
    "single_string_list.append(single_string_list.pop(single_string_list.index(\"0\")))\n",
    "\n",
    "for i in range(len(single_string_list)):\n",
    "    single_string_list[i] = int(single_string_list[i])\n",
    "    \n",
    "for i in range(len(single_string_list)):\n",
    "    if single_string_list[i] == 0:\n",
    "        single_string_list.append(single_string_list.pop(single_string_list.index(0)))\n",
    "        \n",
    "print(single_string_list)"
   ]
  },
  {
   "cell_type": "markdown",
   "metadata": {},
   "source": [
    "## 2.\tTic-Tac-Toe"
   ]
  },
  {
   "cell_type": "markdown",
   "metadata": {},
   "source": [
    "You will receive a field of a tic-tac-toe game in three lines containing numbers separated by a single space."
   ]
  },
  {
   "cell_type": "markdown",
   "metadata": {},
   "source": [
    "Legend:\n",
    "- 0 - empty space\n",
    "- 1 - first player move\n",
    "- 2 - second player move\n"
   ]
  },
  {
   "cell_type": "markdown",
   "metadata": {},
   "source": [
    "Find out who the winner is. If the first player wins print \"First player won\", otherwise if the second player wins print \"Second player won\", otherwise print \"Draw!\""
   ]
  },
  {
   "cell_type": "code",
   "execution_count": 2,
   "metadata": {},
   "outputs": [
    {
     "name": "stdout",
     "output_type": "stream",
     "text": [
      "0 1 0\n",
      "2 2 2\n",
      "1 0 0\n",
      "Second player won\n"
     ]
    }
   ],
   "source": [
    "first_line = input().split(\" \")\n",
    "second_line = input().split(\" \")\n",
    "third_line = input().split(\" \")\n",
    "\n",
    "wining_player = \"\"\n",
    "\n",
    "for i in range(3):\n",
    "    if first_line[i] == second_line[i] == third_line[i]:\n",
    "        wining_player = first_line[i]\n",
    "        break\n",
    "        \n",
    "for i in range(1):\n",
    "    if first_line[i] == first_line[i + 1] == first_line[i + 1]:\n",
    "        wining_player = first_line[i]\n",
    "        break\n",
    "    elif second_line[i] == second_line[i + 1] == second_line[i + 1]:\n",
    "        wining_player = second_line[i]\n",
    "        break\n",
    "    elif third_line[i] == third_line[i + 1] == third_line[i + 1]:\n",
    "        wining_player = third_line[i]\n",
    "        break\n",
    "        \n",
    "if first_line[0] == second_line[1] == third_line[2]:\n",
    "    wining_player = first_line[0]\n",
    "    \n",
    "if first_line[2] == second_line[1] == third_line[0]:\n",
    "    wining_player = third_line[0]\n",
    "    \n",
    "    \n",
    "if wining_player == \"1\":\n",
    "    print(\"First player won\")\n",
    "    \n",
    "elif wining_player == \"2\":\n",
    "    print(\"Second player won\")\n",
    "    \n",
    "else:\n",
    "    print(\"Draw!\")"
   ]
  },
  {
   "cell_type": "markdown",
   "metadata": {},
   "source": [
    "## 3.\tJosephus Permutation"
   ]
  },
  {
   "cell_type": "markdown",
   "metadata": {},
   "source": [
    "This problem takes its name by arguably the most important event in the life of the ancient historian Josephus: according to his tale, he and his 40 soldiers were trapped in a cave by the Romans during a siege. Refusing to surrender to the enemy, they instead opted for mass suicide, with a twist: they formed a circle and proceeded to kill one man every three, until one last man was left (and that it was supposed to kill himself to end the act). Well, Josephus and another man were the last two and, as we now know every detail of the story, you may have correctly guessed that they didn't exactly follow through the original idea."
   ]
  },
  {
   "cell_type": "markdown",
   "metadata": {},
   "source": [
    "You are now to create a program that prints a Josephus permutation, receiving two lines of code (the list itself (string with elements separated by a single space) and a number k) as if they were in a circle and counted out every k places until none remained."
   ]
  },
  {
   "cell_type": "code",
   "execution_count": 3,
   "metadata": {},
   "outputs": [
    {
     "name": "stdout",
     "output_type": "stream",
     "text": [
      "1 2 3 4 5 6 7\n",
      "3\n",
      "[3,6,2,7,5,1,4]\n"
     ]
    }
   ],
   "source": [
    "elements = input().split(\" \")\n",
    "number = int(input())\n",
    "\n",
    "new_elements_list = []\n",
    "counter = 0\n",
    "\n",
    "while len(elements) != 0:\n",
    "    \n",
    "    for i in range(len(elements)):\n",
    "        counter += 1\n",
    "        \n",
    "        if counter % number == 0:\n",
    "            new_elements_list.append(elements[i])\n",
    "            elements[i] = None\n",
    "            \n",
    "    elements = [i for i in elements if i]\n",
    "    \n",
    "print(\"[\" + \",\".join(new_elements_list) + \"]\")"
   ]
  },
  {
   "cell_type": "markdown",
   "metadata": {},
   "source": [
    "## 4.\tBattle Ships"
   ]
  },
  {
   "cell_type": "markdown",
   "metadata": {},
   "source": [
    "You will be given a number n representing the number of rows of the field. On the next n lines you will receive each row of the field as a string with numbers separated by a space. Each number greater than zero represents a ship with a health equal to the number value. After that you will receive the squares that are being attacked in the format: \"{row}-{col} {row}-{col}\". Each time a square is being attacked, if there is a ship there (number greater than 0) you should reduce its value. After the attacks have ended, print how many ships were destroyed (if its value has reached zero)"
   ]
  },
  {
   "cell_type": "code",
   "execution_count": 4,
   "metadata": {},
   "outputs": [
    {
     "name": "stdout",
     "output_type": "stream",
     "text": [
      "3\n",
      "1 0 0 1\n",
      "2 0 0 0\n",
      "0 3 0 1\n",
      "0-0 1-0 2-1 2-1 2-1 1-1 2-1\n",
      "2\n"
     ]
    }
   ],
   "source": [
    "rows_of_the_field = int(input())\n",
    "\n",
    "row_list = []\n",
    "\n",
    "for row_of_the_field in range(rows_of_the_field):\n",
    "    row = input()\n",
    "    row_list.append(row)\n",
    "\n",
    "attacked_squares = input().split(\" \")\n",
    "destroyed = 0\n",
    "row_number = 0\n",
    "\n",
    "for element in range(len(row_list)):\n",
    "    col_number = 0\n",
    "    \n",
    "    for i in row_list[element]:\n",
    "        if i == \" \":\n",
    "            continue\n",
    "        else:\n",
    "            if int(i) > 0:\n",
    "                ship = int(i)\n",
    "                \n",
    "                for attack in range(len(attacked_squares)):\n",
    "                    if int(attacked_squares[attack][0]) == row_number and int(\n",
    "                            attacked_squares[attack][2]) == col_number and ship != 0:\n",
    "                        ship -= 1\n",
    "                        if ship == 0:\n",
    "                            destroyed += 1\n",
    "            col_number += 1\n",
    "    row_number += 1\n",
    "\n",
    "print(destroyed)"
   ]
  }
 ],
 "metadata": {
  "kernelspec": {
   "display_name": "Python 3",
   "language": "python",
   "name": "python3"
  },
  "language_info": {
   "codemirror_mode": {
    "name": "ipython",
    "version": 3
   },
   "file_extension": ".py",
   "mimetype": "text/x-python",
   "name": "python",
   "nbconvert_exporter": "python",
   "pygments_lexer": "ipython3",
   "version": "3.8.3"
  }
 },
 "nbformat": 4,
 "nbformat_minor": 4
}
