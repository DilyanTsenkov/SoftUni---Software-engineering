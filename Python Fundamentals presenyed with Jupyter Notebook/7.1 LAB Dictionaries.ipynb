{
 "cells": [
  {
   "cell_type": "markdown",
   "metadata": {},
   "source": [
    "### 10.11.2020 LAB:"
   ]
  },
  {
   "cell_type": "markdown",
   "metadata": {},
   "source": [
    "# Dictionaries"
   ]
  },
  {
   "cell_type": "markdown",
   "metadata": {},
   "source": [
    "## 1.\tBakery"
   ]
  },
  {
   "cell_type": "markdown",
   "metadata": {},
   "source": [
    "This is your first task in your new job. You were tasked to create a list of the stock in a bakery and you really don't want to fail at you first day at work.\n",
    "<br><br>\n",
    "You will receive a single line containing some food (keys) and quantities (values). They will be separated by a single space (the first element is the key, the second – the value and so on). Create a dictionary with all the keys and values and print it on the console"
   ]
  },
  {
   "cell_type": "code",
   "execution_count": 1,
   "metadata": {},
   "outputs": [
    {
     "name": "stdout",
     "output_type": "stream",
     "text": [
      "bread 10 butter 4 sugar 9 jam 12\n",
      "{'bread': 10, 'butter': 4, 'sugar': 9, 'jam': 12}\n"
     ]
    }
   ],
   "source": [
    "food_quantities = input().split()\n",
    "\n",
    "bakery = {}\n",
    "\n",
    "for i in range(0, len(food_quantities), 2):\n",
    "    food = food_quantities[i]\n",
    "    quantity = food_quantities[i + 1]\n",
    "    bakery[food] = int(quantity)\n",
    "\n",
    "print(bakery)"
   ]
  },
  {
   "cell_type": "markdown",
   "metadata": {},
   "source": [
    "## 2.\tStock"
   ]
  },
  {
   "cell_type": "markdown",
   "metadata": {},
   "source": [
    "After you have successfully completed your first task, your boss decides to give you another one right away. Now not only you have to keep track of the stock, but also you have to answer customers if you have some products in stock or not.<br><br>\n",
    "You will be given key-value pairs of products and quantities (on a single line separated by space). On the next line you will be given products to search for. Check for each product, you have 2 possibilities:\n",
    "* If you have the product, print \"We have {quantity} of {product} left\"\n",
    "* Otherwise, print \"Sorry, we don't have {product}\""
   ]
  },
  {
   "cell_type": "code",
   "execution_count": 2,
   "metadata": {},
   "outputs": [
    {
     "name": "stdout",
     "output_type": "stream",
     "text": [
      "cheese 10 bread 5 ham 10 chocolate 3\n",
      "jam cheese ham tomatoes\n",
      "Sorry, we don't have jam\n",
      "We have 10 of cheese left\n",
      "We have 10 of ham left\n",
      "Sorry, we don't have tomatoes\n"
     ]
    }
   ],
   "source": [
    "products_quantities = input().split()\n",
    "products_to_find = input().split()\n",
    "\n",
    "stock = {}\n",
    "\n",
    "for i in range(0, len(products_quantities), 2):\n",
    "    product = products_quantities[i]\n",
    "    quantity = products_quantities[i + 1]\n",
    "    stock[product] = quantity\n",
    "\n",
    "for product in products_to_find:\n",
    "    if product in stock:\n",
    "        print(f\"We have {stock[product]} of {product} left\")\n",
    "    else:\n",
    "        print(f\"Sorry, we don't have {product}\")"
   ]
  },
  {
   "cell_type": "markdown",
   "metadata": {},
   "source": [
    "## 3.\tStatistics"
   ]
  },
  {
   "cell_type": "markdown",
   "metadata": {},
   "source": [
    "You seem to be doing great at your first job. You have now successfully completed the first 2 of your tasks and your boss decides to give you as your next task something more challenging. You have to accept all the new products coming in the bakery and finally gather some statistics.\n",
    "<br><br>\n",
    "You will be receiving key-value pairs on separate lines separated by \": \" until you receive the command \"statistics\". Sometimes you may receive a product more than once. In that case you have to add the new quantity to the existing one. When you receive the \"statistics\" command, print the following:\n",
    "<br><br>\n",
    "\"Products in stock:\n",
    "- {product1}: {quantity1}\n",
    "- {product2}: {quantity2}\n",
    "<br>…\n",
    "<br>Total Products: {count_all_products}\n",
    "<br>Total Quantity: {sum_all_quantities}\""
   ]
  },
  {
   "cell_type": "code",
   "execution_count": 3,
   "metadata": {},
   "outputs": [
    {
     "name": "stdout",
     "output_type": "stream",
     "text": [
      "bread: 4\n",
      "cheese: 2\n",
      "ham: 1\n",
      "bread: 1\n",
      "statistics\n",
      "Products in stock:\n",
      "- bread: 5\n",
      "- cheese: 2\n",
      "- ham: 1\n",
      "Total Products: 3\n",
      "Total Quantity: 8\n"
     ]
    }
   ],
   "source": [
    "bakery = {}\n",
    "\n",
    "while True:\n",
    "    product = input()\n",
    "    if product == \"statistics\":\n",
    "        break\n",
    "\n",
    "    food, quantity = product.split(\": \")\n",
    "    quantity = int(quantity)\n",
    "\n",
    "    if food in bakery:\n",
    "        bakery[food] += quantity\n",
    "    else:\n",
    "        bakery[food] = quantity\n",
    "\n",
    "print(\"Products in stock:\")\n",
    "\n",
    "for product, quantity in bakery.items():\n",
    "    print(f\"- {product}: {quantity}\")\n",
    "\n",
    "print(f\"Total Products: {len(bakery)}\")\n",
    "print(f\"Total Quantity: {sum(bakery.values())}\")"
   ]
  },
  {
   "cell_type": "markdown",
   "metadata": {},
   "source": [
    "## 4.\tOdd Occurrences"
   ]
  },
  {
   "cell_type": "markdown",
   "metadata": {},
   "source": [
    "Write a program that extracts all elements from a given sequence of words that are present in it an odd number of times (case-insensitive).\n",
    "* Words are given on a single line, space separated.\n",
    "* Print the result elements in lowercase, in their order of appearance."
   ]
  },
  {
   "cell_type": "code",
   "execution_count": 4,
   "metadata": {},
   "outputs": [
    {
     "name": "stdout",
     "output_type": "stream",
     "text": [
      "3 5 5 hi pi HO Hi 5 ho 3 hi pi\n",
      "5 hi "
     ]
    }
   ],
   "source": [
    "words = input().lower().split()\n",
    "\n",
    "odd = {}\n",
    "\n",
    "for word in words:\n",
    "    if word not in odd:\n",
    "        odd[word] = 1\n",
    "    else:\n",
    "        odd[word] += 1\n",
    "\n",
    "for key, values in odd.items():\n",
    "    if int(values) % 2 != 0:\n",
    "        print(key, end=\" \")"
   ]
  },
  {
   "cell_type": "markdown",
   "metadata": {},
   "source": [
    "## 5.\tWord Synonyms"
   ]
  },
  {
   "cell_type": "markdown",
   "metadata": {},
   "source": [
    "Write a program, which keeps a dictionary with synonyms. The key of the dictionary will be the word. The value will be a list of all the synonyms of that word. You will be given a number n – the count of the words. After each word, you will be given a synonym, so the count of lines you have to read from the console is 2 * n. You will be receiving a word and a synonym each on a separate line like this:\n",
    "* {word}\n",
    "* {synonym}\n",
    "<br><br>If you get the same word twice, just add the new synonym to the list. \n",
    "<br><br>Print the words in the following format:\n",
    "<br><br>{word} - {synonym1, synonym2… synonymN}"
   ]
  },
  {
   "cell_type": "code",
   "execution_count": 5,
   "metadata": {},
   "outputs": [
    {
     "name": "stdout",
     "output_type": "stream",
     "text": [
      "3\n",
      "cute\n",
      "adorable\n",
      "cute\n",
      "charming\n",
      "smart\n",
      "clever\n",
      "cute - adorable, charming\n",
      "smart - clever\n"
     ]
    }
   ],
   "source": [
    "n = int(input())\n",
    "\n",
    "synonyms_dictionary = {}\n",
    "\n",
    "for i in range(n):\n",
    "    word = input()\n",
    "    synonym = input()\n",
    "\n",
    "    if word not in synonyms_dictionary:\n",
    "        synonyms_dictionary[word] = []\n",
    "        synonyms_dictionary[word].append(synonym)\n",
    "    else:\n",
    "        synonyms_dictionary[word].append(synonym)\n",
    "\n",
    "for word, synonym in synonyms_dictionary.items():\n",
    "    print(f\"{word} - {', '.join(synonym)}\")"
   ]
  }
 ],
 "metadata": {
  "kernelspec": {
   "display_name": "Python 3",
   "language": "python",
   "name": "python3"
  },
  "language_info": {
   "codemirror_mode": {
    "name": "ipython",
    "version": 3
   },
   "file_extension": ".py",
   "mimetype": "text/x-python",
   "name": "python",
   "nbconvert_exporter": "python",
   "pygments_lexer": "ipython3",
   "version": "3.8.3"
  }
 },
 "nbformat": 4,
 "nbformat_minor": 4
}
