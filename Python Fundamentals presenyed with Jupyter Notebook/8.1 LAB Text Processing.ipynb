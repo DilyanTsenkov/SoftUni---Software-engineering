{
 "cells": [
  {
   "cell_type": "markdown",
   "metadata": {},
   "source": [
    "### 17.11.2020 LAB:"
   ]
  },
  {
   "cell_type": "markdown",
   "metadata": {},
   "source": [
    "# Text Processing"
   ]
  },
  {
   "cell_type": "markdown",
   "metadata": {},
   "source": [
    "## 1.\tReverse Strings\n",
    "<br>You will be given series of strings until you receive an \"end\" command. Write a program that reverses strings and prints each pair on separate line in format \"{word} = {reversed word}\"."
   ]
  },
  {
   "cell_type": "code",
   "execution_count": 1,
   "metadata": {},
   "outputs": [
    {
     "name": "stdout",
     "output_type": "stream",
     "text": [
      "helLo\n",
      "helLo = oLleh\n",
      "Softuni\n",
      "Softuni = inutfoS\n",
      "bottle\n",
      "bottle = elttob\n",
      "end\n"
     ]
    }
   ],
   "source": [
    "while True:\n",
    "    string = input()\n",
    "    if string == \"end\":\n",
    "        break\n",
    "    print(f\"{string} = {string[::-1]}\")\n"
   ]
  },
  {
   "cell_type": "markdown",
   "metadata": {},
   "source": [
    "## 2.\tRepeat Strings\n",
    "<br>Write a Program That Reads a list of strings. Each string is repeated N times, where N is the length of the string. Print the concatenated string."
   ]
  },
  {
   "cell_type": "code",
   "execution_count": 2,
   "metadata": {},
   "outputs": [
    {
     "name": "stdout",
     "output_type": "stream",
     "text": [
      "hi abc add\n",
      "hihiabcabcabcaddaddadd\n"
     ]
    }
   ],
   "source": [
    "receive = input().split()\n",
    "\n",
    "result = \"\"\n",
    "for el in receive:\n",
    "    result += el * len(el)\n",
    "\n",
    "print(result)"
   ]
  },
  {
   "cell_type": "markdown",
   "metadata": {},
   "source": [
    "## 3.\tSubstring\n",
    "<br>On the first line you will receive a string. On the second line you will receive a second string. Write a program that removes all of the occurrences of the first string in the second until there is no match. At the end print the remaining string."
   ]
  },
  {
   "cell_type": "code",
   "execution_count": 3,
   "metadata": {},
   "outputs": [
    {
     "name": "stdout",
     "output_type": "stream",
     "text": [
      "ice\n",
      "kicegiciceeb\n",
      "kgb\n"
     ]
    }
   ],
   "source": [
    "first_string = input()\n",
    "second_string = input()\n",
    "\n",
    "while True:\n",
    "    if first_string in second_string:\n",
    "        second_string = second_string.replace(first_string, \"\")\n",
    "    else:\n",
    "        break\n",
    "\n",
    "print(second_string)"
   ]
  },
  {
   "cell_type": "markdown",
   "metadata": {},
   "source": [
    "## 4.\tText Filter\n",
    "<br>Write a program that takes a text and a string of banned words. All words included in the ban list should be replaced with asterisks \"*\", equal to the word's length. The entries in the ban list will be separated by a comma and space \", \".\n",
    "<br><br>The ban list should be entered on the first input line and the text on the second input line. "
   ]
  },
  {
   "cell_type": "code",
   "execution_count": 4,
   "metadata": {},
   "outputs": [
    {
     "name": "stdout",
     "output_type": "stream",
     "text": [
      "Linux, Windows\n",
      "It is not Linux, it is GNU/Linux. Linux is merely the kernel, while GNU adds the functionality. Therefore we owe it to them by calling the OS GNU/Linux! Sincerely, a Windows client\n",
      "It is not *****, it is GNU/*****. ***** is merely the kernel, while GNU adds the functionality. Therefore we owe it to them by calling the OS GNU/*****! Sincerely, a ******* client\n"
     ]
    }
   ],
   "source": [
    "ban_words = input().split(\", \")\n",
    "text = input()\n",
    "\n",
    "for el in ban_words:\n",
    "    if el in text:\n",
    "        text = text.replace(el, \"*\" * len(el))\n",
    "\n",
    "print(text)"
   ]
  },
  {
   "cell_type": "markdown",
   "metadata": {},
   "source": [
    "## 5.\tDigits, Letters and Other\n",
    "<br>Write a program that receives a single string and on the first line prints all the digits, on the second – all the letters, and on the third – all the other characters. There will always be at least one digit, one letter and one other characters."
   ]
  },
  {
   "cell_type": "code",
   "execution_count": 5,
   "metadata": {},
   "outputs": [
    {
     "name": "stdout",
     "output_type": "stream",
     "text": [
      "Agd#53Dfg^&4F53\n",
      "53453\n",
      "AgdDfgF\n",
      "#^&\n"
     ]
    }
   ],
   "source": [
    "string = input()\n",
    "\n",
    "digit = \"\"\n",
    "alpha = \"\"\n",
    "symbols = \"\"\n",
    "\n",
    "for el in string:\n",
    "    if el.isdigit():\n",
    "        digit += el\n",
    "    elif el.isalpha():\n",
    "        alpha += el\n",
    "    else:\n",
    "        symbols += el\n",
    "\n",
    "print(f\"{digit}\\n{alpha}\\n{symbols}\")"
   ]
  }
 ],
 "metadata": {
  "kernelspec": {
   "display_name": "Python 3",
   "language": "python",
   "name": "python3"
  },
  "language_info": {
   "codemirror_mode": {
    "name": "ipython",
    "version": 3
   },
   "file_extension": ".py",
   "mimetype": "text/x-python",
   "name": "python",
   "nbconvert_exporter": "python",
   "pygments_lexer": "ipython3",
   "version": "3.8.3"
  }
 },
 "nbformat": 4,
 "nbformat_minor": 4
}
