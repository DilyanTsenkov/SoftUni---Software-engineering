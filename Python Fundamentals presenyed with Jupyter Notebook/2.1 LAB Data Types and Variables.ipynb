{
 "cells": [
  {
   "cell_type": "markdown",
   "metadata": {},
   "source": [
    "22.09.2020 LAB:"
   ]
  },
  {
   "cell_type": "markdown",
   "metadata": {},
   "source": [
    "# Data Types and Variables"
   ]
  },
  {
   "cell_type": "markdown",
   "metadata": {},
   "source": [
    "## 1.\tConcat Names"
   ]
  },
  {
   "cell_type": "markdown",
   "metadata": {},
   "source": [
    "Read two names and a delimiter. Print the names joined by the delimiter."
   ]
  },
  {
   "cell_type": "code",
   "execution_count": 1,
   "metadata": {},
   "outputs": [
    {
     "name": "stdout",
     "output_type": "stream",
     "text": [
      "Jan\n",
      "White\n",
      "<->\n",
      "Jan<->White\n"
     ]
    }
   ],
   "source": [
    "first_name = input()\n",
    "last_name = input()\n",
    "delimiter = input()\n",
    "\n",
    "print(first_name + delimiter + last_name)"
   ]
  },
  {
   "cell_type": "markdown",
   "metadata": {},
   "source": [
    "# 2.\tCenturies to Minutes"
   ]
  },
  {
   "cell_type": "markdown",
   "metadata": {},
   "source": [
    "Write a program to enter an integer number of centuries and convert it to years, days, hours and minutes."
   ]
  },
  {
   "cell_type": "code",
   "execution_count": 1,
   "metadata": {},
   "outputs": [
    {
     "name": "stdout",
     "output_type": "stream",
     "text": [
      "5\n",
      "5 centuries = 500 years = 182621 days = 4382904 hours = 262974240 minutes\n"
     ]
    }
   ],
   "source": [
    "centuries = int(input())\n",
    "\n",
    "years = centuries * 100\n",
    "days = int(years * 365.2422)\n",
    "hours = days * 24\n",
    "minutes = hours * 60\n",
    "\n",
    "print(f\"{centuries} centuries = {years} years = {days} days = {hours} hours = {minutes} minutes\")"
   ]
  },
  {
   "cell_type": "markdown",
   "metadata": {},
   "source": [
    "## 3.\tSpecial Numbers"
   ]
  },
  {
   "cell_type": "markdown",
   "metadata": {},
   "source": [
    "A number is special when the sum of its digits is 5, 7 or 11.\n",
    "- Write a program to read an integer n and for all numbers in the range 1…n, print the number and if it is special or not (True / False)."
   ]
  },
  {
   "cell_type": "code",
   "execution_count": 5,
   "metadata": {},
   "outputs": [
    {
     "name": "stdout",
     "output_type": "stream",
     "text": [
      "15\n",
      "1 -> False\n",
      "2 -> False\n",
      "3 -> False\n",
      "4 -> False\n",
      "5 -> True\n",
      "6 -> False\n",
      "7 -> True\n",
      "8 -> False\n",
      "9 -> False\n",
      "10 -> False\n",
      "11 -> False\n",
      "12 -> False\n",
      "13 -> False\n",
      "14 -> True\n",
      "15 -> False\n"
     ]
    }
   ],
   "source": [
    "number = int(input())\n",
    "\n",
    "for num in range(1, number + 1):\n",
    "    sum = 0\n",
    "    for symbol in str(num):\n",
    "        sum += int(symbol)\n",
    "    if sum == 5 or sum == 7 or sum == 11:\n",
    "        print(f\"{num} -> True\")\n",
    "    else:\n",
    "        print(f\"{num} -> False\")"
   ]
  },
  {
   "cell_type": "markdown",
   "metadata": {},
   "source": [
    "# 4.\tConvert Meters to Kilometers"
   ]
  },
  {
   "cell_type": "markdown",
   "metadata": {},
   "source": [
    "You will be given an integer that will be distance in meters. Write a program that converts meters to kilometers formatted to the second decimal point."
   ]
  },
  {
   "cell_type": "code",
   "execution_count": 6,
   "metadata": {},
   "outputs": [
    {
     "name": "stdout",
     "output_type": "stream",
     "text": [
      "798\n",
      "0.80\n"
     ]
    }
   ],
   "source": [
    "meters = int(input())\n",
    "\n",
    "km = meters / 1000\n",
    "print(f\"{km:.2f}\")"
   ]
  },
  {
   "cell_type": "markdown",
   "metadata": {},
   "source": [
    "## 5.\tPounds to Dollars"
   ]
  },
  {
   "cell_type": "markdown",
   "metadata": {},
   "source": [
    "Write a program that converts British pounds to US dollars formatted to the 3th decimal point.\n",
    "- 1 British Pound = 1.31 Dollars"
   ]
  },
  {
   "cell_type": "code",
   "execution_count": 7,
   "metadata": {},
   "outputs": [
    {
     "name": "stdout",
     "output_type": "stream",
     "text": [
      "80\n",
      "104.800\n"
     ]
    }
   ],
   "source": [
    "pounds = int(input())\n",
    "\n",
    "dollars = pounds * 1.31\n",
    "print(f\"{dollars:.3f}\")"
   ]
  }
 ],
 "metadata": {
  "kernelspec": {
   "display_name": "Python 3",
   "language": "python",
   "name": "python3"
  },
  "language_info": {
   "codemirror_mode": {
    "name": "ipython",
    "version": 3
   },
   "file_extension": ".py",
   "mimetype": "text/x-python",
   "name": "python",
   "nbconvert_exporter": "python",
   "pygments_lexer": "ipython3",
   "version": "3.8.3"
  }
 },
 "nbformat": 4,
 "nbformat_minor": 4
}
