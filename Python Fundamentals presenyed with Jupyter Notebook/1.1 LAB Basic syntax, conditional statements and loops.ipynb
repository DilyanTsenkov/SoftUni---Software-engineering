{
 "cells": [
  {
   "cell_type": "markdown",
   "metadata": {},
   "source": [
    "#### 15.09.2020 LAB:"
   ]
  },
  {
   "cell_type": "markdown",
   "metadata": {},
   "source": [
    "# Basic Syntax, Conditional Statements and Loops"
   ]
  },
  {
   "cell_type": "markdown",
   "metadata": {},
   "source": [
    "## 1.\tBiggest of Three Numbers"
   ]
  },
  {
   "cell_type": "markdown",
   "metadata": {},
   "source": [
    "Write a program that receives three whole numbers and print the biggest one"
   ]
  },
  {
   "cell_type": "code",
   "execution_count": 1,
   "metadata": {},
   "outputs": [
    {
     "name": "stdout",
     "output_type": "stream",
     "text": [
      "3\n",
      "-1\n",
      "5\n",
      "5\n"
     ]
    }
   ],
   "source": [
    "first_num = int(input())\n",
    "second_num = int(input())\n",
    "third_num = int(input())\n",
    "\n",
    "if first_num > second_num and first_num > third_num:\n",
    "    print(first_num)\n",
    "elif second_num > first_num and second_num > third_num:\n",
    "    print(second_num)\n",
    "else:\n",
    "    print(third_num)"
   ]
  },
  {
   "cell_type": "markdown",
   "metadata": {},
   "source": [
    "## 2.\tNumber Definer"
   ]
  },
  {
   "cell_type": "markdown",
   "metadata": {},
   "source": [
    "Write a program that reads a floating-point number and prints \"zero\" if the number is zero. Otherwise, print \"positive\" or \"negative\". Add \"small\" if the absolute value of the number is less than 1, or \"large\" if it exceeds 1 000 000."
   ]
  },
  {
   "cell_type": "code",
   "execution_count": 2,
   "metadata": {},
   "outputs": [
    {
     "name": "stdout",
     "output_type": "stream",
     "text": [
      "-358583355123.001\n",
      "large negative\n"
     ]
    }
   ],
   "source": [
    "number = float(input())\n",
    "\n",
    "if number == 0:\n",
    "    print(\"zero\")\n",
    "elif number > 0:\n",
    "    if number < 1:\n",
    "        print(\"small positive\")\n",
    "    elif number > 1000000:\n",
    "        print(\"large positive\")\n",
    "    else:\n",
    "        print(\"positive\")\n",
    "elif number < 0:\n",
    "    if number > -1:\n",
    "        print(\"small negative\")\n",
    "    elif number < -1000000:\n",
    "        print(\"large negative\")\n",
    "    else:\n",
    "        print(\"negative\")"
   ]
  },
  {
   "cell_type": "markdown",
   "metadata": {},
   "source": [
    "# 3.\tWord Reverse"
   ]
  },
  {
   "cell_type": "markdown",
   "metadata": {},
   "source": [
    "Write a program that receives a single word from the user, reverses it and prints it"
   ]
  },
  {
   "cell_type": "code",
   "execution_count": 3,
   "metadata": {},
   "outputs": [
    {
     "name": "stdout",
     "output_type": "stream",
     "text": [
      "Python\n",
      "nohtyP\n"
     ]
    }
   ],
   "source": [
    "word = input()\n",
    "\n",
    "reversed_word = \"\"\n",
    "\n",
    "for char in range(len(word) - 1, -1, -1):\n",
    "    reversed_char = word[char]\n",
    "    reversed_word += reversed_char\n",
    "    \n",
    "print(reversed_word)"
   ]
  },
  {
   "cell_type": "markdown",
   "metadata": {},
   "source": [
    "## 4.\tNumber Between 1 and 100"
   ]
  },
  {
   "cell_type": "markdown",
   "metadata": {},
   "source": [
    "Write a program which reads numbers from the console until it receives a number between 1 and 100 inclusive. When the correct number is received, stop reading and print \"The number {number} is between 1 and 100\""
   ]
  },
  {
   "cell_type": "code",
   "execution_count": 4,
   "metadata": {},
   "outputs": [
    {
     "name": "stdout",
     "output_type": "stream",
     "text": [
      "-3\n",
      "0.9\n",
      "44\n",
      "The number 44.0 is between 1 and 100\n"
     ]
    }
   ],
   "source": [
    "while True:\n",
    "    number = float(input())\n",
    "    if 1 <= number <= 100:\n",
    "        print(f\"The number {number} is between 1 and 100\")\n",
    "        break"
   ]
  },
  {
   "cell_type": "markdown",
   "metadata": {},
   "source": [
    "## 5.\tPatterns"
   ]
  },
  {
   "cell_type": "markdown",
   "metadata": {},
   "source": [
    "Write a program to create the following pattern:\n",
    "-    N\n",
    "-    NN\n",
    "-    NNN\n",
    "-    NNNN\n",
    "-    NNN\n",
    "-    NN\n",
    "-    N\n",
    "- You will receive a number that represents the highest number of stars."
   ]
  },
  {
   "cell_type": "code",
   "execution_count": 7,
   "metadata": {},
   "outputs": [
    {
     "name": "stdout",
     "output_type": "stream",
     "text": [
      "4\n",
      "N\n",
      "NN\n",
      "NNN\n",
      "NNNN\n",
      "NNN\n",
      "NN\n",
      "N\n"
     ]
    }
   ],
   "source": [
    "n = int(input())\n",
    "\n",
    "for row in range(1, n + 1):\n",
    "    for col in range(row):\n",
    "        print(\"N\", end=\"\")\n",
    "    print()\n",
    "for row in range(n - 1, 0, -1):\n",
    "    for col in range(row):\n",
    "        print(\"N\", end=\"\")\n",
    "    print()"
   ]
  }
 ],
 "metadata": {
  "kernelspec": {
   "display_name": "Python 3",
   "language": "python",
   "name": "python3"
  },
  "language_info": {
   "codemirror_mode": {
    "name": "ipython",
    "version": 3
   },
   "file_extension": ".py",
   "mimetype": "text/x-python",
   "name": "python",
   "nbconvert_exporter": "python",
   "pygments_lexer": "ipython3",
   "version": "3.8.3"
  }
 },
 "nbformat": 4,
 "nbformat_minor": 4
}
