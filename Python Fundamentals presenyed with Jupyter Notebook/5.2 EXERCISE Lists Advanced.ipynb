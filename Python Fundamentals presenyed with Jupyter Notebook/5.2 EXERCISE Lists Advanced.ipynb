{
 "cells": [
  {
   "cell_type": "markdown",
   "metadata": {},
   "source": [
    "09.10.2020 EXERCISE:"
   ]
  },
  {
   "cell_type": "markdown",
   "metadata": {},
   "source": [
    "# Lists Advanced"
   ]
  },
  {
   "cell_type": "markdown",
   "metadata": {},
   "source": [
    "## 1.\tWhich Are In?"
   ]
  },
  {
   "cell_type": "markdown",
   "metadata": {},
   "source": [
    "Given two lists of strings print a new list of the strings that contains words from the first list which are substrings of any of the strings in the second list (only unique values)"
   ]
  },
  {
   "cell_type": "markdown",
   "metadata": {},
   "source": [
    "### Input"
   ]
  },
  {
   "cell_type": "markdown",
   "metadata": {},
   "source": [
    "There will be 2 lines of input: the two lists separated by \", \""
   ]
  },
  {
   "cell_type": "markdown",
   "metadata": {},
   "source": [
    "### Output"
   ]
  },
  {
   "cell_type": "markdown",
   "metadata": {},
   "source": [
    "Print the resulting list on the console"
   ]
  },
  {
   "cell_type": "code",
   "execution_count": 1,
   "metadata": {},
   "outputs": [
    {
     "name": "stdout",
     "output_type": "stream",
     "text": [
      "arp, live, strong\n",
      "lively, alive, harp, sharp, armstrong\n",
      "['arp', 'live', 'strong']\n"
     ]
    }
   ],
   "source": [
    "first_list = input().split(\", \")\n",
    "second_list = input().split(\", \")\n",
    "\n",
    "unique_values_list = []\n",
    "\n",
    "for el in first_list:\n",
    "    for k in second_list:\n",
    "        if k.find(el) >= 0 and el not in unique_values_list:\n",
    "            unique_values_list.append(el)\n",
    "\n",
    "print(unique_values_list)"
   ]
  },
  {
   "cell_type": "markdown",
   "metadata": {},
   "source": [
    "## 2.\tBig Numbers Lover"
   ]
  },
  {
   "cell_type": "markdown",
   "metadata": {},
   "source": [
    "You really like big numbers, so you always find a way to form one from numbers given to you"
   ]
  },
  {
   "cell_type": "markdown",
   "metadata": {},
   "source": [
    "You will receive a single line containing numbers separated by a single space. Form the biggest number possible from them by sorting them as strings."
   ]
  },
  {
   "cell_type": "code",
   "execution_count": 2,
   "metadata": {},
   "outputs": [
    {
     "name": "stdout",
     "output_type": "stream",
     "text": [
      "3 30 34 5 9\n",
      "9534303\n"
     ]
    }
   ],
   "source": [
    "numbers = input().split()\n",
    "\n",
    "numbers.sort(reverse=True)\n",
    "\n",
    "print(\"\".join(numbers))"
   ]
  },
  {
   "cell_type": "markdown",
   "metadata": {},
   "source": [
    "## 3.\tNext Version"
   ]
  },
  {
   "cell_type": "markdown",
   "metadata": {},
   "source": [
    "You're fed up about changing the version of your software manually. Instead, you will create a little script that will make it for you."
   ]
  },
  {
   "cell_type": "markdown",
   "metadata": {},
   "source": [
    "You will be given a version as in this example: \"1.3.4\". You have to find the next version and print it (\"1.3.5\" from the example). The only rule is that the numbers cannot be greater than 9. If that happens, set the current number to 0 and increase the number before it. For more clarification, see the examples. Note: there will be no case where the first number will get greater than 9"
   ]
  },
  {
   "cell_type": "code",
   "execution_count": 3,
   "metadata": {},
   "outputs": [
    {
     "name": "stdout",
     "output_type": "stream",
     "text": [
      "3.9.9\n",
      "4.0.0\n"
     ]
    }
   ],
   "source": [
    "version = input().split(\".\")\n",
    "\n",
    "version_str = \"\".join(version)\n",
    "version_int = int(version_str) + 1\n",
    "version_str = \".\".join(str(version_int))\n",
    "\n",
    "print(version_str)"
   ]
  },
  {
   "cell_type": "markdown",
   "metadata": {},
   "source": [
    "## 4.\tOffice Chairs"
   ]
  },
  {
   "cell_type": "markdown",
   "metadata": {},
   "source": [
    "So you've found a meeting room - phew! You arrive there ready to present, and find that someone has taken one or more of the chairs!! You need to find some quick.... check all the other meeting rooms to see if all of the chairs are in use."
   ]
  },
  {
   "cell_type": "markdown",
   "metadata": {},
   "source": [
    "You will be given a number n representing how many rooms there are. On the next n lines for each room you will get how many chairs there are and how many of them will be taken. The chairs will be represented by \"X\"s, then there will be a space \" \" and a number representing the taken places. Example: \"XXXXX 4\" (5 chairs and 1 of them is left free). Keep track of the free chairs, you will need them later. However if you get to a room where there are more people than chairs, print the following message: \"{needed_chairs_in_room} more chairs needed in room {number_of_room}\". If there is enough chairs in each room print: \"Game On, {total_free_chairs} free chairs left\""
   ]
  },
  {
   "cell_type": "code",
   "execution_count": 5,
   "metadata": {},
   "outputs": [
    {
     "name": "stdout",
     "output_type": "stream",
     "text": [
      "4\n",
      "XXXX 4\n",
      "XX 1\n",
      "XXXXXX 3\n",
      "XXX 3\n",
      "Game On, 4 free chairs left\n"
     ]
    }
   ],
   "source": [
    "rooms = int(input())\n",
    "\n",
    "all_chairs = 0\n",
    "all_people = 0\n",
    "\n",
    "for room in range(1, rooms + 1):\n",
    "    chairs, people = input().split()\n",
    "    chairs = len(chairs)\n",
    "    difference = abs(int(people) - int(chairs))\n",
    "\n",
    "    if int(people) > int(chairs):\n",
    "        print(f\"{difference} more chairs needed in room {room}\")\n",
    "\n",
    "    all_chairs += int(chairs)\n",
    "    all_people += int(people)\n",
    "\n",
    "if all_chairs >= all_people:\n",
    "    print(f\"Game On, {all_chairs - all_people} free chairs left\")"
   ]
  },
  {
   "cell_type": "markdown",
   "metadata": {},
   "source": [
    "## 5.\tElectron Distribution"
   ]
  },
  {
   "cell_type": "markdown",
   "metadata": {},
   "source": [
    "You are a mad scientist and you decided to play with electron distribution among atom's shells. You know that basic idea of electron distribution is that electrons should fill a shell until it's holding the maximum number of electrons."
   ]
  },
  {
   "cell_type": "markdown",
   "metadata": {},
   "source": [
    "The rules for electron distribution are as follows:\n",
    "- Maximum number of electrons in a shell is distributed with a rule of 2n^2 (n being position of a shell a.k.a. the list index + 1).\n",
    "- For example, maximum number of electrons in 3rd shield is 2*3^2 = 18.\n",
    "- Electrons should fill the lowest level shell first.\n",
    "- If the electrons have completely filled the lowest level shell, the other unoccupied electrons will fill the higher level shell and so on."
   ]
  },
  {
   "cell_type": "code",
   "execution_count": 6,
   "metadata": {},
   "outputs": [
    {
     "name": "stdout",
     "output_type": "stream",
     "text": [
      "44\n",
      "[2, 8, 18, 16]\n"
     ]
    }
   ],
   "source": [
    "electrons = int(input())\n",
    "\n",
    "index = 0\n",
    "shell_list = []\n",
    "\n",
    "while electrons > 0:\n",
    "    index += 1\n",
    "    max_num_electrons = 2 * index ** 2\n",
    "    if electrons >= max_num_electrons:\n",
    "        shell_list.append(max_num_electrons)\n",
    "        electrons -= max_num_electrons\n",
    "    else:\n",
    "        shell_list.append(electrons)\n",
    "        electrons -= max_num_electrons\n",
    "\n",
    "print(shell_list)"
   ]
  },
  {
   "cell_type": "markdown",
   "metadata": {},
   "source": [
    "## 6.\tGroup of 10's"
   ]
  },
  {
   "cell_type": "markdown",
   "metadata": {},
   "source": [
    "Write a program that receives a list of numbers (string containing integers separated by \", \") and prints lists with the numbers them into lists of 10's. "
   ]
  },
  {
   "cell_type": "markdown",
   "metadata": {},
   "source": [
    "Examples:\n",
    "- The numbers 2 8 4 3 fall into the group under 10\n",
    "- The numbers 13 19 14 15 fall into the group under 20"
   ]
  },
  {
   "cell_type": "code",
   "execution_count": 7,
   "metadata": {},
   "outputs": [
    {
     "name": "stdout",
     "output_type": "stream",
     "text": [
      "8, 12, 38, 3, 17, 19, 25, 35, 50\n",
      "Group of 10's: [8, 3]\n",
      "Group of 20's: [12, 17, 19]\n",
      "Group of 30's: [25]\n",
      "Group of 40's: [38, 35]\n",
      "Group of 50's: [50]\n"
     ]
    }
   ],
   "source": [
    "numbers = input().split(\", \")\n",
    "numbers = [int(el) for el in numbers]\n",
    "\n",
    "max_element_in_numbers = max(numbers)\n",
    "\n",
    "for i in range(10, max_element_in_numbers + 10, 10):\n",
    "    my_list = list(filter((lambda x: i - 10 < x <= i), numbers))\n",
    "    print(f\"Group of {i}'s: {my_list}\")\n",
    "    my_list.clear()"
   ]
  },
  {
   "cell_type": "markdown",
   "metadata": {},
   "source": [
    "## 7.\tDecipher This"
   ]
  },
  {
   "cell_type": "markdown",
   "metadata": {},
   "source": [
    "You are given a secret message you need to decipher. Here are the things you need to know to decipher it:"
   ]
  },
  {
   "cell_type": "markdown",
   "metadata": {},
   "source": [
    "For each word:\n",
    "•\tthe second and the last letter are switched (e.g. Hello becomes Holle)\n",
    "•\tthe first letter is replaced by its character code (e.g. H becomes 72)"
   ]
  },
  {
   "cell_type": "code",
   "execution_count": 8,
   "metadata": {},
   "outputs": [
    {
     "name": "stdout",
     "output_type": "stream",
     "text": [
      "72olle 103doo 100ya\n",
      "Hello good day\n"
     ]
    }
   ],
   "source": [
    "message = input().split()\n",
    "\n",
    "message = [chr(int(el[:3])) + el[3:] if el[2].isdigit() else chr(int(el[:2])) + el[2:] for el in message]\n",
    "\n",
    "final_message = []\n",
    "\n",
    "for el in message:\n",
    "    temp_list = [el[i] for i in range(len(el))]\n",
    "    temp_list[1], temp_list[-1] = temp_list[-1], temp_list[1]\n",
    "    final_message.append(\"\".join(temp_list))\n",
    "    temp_list.clear()\n",
    "\n",
    "print(\" \".join(final_message))"
   ]
  },
  {
   "cell_type": "markdown",
   "metadata": {},
   "source": [
    "## 8.\t* Moving Target"
   ]
  },
  {
   "cell_type": "markdown",
   "metadata": {},
   "source": [
    "You are at the shooting gallery again and you need a program that helps you keep track of moving targets. On the first line, you will receive a sequence of targets with their integer values, split by a single space. Then, you will start receiving commands for manipulating the targets, until the \"End\" command. The commands are the following:"
   ]
  },
  {
   "cell_type": "markdown",
   "metadata": {},
   "source": [
    "- Shoot {index} {power}\n",
    "  - Shoot the target at the index, if it exists by reducing its value by the given power (integer value).A target is considered shot when its value reaches 0.\n",
    "  - Remove the target, if it is shot.\n",
    "- Add {index} {value}\n",
    "  - Insert a target with the received value at the received index, if it exist. If not, print: \"Invalid placement!\"\n",
    "- Strike {index} {radius}\n",
    "  - Remove the target at the given index and the ones before and after it depending on the radius, if such exist. If any of the indices in the range is invalid print:\n",
    "  - \"Strike missed!\" and skip this command."
   ]
  },
  {
   "cell_type": "markdown",
   "metadata": {},
   "source": [
    " Example:  Strike 2 2: {radius}\t{radius}\t{strikeIndex}\t{radius}\t{radius}"
   ]
  },
  {
   "cell_type": "markdown",
   "metadata": {},
   "source": [
    "- End\n",
    "  - Print the sequence with targets in the following format: {target1}|{target2}…|{targetn}"
   ]
  },
  {
   "cell_type": "markdown",
   "metadata": {},
   "source": [
    "### Input / Constraints"
   ]
  },
  {
   "cell_type": "markdown",
   "metadata": {},
   "source": [
    "- On the first line you will receive the sequence of targets – integer values [1-10000].\n",
    "- On the next lines, until the \"End\" will be receiving the command described above – strings.\n",
    "- There will never be a case when \"Strike\" command would empty the whole sequence."
   ]
  },
  {
   "cell_type": "markdown",
   "metadata": {},
   "source": [
    "### Output"
   ]
  },
  {
   "cell_type": "markdown",
   "metadata": {},
   "source": [
    "- Print the appropriate message in case of \"Strike\" command if necessary.\n",
    "- In the end, print the sequence of targets in the format described above."
   ]
  },
  {
   "cell_type": "code",
   "execution_count": 1,
   "metadata": {},
   "outputs": [
    {
     "name": "stdout",
     "output_type": "stream",
     "text": [
      "52 74 23 44 96 110\n",
      "Shoot 5 10\n",
      "Shoot 1 80\n",
      "Strike 2 1\n",
      "Add 22 3\n",
      "Invalid placement!\n",
      "End\n",
      "52|100\n"
     ]
    }
   ],
   "source": [
    "target_sequence = input().split()\n",
    "target_sequence = [int(el) for el in target_sequence]\n",
    "\n",
    "command = input().split()\n",
    "\n",
    "while command[0] != \"End\":\n",
    "    index = int(command[1])\n",
    "    value = int(command[2])\n",
    "    if (command[0]) == \"Shoot\":\n",
    "        if 0 <= index < len(target_sequence):\n",
    "            target_sequence[index] -= value\n",
    "            if target_sequence[index] <= 0:\n",
    "                target_sequence.pop(index)\n",
    "\n",
    "    elif (command[0]) == \"Add\":\n",
    "        if 0 <= index < len(target_sequence):\n",
    "            target_sequence.insert(index, value)\n",
    "        else:\n",
    "            print(\"Invalid placement!\")\n",
    "\n",
    "    elif (command[0]) == \"Strike\":\n",
    "        if index + value < len(target_sequence) and index - value >= 0:\n",
    "            start_index = index - value\n",
    "            end_index = index + value + 1\n",
    "            target_sequence_strike = target_sequence[:start_index] + target_sequence[end_index:]\n",
    "            target_sequence = target_sequence_strike\n",
    "        else:\n",
    "            print(\"Strike missed!\")\n",
    "\n",
    "    command = input().split()\n",
    "\n",
    "target_sequence = [str(el) for el in target_sequence]\n",
    "\n",
    "print(\"|\".join(target_sequence))"
   ]
  },
  {
   "cell_type": "markdown",
   "metadata": {},
   "source": [
    "## 9.\t* Heart Delivery"
   ]
  },
  {
   "cell_type": "markdown",
   "metadata": {},
   "source": [
    "You will receive a string with even integers, separated by a \"@\". This is our neighborhood. After that a series of Jump commands will follow, until you receive \"Love!\" Every house in the neighborhood needs a certain number of hearts delivered by Cupid, in order to be able to celebrate Valentine’s Day. Those needed hearts are indicated by the integers in the neighborhood."
   ]
  },
  {
   "cell_type": "markdown",
   "metadata": {},
   "source": [
    "Cupid starts at the position of the first house (index 0) and must jump by a given length. The jump commands will be in this format: \"Jump {length}\". "
   ]
  },
  {
   "cell_type": "markdown",
   "metadata": {},
   "source": [
    "Every time he jumps from one house to another, the needed hearts for the visited house are decreased by 2. If the needed hearts for a certain house become equal to 0 , print on the console \"Place {houseIndex} has Valentine's day.\" If Cupid jumps to a house where the needed hearts are already 0, print on the console \"Place {houseIndex} already had Valentine's day.\"."
   ]
  },
  {
   "cell_type": "markdown",
   "metadata": {},
   "source": [
    "Keep in mind that Cupid can have a bigger jump length than the size of the neighborhood and if he does jump outside of it, he should start from the first house again. "
   ]
  },
  {
   "cell_type": "markdown",
   "metadata": {},
   "source": [
    "For example, we are given this neighborhood: 6@6@6. Cupid is at the start and jumps with a length of 2. He will end up at index 2 and decrease the needed hearts there by 2: [6, 6, 4]. Next he jumps again with a length of 2 and goes outside the neighborhood, so he goes back to the first house (index 0) and again decreases the needed hearts there: [4, 6, 4]."
   ]
  },
  {
   "cell_type": "markdown",
   "metadata": {},
   "source": [
    "### Input"
   ]
  },
  {
   "cell_type": "markdown",
   "metadata": {},
   "source": [
    "- On the first line you will receive a string with even integers separated by \"@\" – the neighborhood and the number of hearts for each house.\n",
    "- On the next lines, until \"Love!\" is received, you will be getting jump commands in this format: \"Jump {length}\"."
   ]
  },
  {
   "cell_type": "markdown",
   "metadata": {},
   "source": [
    "### Output"
   ]
  },
  {
   "cell_type": "markdown",
   "metadata": {},
   "source": [
    "At the end print Cupid's last position and whether his mission was successful or not:\n",
    "- \"Cupid's last position was {lastPositionIndex}.\"\n",
    "- If each house has had a Valentine's day, print: \n",
    "  - \"Mission was successful.\"\n",
    "- If not, print the count of all houses that didn`t celebrate a Valentine's Day:\n",
    "  -\"Cupid has failed {houseCount} places.\""
   ]
  },
  {
   "cell_type": "markdown",
   "metadata": {},
   "source": [
    "### Constraints"
   ]
  },
  {
   "cell_type": "markdown",
   "metadata": {},
   "source": [
    "- The neighborhood`s size will be in the range [1…20]\n",
    "- Each house will need an even number of hearts in the range [2 … 10]\n",
    "- Each jump length will be an integer in the range [1 … 20]"
   ]
  },
  {
   "cell_type": "code",
   "execution_count": 3,
   "metadata": {},
   "outputs": [
    {
     "name": "stdout",
     "output_type": "stream",
     "text": [
      "10@10@10@2\n",
      "Jump 1\n",
      "Jump 2\n",
      "Place 3 has Valentine's day.\n",
      "Love!\n",
      "Cupid's last position was 3.\n",
      "Cupid has failed 3 places.\n"
     ]
    }
   ],
   "source": [
    "neighborhood = input().split(\"@\")\n",
    "neighborhood = [int(element) for element in neighborhood]\n",
    "\n",
    "command = input().split()\n",
    "\n",
    "jump = 0\n",
    "position = 0\n",
    "\n",
    "while command[0] != \"Love!\":\n",
    "    jump += int(command[1])\n",
    "    if jump >= len(neighborhood):\n",
    "        jump = 0\n",
    "\n",
    "    for i in range(len(neighborhood)):\n",
    "        if jump == i:\n",
    "            if neighborhood[i] <= 0:\n",
    "                print(f\"Place {i} already had Valentine's day.\")\n",
    "            else:\n",
    "                neighborhood[i] -= 2\n",
    "                if neighborhood[i] <= 0:\n",
    "                    print(f\"Place {i} has Valentine's day.\")\n",
    "            position = i\n",
    "            break\n",
    "    command = input().split()\n",
    "\n",
    "print(f\"Cupid's last position was {position}.\")\n",
    "\n",
    "if sum(neighborhood) == 0:\n",
    "    print(\"Mission was successful.\")\n",
    "else:\n",
    "    neighborhood = [el for el in neighborhood if el != 0]\n",
    "    print(f\"Cupid has failed {len(neighborhood)} places.\")"
   ]
  },
  {
   "cell_type": "markdown",
   "metadata": {},
   "source": [
    "## 10.\t* Inventory"
   ]
  },
  {
   "cell_type": "markdown",
   "metadata": {},
   "source": [
    "As a young traveler, you gather items and craft new items."
   ]
  },
  {
   "cell_type": "markdown",
   "metadata": {},
   "source": [
    "### Input / Constraints"
   ]
  },
  {
   "cell_type": "markdown",
   "metadata": {},
   "source": [
    "You will receive a journal with some Collecting items, separated with ', ' (comma and space). After that, until receiving \"Craft!\" you will be receiving different commands. "
   ]
  },
  {
   "cell_type": "markdown",
   "metadata": {},
   "source": [
    "Commands (split by \" - \"):\n",
    "- \"Collect - {item}\" – Receiving this command, you should add the given item in your inventory. If the item already exists, you should skip this line.\n",
    "- \"Drop - {item}\" – You should remove the item from your inventory, if it exists.\n",
    "- \"Combine Items - {oldItem}:{newItem}\" – You should check if the old item exists, if so, add the new item after the old one. Otherwise, ignore the command.\n",
    "- \"Renew – {item}\" – If the given item exists, you should change its position and put it last in your inventory."
   ]
  },
  {
   "cell_type": "markdown",
   "metadata": {},
   "source": [
    "### Output"
   ]
  },
  {
   "cell_type": "markdown",
   "metadata": {},
   "source": [
    "After receiving \"Craft!\" print the items in your inventory, separated by \", \" (comma and space)."
   ]
  },
  {
   "cell_type": "code",
   "execution_count": 5,
   "metadata": {},
   "outputs": [
    {
     "name": "stdout",
     "output_type": "stream",
     "text": [
      "Iron, Sword\n",
      "Drop - Bronze\n",
      "Combine Items - Sword:Bow\n",
      "Renew - Iron\n",
      "Craft!\n",
      "Sword, Bow, Iron\n"
     ]
    }
   ],
   "source": [
    "items = input().split(\", \")\n",
    "\n",
    "command = input().split(\" - \")\n",
    "\n",
    "while command[0] != \"Craft!\":\n",
    "    item = command[1]\n",
    "    action = command[0]\n",
    "\n",
    "    if action == \"Collect\":\n",
    "        if item not in items:\n",
    "            items.append(item)\n",
    "    elif action == \"Drop\":\n",
    "        if item in items:\n",
    "            items.remove(item)\n",
    "    elif action == \"Combine Items\":\n",
    "        item = item.split(\":\")\n",
    "        if item[0] in items:\n",
    "            insert_index = items.index(item[0]) + 1\n",
    "            items.insert(insert_index, item[1])\n",
    "    elif action == \"Renew\":\n",
    "        if item in items:\n",
    "            item_to_move = items.pop(items.index(item))\n",
    "            items.append(item_to_move)\n",
    "\n",
    "    command = input().split(\" - \")\n",
    "\n",
    "print(\", \".join(items))"
   ]
  }
 ],
 "metadata": {
  "kernelspec": {
   "display_name": "Python 3",
   "language": "python",
   "name": "python3"
  },
  "language_info": {
   "codemirror_mode": {
    "name": "ipython",
    "version": 3
   },
   "file_extension": ".py",
   "mimetype": "text/x-python",
   "name": "python",
   "nbconvert_exporter": "python",
   "pygments_lexer": "ipython3",
   "version": "3.8.3"
  }
 },
 "nbformat": 4,
 "nbformat_minor": 4
}
