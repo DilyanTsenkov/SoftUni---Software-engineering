{
 "cells": [
  {
   "cell_type": "markdown",
   "metadata": {},
   "source": [
    "More Exercises"
   ]
  },
  {
   "cell_type": "markdown",
   "metadata": {},
   "source": [
    "# Basic Syntax, Conditional Statements and Loops"
   ]
  },
  {
   "cell_type": "markdown",
   "metadata": {},
   "source": [
    "## 1.\tFind the Largest"
   ]
  },
  {
   "cell_type": "markdown",
   "metadata": {},
   "source": [
    "Given a number, print the largest number that can be formed from the digits of the given number."
   ]
  },
  {
   "cell_type": "code",
   "execution_count": 1,
   "metadata": {},
   "outputs": [
    {
     "name": "stdout",
     "output_type": "stream",
     "text": [
      "7389\n",
      "9873"
     ]
    }
   ],
   "source": [
    "number = input()\n",
    "\n",
    "tank = []\n",
    "\n",
    "for i in number:\n",
    "    tank.append(int(i))\n",
    "tank.sort(reverse=True)\n",
    "for n in range(len(tank)):\n",
    "    print(tank[n], end=\"\")"
   ]
  },
  {
   "cell_type": "markdown",
   "metadata": {},
   "source": [
    "## 2.\tFind the Capitals"
   ]
  },
  {
   "cell_type": "markdown",
   "metadata": {},
   "source": [
    "Write a program that takes a single string and prints a list of all the indices of all the capital letters."
   ]
  },
  {
   "cell_type": "code",
   "execution_count": 2,
   "metadata": {},
   "outputs": [
    {
     "name": "stdout",
     "output_type": "stream",
     "text": [
      "CApiTAls\n",
      "[0, 1, 4, 5]\n"
     ]
    }
   ],
   "source": [
    "string = input()\n",
    "\n",
    "result = []\n",
    "counter = 0\n",
    "\n",
    "for char in string:\n",
    "    if 65 <= ord(char) <= 90:\n",
    "        result.append(counter)\n",
    "    counter += 1\n",
    "    \n",
    "print(result)"
   ]
  },
  {
   "cell_type": "markdown",
   "metadata": {},
   "source": [
    "## 3.\tWolf in Sheep's Clothing"
   ]
  },
  {
   "cell_type": "markdown",
   "metadata": {},
   "source": [
    "Wolves have been reintroduced to Great Britain. You are a sheep farmer and are now plagued by wolves which pretend to be sheep. Fortunately, you are good at spotting them.\n",
    "Warn the sheep in front of the wolf that it is about to be eaten. Remember that you are standing at the front of the queue which is at the end of the list:\n",
    "- [sheep, sheep, wolf, sheep, sheep] (YOU ARE HERE AT THE FRONT OF THE QUEUE)\n",
    "-    4      3     _       2      1\n",
    "- If the wolf is the closest animal to you, print \"Please go away and stop eating my sheep\". Otherwise, return \"Oi! Sheep number N! You are about to be eaten by a wolf!\" where N is the sheep's position in the queue.\n",
    "- Note: there will always be exactly one wolf in the list.\n"
   ]
  },
  {
   "cell_type": "code",
   "execution_count": 3,
   "metadata": {},
   "outputs": [
    {
     "name": "stdout",
     "output_type": "stream",
     "text": [
      "wolf, sheep, sheep, sheep, sheep, sheep\n",
      "Oi! Sheep number 5! You are about to be eaten by a wolf!\n"
     ]
    }
   ],
   "source": [
    "string = input()\n",
    "\n",
    "list_of_sheep = string.split(\", \")\n",
    "list_of_sheep.reverse()\n",
    "index = list_of_sheep.index(\"wolf\")\n",
    "\n",
    "if index == 0:\n",
    "    print(\"Please go away and stop eating my sheep\")\n",
    "else:\n",
    "    print(f\"Oi! Sheep number {index}! You are about to be eaten by a wolf!\")"
   ]
  },
  {
   "cell_type": "markdown",
   "metadata": {},
   "source": [
    "## 4.\tSum of a Beach"
   ]
  },
  {
   "cell_type": "markdown",
   "metadata": {},
   "source": [
    "Beaches are filled with sand, water, fish, and sun. Given a string, calculate how many times the words \"Sand\", \"Water\", \"Fish\", and \"Sun\" appear (case insensitive)."
   ]
  },
  {
   "cell_type": "code",
   "execution_count": 4,
   "metadata": {},
   "outputs": [
    {
     "name": "stdout",
     "output_type": "stream",
     "text": [
      "GolDeNSanDyWateRyBeaChSuNN\n",
      "3\n"
     ]
    }
   ],
   "source": [
    "beach = input().lower()\n",
    "\n",
    "counter = 0\n",
    "counter += beach.count(\"water\")\n",
    "counter += beach.count(\"fish\")\n",
    "counter += beach.count(\"sun\")\n",
    "counter += beach.count(\"sand\")\n",
    "\n",
    "print(counter)"
   ]
  },
  {
   "cell_type": "markdown",
   "metadata": {},
   "source": [
    "## 5.\tHow Much Coffee Do You Need?"
   ]
  },
  {
   "cell_type": "markdown",
   "metadata": {},
   "source": [
    "- Everybody knows that you passed to much time awake during night time...\n",
    "- Your task is to define how much coffee you need to stay awake after your night. Until you receive the command \"END\", you need to read a single command. According to this command you will print the number of coffee you need to stay awake during day time. \n",
    "- Note: If the count exceeds 5 please return 'You need extra sleep'.\n",
    "- The list of events can contain the following:\n",
    "- You have homework to do ('coding').\n",
    "- You have a dog or a cat that just decided to wake up too early ('dog' or 'cat').\n",
    "- You just watch a movie ('movie').\n",
    "- Other events can be present and it will be represent by arbitrary string, just ignore this one.\n",
    "- Each event can be lowercase, or uppercase. If it is lowercase you need 1 coffee by event and if it is uppercase you need 2 coffees.\n"
   ]
  },
  {
   "cell_type": "code",
   "execution_count": 5,
   "metadata": {},
   "outputs": [
    {
     "name": "stdout",
     "output_type": "stream",
     "text": [
      "dog\n",
      "CAT\n",
      "gaming\n",
      "END\n",
      "3\n"
     ]
    }
   ],
   "source": [
    "event_list_up = []\n",
    "event_list_low = []\n",
    "\n",
    "while True:\n",
    "    event = input()\n",
    "    if event == \"END\":\n",
    "        break\n",
    "    elif event == \"coding\" or event == \"dog\" or event == \"cat\" or event == \"movie\" or event == \"CODING\" or event == \"DOG\" or event == \"CAT\" or event == \"MOVIE\":\n",
    "        if (event[0].isupper()) == True:\n",
    "            event_list_up.append(event)\n",
    "        else:\n",
    "            event_list_low.append(event)\n",
    "coffee = len(event_list_up) * 2 + len(event_list_low)\n",
    "\n",
    "if coffee > 5:\n",
    "    print(\"You need extra sleep\")\n",
    "else:\n",
    "    print(coffee)"
   ]
  }
 ],
 "metadata": {
  "kernelspec": {
   "display_name": "Python 3",
   "language": "python",
   "name": "python3"
  },
  "language_info": {
   "codemirror_mode": {
    "name": "ipython",
    "version": 3
   },
   "file_extension": ".py",
   "mimetype": "text/x-python",
   "name": "python",
   "nbconvert_exporter": "python",
   "pygments_lexer": "ipython3",
   "version": "3.8.3"
  }
 },
 "nbformat": 4,
 "nbformat_minor": 4
}
