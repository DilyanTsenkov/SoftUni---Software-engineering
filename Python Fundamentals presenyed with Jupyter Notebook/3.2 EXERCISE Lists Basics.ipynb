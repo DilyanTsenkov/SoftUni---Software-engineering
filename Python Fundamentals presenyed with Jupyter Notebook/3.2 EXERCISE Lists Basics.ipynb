{
 "cells": [
  {
   "cell_type": "markdown",
   "metadata": {},
   "source": [
    "#### 02.10.2020 EXERCISE:"
   ]
  },
  {
   "cell_type": "markdown",
   "metadata": {},
   "source": [
    "# Lists Basics"
   ]
  },
  {
   "cell_type": "markdown",
   "metadata": {},
   "source": [
    "## 1.\tInvert Values"
   ]
  },
  {
   "cell_type": "markdown",
   "metadata": {},
   "source": [
    "Write a program that receives a single string containing numbers separated by a single space. Print a list containing the opposite of each number."
   ]
  },
  {
   "cell_type": "code",
   "execution_count": 2,
   "metadata": {},
   "outputs": [
    {
     "name": "stdout",
     "output_type": "stream",
     "text": [
      "-4 0 2 57 -101\n",
      "[4, 0, -2, -57, 101]\n"
     ]
    }
   ],
   "source": [
    "string = input()\n",
    "string_list = string.split()\n",
    "string_list_print = []\n",
    "\n",
    "for index in range(len(string_list)):\n",
    "    number = int(string_list[index]) * -1\n",
    "    string_list_print.append(number)\n",
    "    \n",
    "print(string_list_print)"
   ]
  },
  {
   "cell_type": "markdown",
   "metadata": {},
   "source": [
    "## 2.\tMultiples List"
   ]
  },
  {
   "cell_type": "markdown",
   "metadata": {},
   "source": [
    "Write a program that receives two numbers (factor and count) and creates a list with length of the given count and contains only elements that are multiples of the given factor."
   ]
  },
  {
   "cell_type": "code",
   "execution_count": 4,
   "metadata": {},
   "outputs": [
    {
     "name": "stdout",
     "output_type": "stream",
     "text": [
      "1\n",
      "10\n",
      "[1, 2, 3, 4, 5, 6, 7, 8, 9, 10]\n"
     ]
    }
   ],
   "source": [
    "first_number = int(input())\n",
    "second_number = int(input())\n",
    "\n",
    "numbers_list = []\n",
    "\n",
    "for num in range(1, (first_number * second_number) + 1):\n",
    "    if num % first_number == 0:\n",
    "        numbers_list.append(num)\n",
    "        \n",
    "print(numbers_list)"
   ]
  },
  {
   "cell_type": "markdown",
   "metadata": {},
   "source": [
    "## 3.\tFootball Cards"
   ]
  },
  {
   "cell_type": "markdown",
   "metadata": {},
   "source": [
    "Most football fans love it for the goals and excitement. Well, this problem doesn't. You are to handle the referee's little notebook and count the players who were sent off for fouls and misbehavior.\n",
    "- The rules: Two teams, named \"A\" and \"B\" have 11 players each. The players on each team are numbered from 1 to 11. Any player may be sent off the field by being given a red card. If one of the teams has less than 7 players remaining, the game is stopped immediately by the referee, and the team with less than 7 players loses.\n",
    "- A card is a string with the team's letter ('A' or 'B') followed by a single dash and player's number. e.g. the card 'B-7' means player #7 from team B received a card.\n",
    "- The task: Given a list of cards (could be empty), return the number of remaining players on each team at the end of the game in the format: \"Team A - {players_count}; Team B - {players_count}\". If the game was terminated print an additional line: \"Game was terminated\"\n",
    "- Note for the random tests: If a player that has already been sent off receives another card - ignore it."
   ]
  },
  {
   "cell_type": "markdown",
   "metadata": {},
   "source": [
    "### Input"
   ]
  },
  {
   "cell_type": "markdown",
   "metadata": {},
   "source": [
    "The input (the cards) will come on a single line separated by a single space."
   ]
  },
  {
   "cell_type": "markdown",
   "metadata": {},
   "source": [
    "### Output"
   ]
  },
  {
   "cell_type": "markdown",
   "metadata": {},
   "source": [
    "Print the remaining players as described above and add another line (as shown above) if the game was terminated."
   ]
  },
  {
   "cell_type": "code",
   "execution_count": 5,
   "metadata": {},
   "outputs": [
    {
     "name": "stdout",
     "output_type": "stream",
     "text": [
      "A-1 A-5 A-10 B-2 A-10 A-7 A-3\n",
      "Team A - 6; Team B - 10\n",
      "Game was terminated\n"
     ]
    }
   ],
   "source": [
    "cards_input = set(input().split())\n",
    "\n",
    "players_A_team = 11\n",
    "players_B_team = 11\n",
    "terminated = False\n",
    "\n",
    "for card in cards_input:\n",
    "    \n",
    "    if card[0] == \"A\":\n",
    "        players_A_team -= 1\n",
    "    else:\n",
    "        players_B_team -= 1\n",
    "        \n",
    "    if players_B_team < 7 or players_A_team < 7:\n",
    "        terminated = True\n",
    "        break\n",
    "        \n",
    "print(f\"Team A - {players_A_team}; Team B - {players_B_team}\")\n",
    "\n",
    "if terminated:\n",
    "    print(\"Game was terminated\")"
   ]
  },
  {
   "cell_type": "markdown",
   "metadata": {},
   "source": [
    "## 4.\tNumber Beggars"
   ]
  },
  {
   "cell_type": "markdown",
   "metadata": {},
   "source": [
    "Your task here is pretty simple: given a list of numbers and a number of beggars, you are supposed to return a list with the sum of what each beggar brings home, assuming they all take regular turns, from the first to the last.\n",
    "- For example: [1,2,3,4,5] for 2 beggars will return a result of 9 and 6, as the first one takes [1,3,5], the second collects [2,4].\n",
    "- The same list with 3 beggars would produce a better outcome for the second beggar: 5, 7 and 3, as they will respectively take [1, 4], [2, 5] and [3].\n",
    "- Also note that not all beggars have to take the same amount of \"offers\", meaning that the length of the list is not necessarily a multiple of n; length can be even shorter, in which case the last beggars will of course take nothing (0)."
   ]
  },
  {
   "cell_type": "markdown",
   "metadata": {},
   "source": [
    "### Input"
   ]
  },
  {
   "cell_type": "markdown",
   "metadata": {},
   "source": [
    "You will receive 2 lines of input: a single string containing the numbers separated by a comma and a space \", \". On the second line you will receive the number of beggars."
   ]
  },
  {
   "cell_type": "markdown",
   "metadata": {},
   "source": [
    "### Output"
   ]
  },
  {
   "cell_type": "markdown",
   "metadata": {},
   "source": [
    "Print a list of all the sums that each beggar got."
   ]
  },
  {
   "cell_type": "code",
   "execution_count": 7,
   "metadata": {},
   "outputs": [
    {
     "name": "stdout",
     "output_type": "stream",
     "text": [
      "100, 94, 24, 99\n",
      "5\n",
      "[100, 94, 24, 99, 0]\n"
     ]
    }
   ],
   "source": [
    "numbers_list = input().split(\", \")\n",
    "beggars = int(input())\n",
    "\n",
    "numbers_list_print = []\n",
    "begin_from = 0\n",
    "sum_numbers = 0\n",
    "\n",
    "for beggar in range(beggars):\n",
    "    \n",
    "    for i in range(begin_from, len(numbers_list), beggars):\n",
    "        sum_numbers += int(numbers_list[i])\n",
    "        \n",
    "    numbers_list_print.append(sum_numbers)\n",
    "    sum_numbers = 0\n",
    "    begin_from += 1\n",
    "    \n",
    "print(numbers_list_print)"
   ]
  },
  {
   "cell_type": "markdown",
   "metadata": {},
   "source": [
    "## 5.\tFaro Shuffle"
   ]
  },
  {
   "cell_type": "markdown",
   "metadata": {},
   "source": [
    "A faro shuffle of a deck of playing cards is a shuffle in which the deck is split exactly in half and then the cards in the two halves are perfectly interwoven, such that the original bottom card is still on the bottom and the original top card is still on top.\n",
    "- For example, faro shuffling the list\n",
    "- ['ace', 'two', 'three', 'four', 'five', 'six'] once, gives ['ace', 'four', 'two', 'five', 'three', 'six']\n",
    "- Write a program that receives a single string (cards separated by space) and on the second line receives a number of faro shuffles that have to be made. Print the state of the deck after the shuffle.\n",
    "- Note: The length of the deck of cards will always be an even number"
   ]
  },
  {
   "cell_type": "code",
   "execution_count": 8,
   "metadata": {},
   "outputs": [
    {
     "name": "stdout",
     "output_type": "stream",
     "text": [
      "one two three four\n",
      "3\n",
      "['one', 'three', 'two', 'four']\n"
     ]
    }
   ],
   "source": [
    "cards = input().split(\" \")\n",
    "shuffles = int(input())\n",
    "\n",
    "new_card_list_print = []\n",
    "new_card_list = []\n",
    "slice_place = int(len(cards) / 2)\n",
    "first_half_cards_list = cards[:slice_place]\n",
    "second_half_cards_list = cards[slice_place:]\n",
    "\n",
    "for shuffle in range(shuffles):\n",
    "\n",
    "    for card in range(slice_place):\n",
    "        new_card_list.append(first_half_cards_list[card])\n",
    "        new_card_list.append(second_half_cards_list[card])\n",
    "\n",
    "    first_half_cards_list = new_card_list[:slice_place]\n",
    "    second_half_cards_list = new_card_list[slice_place:]\n",
    "    new_card_list_print = new_card_list\n",
    "    new_card_list = []\n",
    "\n",
    "print(new_card_list_print)"
   ]
  },
  {
   "cell_type": "markdown",
   "metadata": {},
   "source": [
    "## 6.\tSurvival of the Biggest"
   ]
  },
  {
   "cell_type": "markdown",
   "metadata": {},
   "source": [
    "Write a program that receives a list of integer numbers and a number n. The number n represents the amount of numbers to remove from the list. You should remove the smallest ones."
   ]
  },
  {
   "cell_type": "markdown",
   "metadata": {},
   "source": [
    "### Input"
   ]
  },
  {
   "cell_type": "markdown",
   "metadata": {},
   "source": [
    "On the first line you will receive a string (numbers separated by a space), on the second line you will receive a number n (count of numbers to remove)."
   ]
  },
  {
   "cell_type": "markdown",
   "metadata": {},
   "source": [
    "### Output"
   ]
  },
  {
   "cell_type": "markdown",
   "metadata": {},
   "source": [
    "Print all the numbers that are left in the list."
   ]
  },
  {
   "cell_type": "code",
   "execution_count": 9,
   "metadata": {},
   "outputs": [
    {
     "name": "stdout",
     "output_type": "stream",
     "text": [
      "1 10 2 9 3 8\n",
      "2\n",
      "[10, 9, 3, 8]\n"
     ]
    }
   ],
   "source": [
    "string_of_numbers = input()\n",
    "number = int(input())\n",
    "\n",
    "list_of_numbers = string_of_numbers.split(\" \")\n",
    "\n",
    "for i in range(len(list_of_numbers)):\n",
    "    list_of_numbers[i] = int(list_of_numbers[i])\n",
    "    \n",
    "for n in range(number):\n",
    "    min_number = min(list_of_numbers)\n",
    "    list_of_numbers.remove(min_number)\n",
    "    \n",
    "print(list_of_numbers)"
   ]
  },
  {
   "cell_type": "markdown",
   "metadata": {},
   "source": [
    "## 7.\t* Easter Gifts"
   ]
  },
  {
   "cell_type": "markdown",
   "metadata": {},
   "source": [
    "As a good friend, you decide to buy presents for your friends.\n",
    "- Create a program that helps you plan the gifts for your friends and family. First, you are going to receive the gifts you plan on buying on a single line, separated by space, in the following format:\n",
    "- \"{gift1} {gift2} {gift3}… {giftn}\"\n",
    "- Then you will start receiving commands until you read the \"No Money\" message. There are three possible commands:\n",
    "- \"OutOfStock {gift}\"\n",
    "- Find the gifts with this name in your collection, if there are any, and change their values to \"None\".  \n",
    "- \"Required {gift} {index}\"\n",
    "- Replace the value of the current gift on the given index with this gift, if the index is valid. \n",
    "- \"JustInCase {gift}\"\n",
    "- Replace the value of your last gift with this one. \n",
    "- In the end, print the gifts on a single line, except the ones with value \"None\", separated by a single space in the following format:\n",
    "- \"{gift1} {gift2} {gift3}… {giftn}\""
   ]
  },
  {
   "cell_type": "markdown",
   "metadata": {},
   "source": [
    "### Input / Constraints"
   ]
  },
  {
   "cell_type": "markdown",
   "metadata": {},
   "source": [
    "- On the 1st line you are going to receive the names of the gifts, separated by a single space.\n",
    "- On the next lines, until the \"No Money\" command is received, you will be receiving commands.\n",
    "- The input will always be valid."
   ]
  },
  {
   "cell_type": "markdown",
   "metadata": {},
   "source": [
    "### Output"
   ]
  },
  {
   "cell_type": "markdown",
   "metadata": {},
   "source": [
    "- Print the gifts in the format described above."
   ]
  },
  {
   "cell_type": "code",
   "execution_count": 15,
   "metadata": {},
   "outputs": [
    {
     "name": "stdout",
     "output_type": "stream",
     "text": [
      "Eggs StuffedAnimal Cozonac Sweets EasterBunny Eggs Clothes\n",
      "OutOfStock Eggs\n",
      "Required Spoon 2\n",
      "JustInCase ChocolateEgg\n",
      "No Money\n",
      "StuffedAnimal Spoon Sweets EasterBunny ChocolateEgg\n"
     ]
    }
   ],
   "source": [
    "gifts_names = input().split(\" \")\n",
    "command = input()\n",
    "\n",
    "while command != \"No Money\":\n",
    "    command_list = command.split(\" \")\n",
    "\n",
    "    if command_list[0] == \"OutOfStock\":\n",
    "        if command_list[1] in gifts_names:\n",
    "            for i in range(len(gifts_names)):\n",
    "                if gifts_names[i] == command_list[1]:\n",
    "                    gifts_names[i] = \"None\"\n",
    "\n",
    "    elif command_list[0] == \"Required\" and int(command_list[2]) > 0 and int(command_list[2]) <= int(\n",
    "            len(gifts_names)) - 1:\n",
    "        gifts_names[int(command_list[2])] = command_list[1]\n",
    "\n",
    "    elif command_list[0] == \"JustInCase\":\n",
    "        gifts_names[int(len(gifts_names)) - 1] = command_list[1]\n",
    "    command = input()\n",
    "\n",
    "for n in range(len(gifts_names)):\n",
    "    if \"None\" in gifts_names:\n",
    "        gifts_names.remove(\"None\")\n",
    "\n",
    "gifts_names_print = \" \".join(gifts_names)\n",
    "\n",
    "print(gifts_names_print)"
   ]
  },
  {
   "cell_type": "markdown",
   "metadata": {},
   "source": [
    "# 8.\t* Seize the Fire"
   ]
  },
  {
   "cell_type": "markdown",
   "metadata": {},
   "source": [
    "The group of adventurists have gone on their first task. Now they have to walk through fire - literally. They have to use all of the water they have left. Your task is to help them survive.\n",
    "- Create a program that calculates the water that is needed to put out a \"fire cell\", based on the given information about its \"fire level\" and how much it gets affected by water.\n",
    "- First, you will be given the level of fire inside the cell with the integer value of the cell, which represents the needed water to put out the fire.  They will be given in the following format:\n",
    "- \"{typeOfFire} = {valueOfCell}#{typeOfFire} = {valueOfCell}#{typeOfFire} = {valueOfCell}……\"\n",
    "- Afterwards you will receive the amount of water you have for putting out the fires. There is a range of fire for each of the fire types, and if a cell’s value is below or exceeds it, it is invalid and you don’t need to put it out."
   ]
  },
  {
   "cell_type": "markdown",
   "metadata": {},
   "source": [
    "Type of Fire - Range\n",
    "- High 81 - 125\n",
    "- Medium 51 - 80\n",
    "- Low 1 - 50"
   ]
  },
  {
   "cell_type": "markdown",
   "metadata": {},
   "source": [
    "If a cell is valid, you have to put it out by reducing the water with its value. Putting out fire also takes effort and you need to calculate it. Its value is equal to 25% of the cell’s value. In the end you will have to print the total effort. Keep putting out cells until you run out of water. If you don’t have enough water to put out a given cell – skip it and try the next one. In the end, print the cells you have put out in the following format:"
   ]
  },
  {
   "cell_type": "markdown",
   "metadata": {},
   "source": [
    "\"Cells:\n",
    "- {cell1}\n",
    "- {cell2}\n",
    "- {cell3}\n",
    "- ……\n",
    "- {cellN}\"\n",
    "- \"Effort: {effort}\"\n",
    "- In the end, print the total fire you have put out from all of the cells in the following format: \"Total Fire: {totalFire}\""
   ]
  },
  {
   "cell_type": "markdown",
   "metadata": {},
   "source": [
    "### Input / Constraints"
   ]
  },
  {
   "cell_type": "markdown",
   "metadata": {},
   "source": [
    "On the 1st line you are going to receive the fires with their cells in the format described above – integer numbers in the range [1…500]\n",
    "- On the 2nd line, you are going to be given the water – an integer number in the range [0….100000]"
   ]
  },
  {
   "cell_type": "markdown",
   "metadata": {},
   "source": [
    "### Output"
   ]
  },
  {
   "cell_type": "markdown",
   "metadata": {},
   "source": [
    "Print the cells, which you have put out in the following format:"
   ]
  },
  {
   "cell_type": "code",
   "execution_count": 16,
   "metadata": {},
   "outputs": [
    {
     "name": "stdout",
     "output_type": "stream",
     "text": [
      "High = 89#Low = 28#Medium = 77#Low = 23\n",
      "1250\n",
      "Cells:\n",
      " - 89\n",
      " - 28\n",
      " - 77\n",
      " - 23\n",
      "Effort: 54.25\n",
      "Total Fire: 217\n"
     ]
    }
   ],
   "source": [
    "fire_list = input().split(\"#\")\n",
    "water = int(input())\n",
    "\n",
    "RANGE_HIGH = range(81, 126)\n",
    "RANGE_MED = range(51, 81)\n",
    "RANGE_LOW = range(1, 51)\n",
    "\n",
    "effort = 0\n",
    "fire_level_print = []\n",
    "\n",
    "for fire in fire_list:\n",
    "    type_of_fire, fire_level = fire.split(\" = \")\n",
    "    fire_level = int(fire_level)\n",
    "\n",
    "    is_valid = (type_of_fire == type_of_fire == \"High\" and fire_level in RANGE_HIGH) or (\n",
    "            type_of_fire == \"Medium\" and fire_level in RANGE_MED) or (type_of_fire == \"Low\" and fire_level in RANGE_LOW)\n",
    "\n",
    "    if is_valid and water >= fire_level:\n",
    "        water -= fire_level\n",
    "        fire_level_print.append(fire_level)\n",
    "        effort += fire_level\n",
    "\n",
    "print(\"Cells:\")\n",
    "\n",
    "for fire_level in fire_level_print:\n",
    "    print(f\" - {fire_level}\")\n",
    "    \n",
    "print(f\"Effort: {(effort * 0.25):.2f}\")\n",
    "print(f\"Total Fire: {effort}\")"
   ]
  },
  {
   "cell_type": "markdown",
   "metadata": {},
   "source": [
    "# 9.\t* Hello, France"
   ]
  },
  {
   "cell_type": "markdown",
   "metadata": {},
   "source": [
    "The budget was enough to get Ali and her friends to Frankfurt and they have some money left, but their final aim is to go to France, which means that they will need more finances. They’ve decided to make profit by buying items on discount from the Thrift Shop and selling them for a higher price. You must help them.\n",
    "- Create a program that calculates the profit after buying some items and selling them on a higher price. In order to fulfil that, you are going to need certain data - you will receive a collection of items and a budget in the following format:\n",
    "- {type->price|type->price|type->price……|type->price}\n",
    "- {budget}\n",
    "- The prices for each of the types cannot exceed a certain price, which is given bellow:"
   ]
  },
  {
   "cell_type": "markdown",
   "metadata": {},
   "source": [
    "Type - Maximum Price\n",
    "- Clothes 50.00\n",
    "- Shoes\t35.00\n",
    "- Accessories\t20.50"
   ]
  },
  {
   "cell_type": "markdown",
   "metadata": {},
   "source": [
    "- If a price for a certain item is higher than the maximum price, don’t buy it. Every time you buy an item, you have to reduce the budget with the value of its price. If you don’t have enough money for it, you can’t buy it. Buy as much items as you can.\n",
    "- You have to increase the price of each of the items you have successfully bought with 40%. Print the list with the new prices and the profit you will gain from selling the items. They need exactly 150$ for tickets for the train, so if their budget after selling the products is enough – print – \"Hello, France!\" and if not – \"Time to go.\""
   ]
  },
  {
   "cell_type": "markdown",
   "metadata": {},
   "source": [
    "### Input / Constraints"
   ]
  },
  {
   "cell_type": "markdown",
   "metadata": {},
   "source": [
    "- On the 1st line you are going to receive the items with their prices in the format described above – real numbers in the range [0.00……1000.00]\n",
    "- On the 2nd line, you are going to be given the budget – a real number in the range [0.0….1000.0]"
   ]
  },
  {
   "cell_type": "markdown",
   "metadata": {},
   "source": [
    "### Output"
   ]
  },
  {
   "cell_type": "markdown",
   "metadata": {},
   "source": [
    "- Print the list with the bought item’s new prices, rounded 2 digits after the decimal separator in the following format:\n",
    "- \"{price1} {price2} {price3} {price5}………{priceN}\"\n",
    "- Print the profit, rounded 2 digits after the decimal separator in the following format:\n",
    "- \"Profit: {profit}\"\n",
    "- If the money for tickets are enough, print: \"Hello, France!\" and if not – \"Time to go.\""
   ]
  },
  {
   "cell_type": "code",
   "execution_count": 17,
   "metadata": {},
   "outputs": [
    {
     "name": "stdout",
     "output_type": "stream",
     "text": [
      "Clothes->43.30|Shoes->25.25|Clothes->36.52|Clothes->20.90|Accessories->15.60\n",
      "120\n",
      "60.62 35.35 51.13\n",
      "Profit: 42.03\n",
      "Hello, France!\n"
     ]
    }
   ],
   "source": [
    "items_and_prices = input().split(\"|\")\n",
    "budget = float(input())\n",
    "\n",
    "new_items_and_prices_list = []\n",
    "increase_price = 0\n",
    "increase_price_list = []\n",
    "profit = 0\n",
    "sum_increase_price = 0\n",
    "\n",
    "for i in items_and_prices:\n",
    "    item_type, price = i.split(\"->\")\n",
    "    price = float(price)\n",
    "\n",
    "    is_valid = (item_type == \"Clothes\" and price <= 50) or (item_type == \"Shoes\" and price <= 35) or (\n",
    "            item_type == \"Accessories\" and price <= 20.5)\n",
    "\n",
    "    if is_valid and budget >= price:\n",
    "        budget -= price\n",
    "        increase_price = price * 1.4\n",
    "        sum_increase_price += increase_price\n",
    "        increase_price_list.append(f\"{increase_price:.2f}\")\n",
    "        profit += ((price * 1.4) - price)\n",
    "\n",
    "items_and_prices_print = \" \".join(increase_price_list)\n",
    "\n",
    "print(items_and_prices_print)\n",
    "print(f\"Profit: {profit:.2f}\")\n",
    "\n",
    "if (budget + sum_increase_price) >= 150:\n",
    "    print(\"Hello, France!\")\n",
    "else:\n",
    "    print(\"Time to go.\")"
   ]
  },
  {
   "cell_type": "markdown",
   "metadata": {},
   "source": [
    "# 10.\t* Bread Factory"
   ]
  },
  {
   "cell_type": "markdown",
   "metadata": {},
   "source": [
    "As a young baker, you are baking the bread out of the bakery. \n",
    "- You have initial energy 100 and initial coins 100. You will be given a string, representing the working day events. - Each event is separated with '|' (vertical bar): \"event1|event2|event3…\"\n",
    "- Each event contains event name or item and a number, separated by dash(\"{event/ingredient}-{number}\")\n",
    "- If the event is \"rest\": you gain energy, the number in the second part. But your energy cannot exceed your initial energy (100). Print: \"You gained {0} energy.\". \n",
    "- After that, print your current energy: \"Current energy: {0}.\".\n",
    "- If the event is \"order\": You've earned some coins, the number in the second part. Each time you get an order, your energy decreases with 30 points.\n",
    "- If you have energy to complete the order, print: \"You earned {0} coins.\".\n",
    "- If your energy drops below 0, you skip the order and gain 50 energy points. Print: \"You had to rest!\".\n",
    "- In any other case you are having an ingredient, you have to buy. The second part of the event, contains the coins you have to spent and remove from your coins. \n",
    "- If you are not bankrupt (coins <= 0) you've bought the ingredient successfully, and you should print (\"You bought {ingredient}.\")\n",
    "- If you went bankrupt, print \"Closed! Cannot afford {ingredient}.\" and your bakery rush is over. \n",
    "- If you managed to handle all events through the day, print on the next three lines: \n",
    "- \"Day completed!\", \"Coins: {coins}\", \"Energy: {energy}\"."
   ]
  },
  {
   "cell_type": "markdown",
   "metadata": {},
   "source": [
    "### Input / Constraints"
   ]
  },
  {
   "cell_type": "markdown",
   "metadata": {},
   "source": [
    "You will receive a string, representing the working day events, separated with '|' (vertical bar): \" event1|event2|event3…\".\n",
    "- Each event contains event name or ingredient and a number, separated by dash(\"{event/ingredient}-{number}\")"
   ]
  },
  {
   "cell_type": "markdown",
   "metadata": {},
   "source": [
    "### Output"
   ]
  },
  {
   "cell_type": "markdown",
   "metadata": {},
   "source": [
    "Print the corresponding messages, described above."
   ]
  },
  {
   "cell_type": "code",
   "execution_count": 18,
   "metadata": {},
   "outputs": [
    {
     "name": "stdout",
     "output_type": "stream",
     "text": [
      "order-10|order-10|order-10|flour-100|order-100|oven-100|order-1000\n",
      "You earned 10 coins.\n",
      "You earned 10 coins.\n",
      "You earned 10 coins.\n",
      "You bought flour.\n",
      "You had to rest!\n",
      "Closed! Cannot afford oven.\n"
     ]
    }
   ],
   "source": [
    "day_events = input().split(\"|\")\n",
    "\n",
    "new_day_events_list = []\n",
    "energy = 100\n",
    "coins = 100\n",
    "close = False\n",
    "\n",
    "for i in day_events:\n",
    "    event, number = i.split(\"-\")\n",
    "    number = int(number)\n",
    "\n",
    "    if event == \"rest\":\n",
    "        if energy + number > 100:\n",
    "            print(f\"You gained {100 - energy} energy.\")\n",
    "            energy = 100\n",
    "        else:\n",
    "            print(f\"You gained {number} energy.\")\n",
    "            energy += number\n",
    "        print(f\"Current energy: {energy}.\")\n",
    "\n",
    "    elif event == \"order\":\n",
    "        if energy >= 30:\n",
    "            print(f\"You earned {number} coins.\")\n",
    "            coins += number\n",
    "            energy -= 30\n",
    "        else:\n",
    "            energy += 50\n",
    "            print(\"You had to rest!\")\n",
    "\n",
    "    elif event != \"order\" and event != \"rest\":\n",
    "        if coins - number > 0:\n",
    "            print(f\"You bought {event}.\")\n",
    "            coins -= number\n",
    "        else:\n",
    "            print(f\"Closed! Cannot afford {event}.\")\n",
    "            close = True\n",
    "            break\n",
    "\n",
    "if not close:\n",
    "    print(f\"Day completed!\")\n",
    "    print(f\"Coins: {coins}\")\n",
    "    print(f\"Energy: {energy}\")"
   ]
  }
 ],
 "metadata": {
  "kernelspec": {
   "display_name": "Python 3",
   "language": "python",
   "name": "python3"
  },
  "language_info": {
   "codemirror_mode": {
    "name": "ipython",
    "version": 3
   },
   "file_extension": ".py",
   "mimetype": "text/x-python",
   "name": "python",
   "nbconvert_exporter": "python",
   "pygments_lexer": "ipython3",
   "version": "3.8.3"
  }
 },
 "nbformat": 4,
 "nbformat_minor": 4
}
