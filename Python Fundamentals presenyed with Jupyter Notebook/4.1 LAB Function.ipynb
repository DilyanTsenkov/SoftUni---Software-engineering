{
 "cells": [
  {
   "cell_type": "markdown",
   "metadata": {},
   "source": [
    "06.10.2020 LAB:"
   ]
  },
  {
   "cell_type": "markdown",
   "metadata": {},
   "source": [
    "# Functions"
   ]
  },
  {
   "cell_type": "markdown",
   "metadata": {},
   "source": [
    "## 1.\tGrades"
   ]
  },
  {
   "cell_type": "markdown",
   "metadata": {},
   "source": [
    "Write a function that receives a grade between 2.00 and 6.00 and prints the corresponding grade in words"
   ]
  },
  {
   "cell_type": "code",
   "execution_count": 1,
   "metadata": {},
   "outputs": [
    {
     "name": "stdout",
     "output_type": "stream",
     "text": [
      "4.50\n",
      "Very Good\n"
     ]
    }
   ],
   "source": [
    "grade_input = float(input())\n",
    "\n",
    "\n",
    "def grades(grade):\n",
    "    if 2.00 <= grade <= 2.99:\n",
    "        return \"Fail\"\n",
    "    elif 3.00 <= grade <= 3.49:\n",
    "        return \"Poor\"\n",
    "    elif 3.50 <= grade <= 4.49:\n",
    "        return \"Good\"\n",
    "    elif 4.50 <= grade <= 5.49:\n",
    "        return \"Very Good\"\n",
    "    elif 5.50 <= grade <= 6.00:\n",
    "        return \"Excellent\"\n",
    "\n",
    "\n",
    "print(grades(grade_input))"
   ]
  },
  {
   "cell_type": "markdown",
   "metadata": {},
   "source": [
    "## 2.\tCalculations"
   ]
  },
  {
   "cell_type": "markdown",
   "metadata": {},
   "source": [
    "Create a function that receives three parameters and calculates a result depending on operator. The operator can be  'multiply', 'divide', 'add', 'subtract' . The input comes as three parameters – two integers and an operator as a string."
   ]
  },
  {
   "cell_type": "code",
   "execution_count": 2,
   "metadata": {},
   "outputs": [
    {
     "name": "stdout",
     "output_type": "stream",
     "text": [
      "subtract\n",
      "5\n",
      "4\n",
      "1\n"
     ]
    }
   ],
   "source": [
    "operator = input()\n",
    "first_number = int(input())\n",
    "second_number = int(input())\n",
    "\n",
    "\n",
    "def calculation(first_num, second_num, opr):\n",
    "    result = None\n",
    "    if operator == \"multiply\":\n",
    "        result = first_number * second_number\n",
    "    elif operator == \"divide\":\n",
    "        result = int(first_number / second_number)\n",
    "    elif operator == \"add\":\n",
    "        result = first_number + second_number\n",
    "    elif operator == \"subtract\":\n",
    "        result = first_number - second_number\n",
    "    return result\n",
    "\n",
    "\n",
    "print(calculation(first_number, second_number, operator))"
   ]
  },
  {
   "cell_type": "markdown",
   "metadata": {},
   "source": [
    "## 3.\tRepeat String"
   ]
  },
  {
   "cell_type": "markdown",
   "metadata": {},
   "source": [
    "Write a function that receives a string and a repeat count n. The function should return a new string (the old one repeated n times)."
   ]
  },
  {
   "cell_type": "code",
   "execution_count": 3,
   "metadata": {},
   "outputs": [
    {
     "name": "stdout",
     "output_type": "stream",
     "text": [
      "String\n",
      "2\n",
      "StringString\n"
     ]
    }
   ],
   "source": [
    "string_input = input()\n",
    "n = int(input())\n",
    "\n",
    "\n",
    "def string_repeat(string, repeat):\n",
    "    repeated_string = \"\"\n",
    "    for rep in range(n):\n",
    "        repeated_string += string_input\n",
    "    return repeated_string\n",
    "\n",
    "\n",
    "print(string_repeat(string_input, n))"
   ]
  },
  {
   "cell_type": "markdown",
   "metadata": {},
   "source": [
    "## 4. Orders"
   ]
  },
  {
   "cell_type": "markdown",
   "metadata": {},
   "source": [
    "Write a function that calculates the total price of an order and prints it on the console. The function should receive one of the following products: coffee, coke, water, snacks; and a quantity of the product. The prices for a single piece of each product are: \n",
    "- coffee - 1.50\n",
    "- water - 1.00\n",
    "- coke - 1.40\n",
    "- snacks - 2.00\n",
    "- Print the result formatted to the second decimal place."
   ]
  },
  {
   "cell_type": "code",
   "execution_count": 7,
   "metadata": {},
   "outputs": [
    {
     "name": "stdout",
     "output_type": "stream",
     "text": [
      "water\n",
      "5\n",
      "5.00\n"
     ]
    }
   ],
   "source": [
    "product_input = input()\n",
    "quantity_input = int(input())\n",
    "\n",
    "\n",
    "def order(product, quantity):\n",
    "    price = 0\n",
    "    if product == \"coffee\":\n",
    "        price = 1.50\n",
    "    elif product == \"water\":\n",
    "        price = 1.00\n",
    "    elif product == \"coke\":\n",
    "        price = 1.40\n",
    "    elif product == \"snacks\":\n",
    "        price = 2.00\n",
    "    return price * quantity\n",
    "\n",
    "\n",
    "print(f\"{order(product_input, quantity_input):.2f}\")"
   ]
  },
  {
   "cell_type": "markdown",
   "metadata": {},
   "source": [
    "## 5.\tCalculate Rectangle Area"
   ]
  },
  {
   "cell_type": "markdown",
   "metadata": {},
   "source": [
    "Create a function that calculates and returns the area of a rectangle by given width and height:"
   ]
  },
  {
   "cell_type": "code",
   "execution_count": 6,
   "metadata": {},
   "outputs": [
    {
     "name": "stdout",
     "output_type": "stream",
     "text": [
      "3\n",
      "4\n",
      "12\n"
     ]
    }
   ],
   "source": [
    "rectangle_width = int(input())\n",
    "rectangle_height = int(input())\n",
    "\n",
    "\n",
    "def area(width, height):\n",
    "    result = width * height\n",
    "    return result\n",
    "\n",
    "\n",
    "print(area(rectangle_width, rectangle_height))"
   ]
  }
 ],
 "metadata": {
  "kernelspec": {
   "display_name": "Python 3",
   "language": "python",
   "name": "python3"
  },
  "language_info": {
   "codemirror_mode": {
    "name": "ipython",
    "version": 3
   },
   "file_extension": ".py",
   "mimetype": "text/x-python",
   "name": "python",
   "nbconvert_exporter": "python",
   "pygments_lexer": "ipython3",
   "version": "3.8.3"
  }
 },
 "nbformat": 4,
 "nbformat_minor": 4
}
