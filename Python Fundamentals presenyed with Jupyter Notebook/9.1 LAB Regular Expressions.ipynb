{
 "cells": [
  {
   "cell_type": "markdown",
   "metadata": {},
   "source": [
    "### 24.11.2020 Lab"
   ]
  },
  {
   "cell_type": "markdown",
   "metadata": {},
   "source": [
    "# Regular Expressions"
   ]
  },
  {
   "cell_type": "markdown",
   "metadata": {},
   "source": [
    "## 1.\tMatch Full Name\n",
    "<br>Write a program to match full names from a list of names and print them on the console.\n",
    "### Writing the Regular Expression\n",
    "First, write a regular expression to match a valid full name, according to these conditions:\n",
    "* A valid full name has the following characteristics:\n",
    "    * It consists of two words.\n",
    "    * Each word starts with a capital letter.\n",
    "    * After the first letter, it only contains lowercase letters afterwards.\n",
    "    * Each of the two words should be at least two letters long.\n",
    "    * The two words are separated by a single space."
   ]
  },
  {
   "cell_type": "code",
   "execution_count": 1,
   "metadata": {},
   "outputs": [
    {
     "name": "stdout",
     "output_type": "stream",
     "text": [
      "Peter Smith, peter smith, Peter smith, peter Smith, PEter Smith, Peter SmIth, Lily Everett\n",
      "Peter Smith Lily Everett\n"
     ]
    }
   ],
   "source": [
    "import re\n",
    "\n",
    "names = input()\n",
    "regex = r\"\\b[A-Z][a-z]+ [A-Z][a-z]+\\b\"\n",
    "names = re.findall(regex, names)\n",
    "\n",
    "print(\" \".join(names))"
   ]
  },
  {
   "cell_type": "markdown",
   "metadata": {},
   "source": [
    "## 2.\tMatch Phone Number\n",
    "Write a regular expression to match a valid phone number from Sofia. After you find all valid phones, print them on the console, separated by a comma and a space \", \".\n",
    "### Compose the Regular Expression\n",
    "A valid number has the following characteristics:\n",
    "* It starts with \"+359\"\n",
    "* Then, it is followed by the area code (always 2)\n",
    "* After that, it's followed by the number itself:\n",
    "    * The number consists of 7 digits (separated in two groups of 3 and 4 digits respectively). \n",
    "* The different parts are separated by either a space or a hyphen ('-')."
   ]
  },
  {
   "cell_type": "code",
   "execution_count": 2,
   "metadata": {},
   "outputs": [
    {
     "name": "stdout",
     "output_type": "stream",
     "text": [
      "+359 2 222 2222,359-2-222-2222, +359/2/222/2222, +359-2 222 2222 +359 2-222-2222, +359-2-222-222, +359-2-222-22222 +359-2-222-2222\n",
      "+359 2 222 2222, +359-2-222-2222\n"
     ]
    }
   ],
   "source": [
    "import re\n",
    "\n",
    "phones = input()\n",
    "regex = r\"(\\+[359]+[-][2][-][0-9]{3}[-][0-9]{4}\\b)|(\\+[359]+ [2] [0-9]{3} [0-9]{4}\\b)\"\n",
    "phones = re.finditer(regex, phones)\n",
    "phones = [p.group(0) for p in phones]\n",
    "\n",
    "print(*phones, sep=\", \")"
   ]
  },
  {
   "cell_type": "markdown",
   "metadata": {},
   "source": [
    "## 3.\tMatch Dates\n",
    "Write a program, which matches a date in the format \"dd{separator}MMM{separator}yyyy\". Use capturing groups in your regular expression.\n",
    "### Compose the Regular Expression\n",
    "Every valid date has the following characteristics:\n",
    "* Always starts with two digits, followed by a separator\n",
    "* After that, it has one uppercase and two lowercase letters (e.g. Jan, Mar).\n",
    "* After that, it has a separator and exactly 4 digits (for the year).\n",
    "* The separator could be either of three things: a period (\".\"), a hyphen (\"-\") or a forward slash (\"/\")\n",
    "* The separator needs to be the same for the whole date (e.g. 13.03.2016 is valid, 13.03/2016 is NOT). Use a group backreference to check for this."
   ]
  },
  {
   "cell_type": "code",
   "execution_count": 3,
   "metadata": {},
   "outputs": [
    {
     "name": "stdout",
     "output_type": "stream",
     "text": [
      "13/Jul/1928, 10-Nov-1934, , 01/Jan-1951,f 25.Dec.1937 23/09/1973, 1/Feb/2016\n",
      "Day: 13, Month: Jul, Year: 1928\n",
      "Day: 10, Month: Nov, Year: 1934\n",
      "Day: 25, Month: Dec, Year: 1937\n"
     ]
    }
   ],
   "source": [
    "import re\n",
    "\n",
    "dates = input()\n",
    "\n",
    "regex = r\"\\b(?P<day>[0-9]{2})(?P<separator>[-\\./])(?P<month>[A-Z][a-z]{2})(?P=separator)(?P<year>[0-9]{4})\"\n",
    "\n",
    "dates = re.finditer(regex, dates)\n",
    "\n",
    "for date in dates:\n",
    "    d = date.groupdict()\n",
    "    print(f\"Day: {d['day']}, Month: {d['month']}, Year: {d['year']}\")"
   ]
  },
  {
   "cell_type": "markdown",
   "metadata": {},
   "source": [
    "## 4.\tMatch Numbers\n",
    "Write a program, which finds all integer and floating-point numbers in a string.\n",
    "### Compose the Regular Expression\n",
    "A number has the following characteristics:\n",
    "* Has either whitespace before it or the start of the string (match either ^ or what's called a positive lookbehind). <br><br>The entire syntax for the beginning of your RegEx might look something like \"(^|(?<=\\s))\".\n",
    "* The number might or might not be negative, so it might have a hyphen on its left side (\"-\").\n",
    "* Consists of one or more digits.\n",
    "* Might or might not have digits after the decimal point\n",
    "* The decimal part (if it exists) consists of a period (\".\") and one or more digits after it. Use a capturing group.\n",
    "* Has either whitespace before it or the end of the string (match either S or what's called a positive lookahead). The syntax for the end of the RegEx might look something like \"(S|(?=\\s))\"."
   ]
  },
  {
   "cell_type": "code",
   "execution_count": 4,
   "metadata": {},
   "outputs": [
    {
     "name": "stdout",
     "output_type": "stream",
     "text": [
      "1 -1 1s 123 s-s -123 _55_ _f 123.456 -123.456 s-1.1 s2 -1- zs-2 s-3.5\n",
      "1 -1 123 -123 123.456 -123.456\n"
     ]
    }
   ],
   "source": [
    "import re\n",
    "\n",
    "numbers = input()\n",
    "regex = r\"(^|(?<= ))-?[0-9]+(\\.[0-9]+)?($|(?= ))\"\n",
    "\n",
    "numbers = re.finditer(regex, numbers)\n",
    "numbers = [n.group() for n in numbers]\n",
    "\n",
    "print(\" \".join(numbers))"
   ]
  }
 ],
 "metadata": {
  "kernelspec": {
   "display_name": "Python 3",
   "language": "python",
   "name": "python3"
  },
  "language_info": {
   "codemirror_mode": {
    "name": "ipython",
    "version": 3
   },
   "file_extension": ".py",
   "mimetype": "text/x-python",
   "name": "python",
   "nbconvert_exporter": "python",
   "pygments_lexer": "ipython3",
   "version": "3.8.3"
  }
 },
 "nbformat": 4,
 "nbformat_minor": 4
}
