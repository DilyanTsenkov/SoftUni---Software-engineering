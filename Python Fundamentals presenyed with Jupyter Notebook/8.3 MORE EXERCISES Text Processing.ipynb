{
 "cells": [
  {
   "cell_type": "markdown",
   "metadata": {},
   "source": [
    "# Text Processing - More Exercises"
   ]
  },
  {
   "cell_type": "markdown",
   "metadata": {},
   "source": [
    "## 1.\tExtract Person Information\n",
    "<br>Write a program that reads N lines of strings and extracts the name and age of a given person. The name of the person will be between '@' and '|'. The person’s age will be between '#' and '*'. Example: \"Hello my name is @Peter| and I am #20* years old.\" For each found name and age print a line in the following format \"{name} is {age} years old.\""
   ]
  },
  {
   "cell_type": "code",
   "execution_count": 1,
   "metadata": {},
   "outputs": [
    {
     "name": "stdout",
     "output_type": "stream",
     "text": [
      "2\n",
      "Here is a name @George| and an age #18*\n",
      "George is 18 years old.\n",
      "Another name @Billy| #35* is his age\n",
      "Billy is 35 years old.\n"
     ]
    }
   ],
   "source": [
    "n = int(input())\n",
    "\n",
    "for _ in range(n):\n",
    "    received_string = input()\n",
    "    for i in range(len(received_string)):\n",
    "        if received_string[i] == \"@\":\n",
    "            start_i_name = i + 1\n",
    "        elif received_string[i] == \"|\":\n",
    "            end_i_name = i\n",
    "        elif received_string[i] == \"#\":\n",
    "            start_i_age = i + 1\n",
    "        elif received_string[i] == \"*\":\n",
    "            end_i_age = i\n",
    "    print(f\"{received_string[start_i_name:end_i_name]} is {received_string[start_i_age:end_i_age]} years old.\")"
   ]
  },
  {
   "cell_type": "markdown",
   "metadata": {},
   "source": [
    "## 2.\tAscii Sumator\n",
    "<br>Write a program that prints a sum of all characters between two given characters (their ascii code). On the first line you will get a character. On the second line you get another character. On the last line you get a random string. Find all the characters between the two given and print their ascii sum."
   ]
  },
  {
   "cell_type": "code",
   "execution_count": 2,
   "metadata": {},
   "outputs": [
    {
     "name": "stdout",
     "output_type": "stream",
     "text": [
      ".\n",
      "@\n",
      "dsg12gr5653feee5\n",
      "363\n"
     ]
    }
   ],
   "source": [
    "first_char = input()\n",
    "second_char = input()\n",
    "string = input()\n",
    "\n",
    "char_sum = 0\n",
    "\n",
    "for char in string:\n",
    "    if ord(first_char) < ord(char) < ord(second_char):\n",
    "        char_sum += ord(char)\n",
    "\n",
    "print(char_sum)"
   ]
  },
  {
   "cell_type": "markdown",
   "metadata": {},
   "source": [
    "## 3.\tTreasure Finder\n",
    "<br>Write a program that decrypts a message by a given key and gathers information about hidden treasure type and its coordinates. On the first line you will receive a key (sequence of numbers). On the next few lines until you receive \"find\" you will get lines of strings. You have to loop through every string and decrease the ascii code of each character with a corresponding number of the key sequence. The way you choose a key number from the sequence is just looping through it. If the length of the key sequence is less than the string sequence, you start looping from the beginning of the key. For more clarification see the example below. After decrypting the message you will get a type of treasure and its coordinates. The type will be between the symbol '&' and the coordinates will be between the symbols '<' and '>'. For each line print the type and the coordinates in format \"Found {type} at {coordinates}\"."
   ]
  },
  {
   "cell_type": "code",
   "execution_count": 3,
   "metadata": {},
   "outputs": [
    {
     "name": "stdout",
     "output_type": "stream",
     "text": [
      "1 2 1 3\n",
      "ikegfp'jpne)bv=41P83X@\n",
      "Found gold at 10N70W\n",
      "ujfufKt)Tkmyft'duEprsfjqbvfv=53V55XA\n",
      "Found Silver at 32S43W\n",
      "find\n"
     ]
    }
   ],
   "source": [
    "def decrypting(current_string, input_key):\n",
    "    symbol = 0\n",
    "    dec_text = \"\"\n",
    "    for i in range(len(current_string)):\n",
    "        new_letter = chr(ord(current_string[i]) - input_key[symbol])\n",
    "        dec_text += new_letter\n",
    "        symbol += 1\n",
    "        if symbol == len(input_key):\n",
    "            symbol = 0\n",
    "    return dec_text\n",
    "\n",
    "\n",
    "def formatted(text):\n",
    "    start_flag = False\n",
    "    for i in range(len(text)):\n",
    "        if text[i] == \"&\":\n",
    "            if start_flag:\n",
    "                end_i_treasure = i\n",
    "            else:\n",
    "                start_i_treasure = i + 1\n",
    "                start_flag = True\n",
    "        elif text[i] == \"<\":\n",
    "            start_i_coord = i + 1\n",
    "        elif text[i] == \">\":\n",
    "            end_i_coord = i\n",
    "    return text[start_i_treasure:end_i_treasure], text[start_i_coord:end_i_coord]\n",
    "\n",
    "\n",
    "key = list(map(int, input().split()))\n",
    "while True:\n",
    "    string = input()\n",
    "    if string == \"find\":\n",
    "        break\n",
    "    text = decrypting(string, key)\n",
    "    treasure, coord = formatted(text)\n",
    "\n",
    "    print(f\"Found {treasure} at {coord}\")"
   ]
  },
  {
   "cell_type": "markdown",
   "metadata": {},
   "source": [
    "## 4.\tMorse Code Translator\n",
    "<br>Write a program that translates messages from Morse code to English (capital letters). Use this page to help you (without the numbers). The words will be separated by a space (' '). There will be a '|' character which you should replace with ' ' (space)."
   ]
  },
  {
   "cell_type": "code",
   "execution_count": 4,
   "metadata": {},
   "outputs": [
    {
     "name": "stdout",
     "output_type": "stream",
     "text": [
      ".. | -- .- -.. . |  -.-- --- ..- | .-- .-. .. - . | .- | .-.. --- -. --. | -.-. --- -.. .\n",
      "I MADE YOU WRITE A LONG CODE\n"
     ]
    }
   ],
   "source": [
    "morse_code_dict = {'A': '.-', 'B': '-...',\n",
    "                   'C': '-.-.', 'D': '-..', 'E': '.',\n",
    "                   'F': '..-.', 'G': '--.', 'H': '....',\n",
    "                   'I': '..', 'J': '.---', 'K': '-.-',\n",
    "                   'L': '.-..', 'M': '--', 'N': '-.',\n",
    "                   'O': '---', 'P': '.--.', 'Q': '--.-',\n",
    "                   'R': '.-.', 'S': '...', 'T': '-',\n",
    "                   'U': '..-', 'V': '...-', 'W': '.--',\n",
    "                   'X': '-..-', 'Y': '-.--', 'Z': '--..'}\n",
    "\n",
    "message = input().split(\" | \")\n",
    "translated_message = \"\"\n",
    "\n",
    "for i in range(len(message)):\n",
    "    word = message[i].strip()\n",
    "    word = word.split()\n",
    "    for letter in word:\n",
    "        for key, value in morse_code_dict.items():\n",
    "            if value == letter:\n",
    "                translated_message += key\n",
    "                break\n",
    "    translated_message += \" \"\n",
    "\n",
    "print(translated_message.strip())"
   ]
  },
  {
   "cell_type": "markdown",
   "metadata": {},
   "source": [
    "## 5.\tHTML\n",
    "<br>You will receive 3 lines of input. On the first line you will receive a title of an article. On the next line you will receive the content of that article. On the next n lines until you receive \"end of comments\" you will get the comments about the article. Print the whole information in html format. The title should be in \"h1\" tag ; the content in article tag (article /article>); each comment should be in div tag (div/div). For more clarification see the example below"
   ]
  },
  {
   "cell_type": "code",
   "execution_count": 6,
   "metadata": {},
   "outputs": [
    {
     "name": "stdout",
     "output_type": "stream",
     "text": [
      "SoftUni Article\n",
      "Some content of the SoftUni article\n",
      "some comment\n",
      "more comment\n",
      "last comment\n",
      "end of comments\n",
      "<h1>\n",
      "    SoftUni Article\n",
      "</h1>\n",
      "<article>\n",
      "    Some content of the SoftUni article\n",
      "</article>\n",
      "<div>\n",
      "    some comment\n",
      "</div>\n",
      "<div>\n",
      "    more comment\n",
      "</div>\n",
      "<div>\n",
      "    last comment\n",
      "</div>\n",
      "\n"
     ]
    }
   ],
   "source": [
    "title = input()\n",
    "content = input()\n",
    "\n",
    "html = f\"<h1>\\n    {title}\\n</h1>\\n<article>\\n    {content}\\n</article>\\n\"\n",
    "\n",
    "while True:\n",
    "    comment = input()\n",
    "    if comment == \"end of comments\":\n",
    "        break\n",
    "    html += f\"<div>\\n    {comment}\\n</div>\\n\"\n",
    "\n",
    "print(html)"
   ]
  }
 ],
 "metadata": {
  "kernelspec": {
   "display_name": "Python 3",
   "language": "python",
   "name": "python3"
  },
  "language_info": {
   "codemirror_mode": {
    "name": "ipython",
    "version": 3
   },
   "file_extension": ".py",
   "mimetype": "text/x-python",
   "name": "python",
   "nbconvert_exporter": "python",
   "pygments_lexer": "ipython3",
   "version": "3.8.3"
  }
 },
 "nbformat": 4,
 "nbformat_minor": 4
}
