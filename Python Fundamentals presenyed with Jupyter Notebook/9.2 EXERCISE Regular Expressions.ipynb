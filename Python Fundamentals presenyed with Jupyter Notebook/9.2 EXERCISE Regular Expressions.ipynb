{
 "cells": [
  {
   "cell_type": "markdown",
   "metadata": {},
   "source": [
    "### 27.11.2020 EXERCISE:"
   ]
  },
  {
   "cell_type": "markdown",
   "metadata": {},
   "source": [
    "# Regular Expressions"
   ]
  },
  {
   "cell_type": "markdown",
   "metadata": {},
   "source": [
    "## 1.\tCapture the Numbers\n",
    "<br>Write a program that finds all numbers in a sequence of strings.\n",
    "<br>The output is all the numbers, extracted and printed on a single line – each separated by a single space."
   ]
  },
  {
   "cell_type": "code",
   "execution_count": 9,
   "metadata": {},
   "outputs": [
    {
     "name": "stdout",
     "output_type": "stream",
     "text": [
      "Let's go11!!!11! Okey!1!\n",
      "11 11 1 \n"
     ]
    }
   ],
   "source": [
    "import re\n",
    "\n",
    "while True:\n",
    "    numbers = input()\n",
    "    if numbers == \"\":\n",
    "        break\n",
    "    regex = r\"[0-9]+\"\n",
    "    numbers = re.findall(regex, numbers)\n",
    "    if numbers:\n",
    "        print(\" \".join(numbers), end=\" \")"
   ]
  },
  {
   "cell_type": "markdown",
   "metadata": {},
   "source": [
    "## 2.\tFind Variable Names in Sentences\n",
    "<br><br>Write a program that finds all variable names in a given string. A variable name starts with an underscore (\"_\") and contains only Capital and Non-Capital English Alphabet letters and digits. Extract only their names, without the underscore. Try to do this only with regular expressions.\n",
    "<br><br>The output consists of all variable names, extracted and printed on a single line, each separated by a comma."
   ]
  },
  {
   "cell_type": "code",
   "execution_count": 2,
   "metadata": {},
   "outputs": [
    {
     "name": "stdout",
     "output_type": "stream",
     "text": [
      "Calculate the _area of the _perfectRectangle object.\n",
      "area,perfectRectangle\n"
     ]
    }
   ],
   "source": [
    "import re\n",
    "\n",
    "names = input()\n",
    "result = \"\"\n",
    "\n",
    "regex = r\"(^|(?<= ))_(?P<name>[a-zA-Z0-9]+)($|(?= ))\"\n",
    "\n",
    "names = re.finditer(regex, names)\n",
    "for name in names:\n",
    "    n = name.groupdict()\n",
    "    result += f\"{n['name']},\"\n",
    "\n",
    "print(result[:-1])"
   ]
  },
  {
   "cell_type": "markdown",
   "metadata": {},
   "source": [
    "## 3.\tFind Occurrences of Word in Sentence\n",
    "<br>Write a program that finds, how many times a given word, is used in a given sentence. Note that letter case does not matter – it is case-insensitive.\n",
    "<br><br>The output is a single number indicating the amount of times the sentence contains the word."
   ]
  },
  {
   "cell_type": "code",
   "execution_count": 2,
   "metadata": {},
   "outputs": [
    {
     "name": "stdout",
     "output_type": "stream",
     "text": [
      "There was one. Therefore I bought it. I wouldn't buy it otherwise.\n",
      "there\n",
      "1\n"
     ]
    }
   ],
   "source": [
    "import re\n",
    "\n",
    "sentence = input()\n",
    "given_word = input()\n",
    "\n",
    "match = re.findall(f\"\\\\b{given_word}\\\\b\", sentence, re.IGNORECASE)\n",
    "\n",
    "print(len(match))"
   ]
  },
  {
   "cell_type": "markdown",
   "metadata": {},
   "source": [
    "## 4.\tExtract Emails"
   ]
  },
  {
   "cell_type": "markdown",
   "metadata": {},
   "source": [
    "Write a program to extract all email addresses from a given text. The text comes at the only input line. Print the emails on the console, each at a separate line. Emails are considered to be in format <user>@<host>, where: \n",
    "* <user> is a sequence of letters and digits, where '.', '-' and '_' can appear between them.\n",
    "    * Examples of valid users: \"stephan\", \"mike03\", \"s.johnson\", \"st_steward\", \"softuni-bulgaria\", \"12345\".\n",
    "    * Examples of invalid users: ''--123\", \".....\", \"nakov_-\", \"_steve\", \".info\". \n",
    "* <host> is a sequence of at least two words, separated by dots '.'. Each word is sequence of letters and can have hyphens '-' between the letters.\n",
    "    * Examples of hosts: \"softuni.bg\", \"software-university.com\", \"intoprogramming.info\", \"mail.softuni.org\". \n",
    "    *Examples of invalid hosts: \"helloworld\", \".unknown.soft.\", \"invalid-host-\", \"invalid-\". \n",
    "* Examples of valid emails: info@softuni-bulgaria.org, kiki@hotmail.co.uk, no-reply@github.com, s.peterson@mail.uu.net, info-bg@software-university.software.academy. \n",
    "* Examples of invalid emails: --123@gmail.com, …@mail.bg, .info@info.info, _steve@yahoo.cn, mike@helloworld, mike@.unknown.soft., s.johnson@invalid-."
   ]
  },
  {
   "cell_type": "code",
   "execution_count": 5,
   "metadata": {},
   "outputs": [
    {
     "name": "stdout",
     "output_type": "stream",
     "text": [
      "Just send email to s.miller@mit.edu and j.hopking@york.ac.uk for more information.\n",
      "s.miller@mit.edu\n",
      "j.hopking@york.ac.uk\n"
     ]
    }
   ],
   "source": [
    "import re\n",
    "\n",
    "mails_input = input()\n",
    "regex = r\"(^|(?<= ))([a-zA-Z0-9][\\w\\.-]+?[a-zA-Z0-9]?\\b)@(?P<host>[a-zA-Z0-9][a-zA-Z0-9-]+?[a-zA-Z0-9]?\\b)(\\.[a-zA-Z0-9][a-zA-Z0-9-]+?[a-zA-Z0-9]?\\b)+(?=\\.|)\"\n",
    "\n",
    "real_mails = re.finditer(regex, mails_input)\n",
    "\n",
    "for mail in real_mails:\n",
    "    print(mail.group())"
   ]
  },
  {
   "cell_type": "markdown",
   "metadata": {},
   "source": [
    "## 5.\tFurniture"
   ]
  },
  {
   "cell_type": "markdown",
   "metadata": {},
   "source": [
    "Write a program to calculate the total cost of different types of furniture. You will be given some lines of input until you receive the line \"Purchase\". For the line to be valid it should be in the following format:\n",
    "<br><br>\">>{furniture name}<<{price}!{quantity}\"\n",
    "<br><br>The price can be floating point number or whole number. Store the names of the furniture and the total price. At the end print the each bought furniture on separate line in the format:\n",
    "<br><br>\"Bought furniture:\n",
    "<br><br>{1st name}\n",
    "<br><br>{2nd name}\n",
    "<br><br>…\"\n",
    "<br><br>And on the last line print the following: \"Total money spend: {spend money}\" formatted to the second decimal point."
   ]
  },
  {
   "cell_type": "code",
   "execution_count": 1,
   "metadata": {},
   "outputs": [
    {
     "name": "stdout",
     "output_type": "stream",
     "text": [
      ">>Sofa<<312.23!3\n",
      ">>TV<<300!5\n",
      ">Invalid<<!5\n",
      "Purchase\n",
      "Bought furniture:\n",
      "Sofa\n",
      "TV\n",
      "Total money spend: 2436.69\n"
     ]
    }
   ],
   "source": [
    "import re\n",
    "\n",
    "money_spend = 0\n",
    "furniture_list = []\n",
    "\n",
    "while True:\n",
    "    input_data = input()\n",
    "    if input_data == \"Purchase\":\n",
    "        break\n",
    "\n",
    "    regex = r\"^>{2}(?P<furniture>[A-Z][A-Za-z]+)<{2}(?P<price>\\d+(\\.\\d+)?)\\!(?P<quantity>\\d+)$\"\n",
    "    items = re.finditer(regex, input_data)\n",
    "\n",
    "    for item in items:\n",
    "        d = item.groupdict()\n",
    "        furniture = d[\"furniture\"]\n",
    "        price = float(d[\"price\"])\n",
    "        quantity = int(d[\"quantity\"])\n",
    "        furniture_list.append(furniture)\n",
    "        money_spend += (price * quantity)\n",
    "\n",
    "print(\"Bought furniture:\")\n",
    "if len(furniture_list) > 0:\n",
    "    print(\"\\n\".join(furniture_list))\n",
    "print(f\"Total money spend: {money_spend:.2f}\")"
   ]
  },
  {
   "cell_type": "markdown",
   "metadata": {},
   "source": [
    "## 6.\t*Extract the Links"
   ]
  },
  {
   "cell_type": "markdown",
   "metadata": {},
   "source": [
    "Write a program that extracts links from a given text. The text will come in the form of strings, each representing a sentence. You need to extract only the valid links from it. Example: www.internet.com\n",
    "<br><br>The Sub-Domain must always be \"www\". The Domain name can consist of English alphabet letters (uppercase and lowercase), digits and dashes (\"–\"). The Domain extension consists of one or more domain blocks, a domain block consists of a dot followed by one or more lowercase English alphabet letters, a Domain extension must have at least one domain block in order to be valid. The Sub-Domain and Domain name must be separated by a single dot. Any link that does NOT follow the specified above rules should be treated as invalid.\n",
    "<br><br>Example incorrect links:  \n",
    "* \"ww.justASite.bg\"\n",
    "* \"lel.awesome.com\"\n",
    "* \"www.weird_site.hit.bg\"\n",
    "* \"www.no-symb#^ols-allow%ed.com\"\n",
    "* \"www.mark.12\"\n",
    "* \"www.web-site.\"\n",
    "* \"www.example-site._*^#\"\n",
    "<br><br>Example correct links:  \n",
    "* \"Some textwww.softuni.bg\"\n",
    "* \"Just a link in a www.sea-of-text.bg-swimming around\"\n",
    "* \"Instruments www.Instruments.rom.com.trombone2000 Instrument here\"\n",
    "* \"All your ice cream flavors-www.scream.for.ice.cream(We  also have squirrels)\"\n",
    "<br><br>The output is all valid links you've found, printed – each on a new line."
   ]
  },
  {
   "cell_type": "code",
   "execution_count": 7,
   "metadata": {},
   "outputs": [
    {
     "name": "stdout",
     "output_type": "stream",
     "text": [
      "Join WebStars now for free, at www.web-stars.com \n",
      "www.web-stars.com\n",
      "You can also support our partners:\n",
      "Internet - www.internet.com\n",
      "www.internet.com\n",
      "WebSpiders - www.webspiders101.com\n",
      "www.webspiders101.com\n",
      "Sentinel - www.sentinel.-ko\n",
      "\n"
     ]
    }
   ],
   "source": [
    "import re\n",
    "\n",
    "while True:\n",
    "    string = input()\n",
    "    if string == \"\":\n",
    "        break\n",
    "    regex = r\"(w{3}\\.)([a-zA-Z0-9]+[a-zA-Z0-9\\-]+?[a-zA-Z0-9]+?\\b)(\\.[a-z]+)+\"\n",
    "\n",
    "    links = re.finditer(regex, string)\n",
    "\n",
    "    for link in links:\n",
    "        print(link.group())"
   ]
  }
 ],
 "metadata": {
  "kernelspec": {
   "display_name": "Python 3",
   "language": "python",
   "name": "python3"
  },
  "language_info": {
   "codemirror_mode": {
    "name": "ipython",
    "version": 3
   },
   "file_extension": ".py",
   "mimetype": "text/x-python",
   "name": "python",
   "nbconvert_exporter": "python",
   "pygments_lexer": "ipython3",
   "version": "3.8.3"
  }
 },
 "nbformat": 4,
 "nbformat_minor": 4
}
