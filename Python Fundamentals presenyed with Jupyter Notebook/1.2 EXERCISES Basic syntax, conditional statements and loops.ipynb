{
 "cells": [
  {
   "cell_type": "markdown",
   "metadata": {},
   "source": [
    "#### 18.09.2020 EXERCISE:"
   ]
  },
  {
   "cell_type": "markdown",
   "metadata": {},
   "source": [
    "# Basic syntax, conditional statements and loops"
   ]
  },
  {
   "cell_type": "markdown",
   "metadata": {},
   "source": [
    "## 1.\tJenny's Secret Message"
   ]
  },
  {
   "cell_type": "markdown",
   "metadata": {},
   "source": [
    "Jenny studies programming with Python and wants to create a program that greets a user when he/she gives his/her name. Jenny however is in love with Johnny, and would like to greet him differently. Can you help her?"
   ]
  },
  {
   "cell_type": "code",
   "execution_count": 1,
   "metadata": {},
   "outputs": [
    {
     "name": "stdout",
     "output_type": "stream",
     "text": [
      "Johnny\n",
      "Hello, my love!\n"
     ]
    }
   ],
   "source": [
    "name = str(input())\n",
    "\n",
    "if name == \"Johnny\":\n",
    "    print(\"Hello, my love!\")\n",
    "else:\n",
    "    print(f\"Hello, {name}!\")"
   ]
  },
  {
   "cell_type": "markdown",
   "metadata": {},
   "source": [
    "## 2.\tDrink Something"
   ]
  },
  {
   "cell_type": "markdown",
   "metadata": {},
   "source": [
    "Kids drink toddy, Teens drink coke, Young adults drink beer, Adults drink whisky.\n",
    "Make a program that receives an age, and returns what they drink.\n",
    "Rules:\n",
    "Kids under 14 years old.\n",
    "Teens under 18 years old.\n",
    "Young adults under 21 years old.\n",
    "Adults above 21.\n",
    "Note: All the values except the last one are inclusive!"
   ]
  },
  {
   "cell_type": "code",
   "execution_count": 2,
   "metadata": {},
   "outputs": [
    {
     "name": "stdout",
     "output_type": "stream",
     "text": [
      "13\n",
      "drink toddy\n"
     ]
    }
   ],
   "source": [
    "age = int(input())\n",
    "\n",
    "drink = \"\"\n",
    "if age <= 14:\n",
    "    drink = \"toddy\"\n",
    "elif age <= 18:\n",
    "    drink = \"coke\"\n",
    "elif age <= 21:\n",
    "    drink = \"beer\"\n",
    "else:\n",
    "    drink = \"whisky\"\n",
    "    \n",
    "print(f\"drink {drink}\")"
   ]
  },
  {
   "cell_type": "markdown",
   "metadata": {},
   "source": [
    "## 3.\tLeonardo DiCaprio Oscars"
   ]
  },
  {
   "cell_type": "markdown",
   "metadata": {},
   "source": [
    "Write a program that receives a single integer number and prints different messages depending on the number:\n",
    "-\tIf Oscar is 88 - \"Leo finally won the Oscar! Leo is happy\".\n",
    "-\tIf Oscar is 86 - \"Not even for Wolf of Wall Street?!\"\n",
    "-\tIf Oscar is not 88 nor 86 (and below 88) - \"When will you give Leo an Oscar?\"\n",
    "-\tIf Oscar is over 88 - \"Leo got one already!\""
   ]
  },
  {
   "cell_type": "code",
   "execution_count": 5,
   "metadata": {},
   "outputs": [
    {
     "name": "stdout",
     "output_type": "stream",
     "text": [
      "86\n",
      "Not even for Wolf of Wall Street?!\n"
     ]
    }
   ],
   "source": [
    "number = int(input())\n",
    "\n",
    "if number == 88:\n",
    "    print(\"Leo finally won the Oscar! Leo is happy\")\n",
    "elif number == 86:\n",
    "    print(\"Not even for Wolf of Wall Street?!\")\n",
    "elif number < 88 and number != 86:\n",
    "    print(\"When will you give Leo an Oscar?\")\n",
    "else:\n",
    "    print(\"Leo got one already!\")"
   ]
  },
  {
   "cell_type": "markdown",
   "metadata": {},
   "source": [
    "## 4.\tDouble Char"
   ]
  },
  {
   "cell_type": "markdown",
   "metadata": {},
   "source": [
    "Given a string, you have to print a string in which each character (case-sensitive) is repeated."
   ]
  },
  {
   "cell_type": "code",
   "execution_count": 6,
   "metadata": {},
   "outputs": [
    {
     "name": "stdout",
     "output_type": "stream",
     "text": [
      "1234!\n",
      "11223344!!"
     ]
    }
   ],
   "source": [
    "string = str(input())\n",
    "\n",
    "for i in string:\n",
    "    print(i, end=\"\")\n",
    "    print(i, end=\"\")"
   ]
  },
  {
   "cell_type": "markdown",
   "metadata": {},
   "source": [
    "## 5.\tCan't Sleep? Count Sheep"
   ]
  },
  {
   "cell_type": "markdown",
   "metadata": {},
   "source": [
    "If you can't sleep, just count sheep! Given a non-negative integer, 3 for example, return a string with a murmur: \"1 sheep...2 sheep...3 sheep...\" Input will always be valid, i.e. no negative integers."
   ]
  },
  {
   "cell_type": "code",
   "execution_count": 7,
   "metadata": {},
   "outputs": [
    {
     "name": "stdout",
     "output_type": "stream",
     "text": [
      "5\n",
      "1 sheep...2 sheep...3 sheep...4 sheep...5 sheep..."
     ]
    }
   ],
   "source": [
    "number = int(input())\n",
    "\n",
    "for i in range(1, number + 1):\n",
    "    print(f\"{i} sheep...\", end=\"\")"
   ]
  },
  {
   "cell_type": "markdown",
   "metadata": {},
   "source": [
    "## 6.\tNext Happy Year"
   ]
  },
  {
   "cell_type": "markdown",
   "metadata": {},
   "source": [
    "You're saying good-bye your best friend, \"See you next happy year\". Happy Year is the year with only distinct digits, (e.g) 2018. Write a program that receives an integer number and finds the next happy year."
   ]
  },
  {
   "cell_type": "code",
   "execution_count": 8,
   "metadata": {},
   "outputs": [
    {
     "name": "stdout",
     "output_type": "stream",
     "text": [
      "8989\n",
      "9012\n"
     ]
    }
   ],
   "source": [
    "year = int(input())\n",
    "\n",
    "happyYear = year + 1\n",
    "a = str(happyYear)\n",
    "flag_new_year = False\n",
    "\n",
    "while flag_new_year == False:\n",
    "    flag = False\n",
    "    for i in range(len(a)):\n",
    "        if len(a) == 1:\n",
    "            flag_new_year = True\n",
    "        if flag:\n",
    "            break\n",
    "        for j in range(i + 1, len(a)):\n",
    "            if (a[i] == a[j]):\n",
    "                i = 0\n",
    "                j = 0\n",
    "                happyYear += 1\n",
    "                a = str(happyYear)\n",
    "                flag = True\n",
    "                break\n",
    "            if j == len(a) - 1 and i == j - 1:\n",
    "                flag = True\n",
    "                flag_new_year = True\n",
    "                break\n",
    "                \n",
    "print(happyYear)"
   ]
  },
  {
   "cell_type": "markdown",
   "metadata": {},
   "source": [
    "## 7.\tMaximum Multiple"
   ]
  },
  {
   "cell_type": "markdown",
   "metadata": {},
   "source": [
    "Given a Divisor and a Bound, find the largest integer N, such that:\n",
    "N is divisible by divisor\n",
    "N is less than or equal to bound\n",
    "N is greater than 0.\n",
    "Notes: The divisor and bound are only positive values. It's guaranteed that a divisor is found"
   ]
  },
  {
   "cell_type": "code",
   "execution_count": 11,
   "metadata": {},
   "outputs": [
    {
     "name": "stdout",
     "output_type": "stream",
     "text": [
      "37\n",
      "200\n",
      "185\n"
     ]
    }
   ],
   "source": [
    "divisor = int(input())\n",
    "bound = int(input())\n",
    "\n",
    "max_number = 0\n",
    "\n",
    "for n in range(1, bound + 1):\n",
    "    if n % divisor == 0:\n",
    "        if max_number < n:\n",
    "            max_number = n\n",
    "            \n",
    "print(max_number)"
   ]
  },
  {
   "cell_type": "markdown",
   "metadata": {},
   "source": [
    "## 8.\tMutate Strings"
   ]
  },
  {
   "cell_type": "markdown",
   "metadata": {},
   "source": [
    "You will be given two strings. Transform the first string into the second one, one letter at a time and print it. Print only the unique strings\n",
    "Note: the strings will have the same lengths"
   ]
  },
  {
   "cell_type": "code",
   "execution_count": 13,
   "metadata": {},
   "outputs": [
    {
     "name": "stdout",
     "output_type": "stream",
     "text": [
      "bubble gum\n",
      "turtle hum\n",
      "tubble gum\n",
      "turble gum\n",
      "turtle gum\n",
      "turtle hum\n"
     ]
    }
   ],
   "source": [
    "first_string = input()\n",
    "second_string = input()\n",
    "\n",
    "counter_one = 1\n",
    "counter_two = 0\n",
    "\n",
    "for i in second_string:\n",
    "    string_one = first_string[counter_one:]\n",
    "    string_two = second_string[:counter_one]\n",
    "    string_three = string_two + string_one\n",
    "    counter_one += 1\n",
    "    f1 = first_string[counter_two]\n",
    "    f2 = second_string[counter_two]\n",
    "    counter_two += 1\n",
    "    if f1 != f2:\n",
    "        print(string_three)"
   ]
  },
  {
   "cell_type": "markdown",
   "metadata": {},
   "source": [
    "## 9.\tEaster Cozonacs"
   ]
  },
  {
   "cell_type": "markdown",
   "metadata": {},
   "source": [
    "Since it’s Easter you have decided to make some cozonacs and exchange them for eggs.\n",
    "Create a program that calculates how much cozonacs you can make with the budget you have. First, you will receive your budget. Then, you will receive the price for 1 kg flour. Here is the recipe for one cozonac:\n",
    "- Eggs:\t1 pack\n",
    "- Flour:\t1 kg\n",
    "- Milk:\t0.250 l"
   ]
  },
  {
   "cell_type": "markdown",
   "metadata": {},
   "source": [
    "The price for 1 pack of eggs is 75% of the price for 1 kg flour. The price for 1l milk is 25% more than price for 1 kg flour. Notice, that you need 0.250l milk for one cozonac and the calculated price is for 1l.\n",
    "Start cooking the cozonacs and keep making them until you have enough budget. Keep in mind that:\n",
    "- For every cozonac that you make, you will receive 3 colored eggs. \n",
    "- For every 3rd cozonac that you make, you will lose some of your colored eggs after you have received the usual 3 colored eggs for your cozonac. The count of eggs you will lose is calculated when you subtract 2 from your current count of cozonacs – ({currentCozonacsCount} – 2)"
   ]
  },
  {
   "cell_type": "markdown",
   "metadata": {},
   "source": [
    "In the end, print the cozonacs you made, the eggs you have gathered and the money you have left, formatted to the 2nd decimal place, in the following format:\n",
    "\"You made {countOfCozonacs} cozonacs! Now you have {coloredEggs} eggs and {moneyLeft}BGN left.\""
   ]
  },
  {
   "cell_type": "markdown",
   "metadata": {},
   "source": [
    "### Input / Constraints"
   ]
  },
  {
   "cell_type": "markdown",
   "metadata": {},
   "source": [
    "- On the 1st line you will receive the budget – a real number in the range [0.0…100000.0]\n",
    "- On the 2nd line you will receive the price for 1 kg flour – a real number in the range [0.0…100000.0]\n",
    "- The input will always be in the right format.\n",
    "- You will always have a remaining budget.\n",
    "- There will not be a case in which the eggs become a negative count."
   ]
  },
  {
   "cell_type": "markdown",
   "metadata": {},
   "source": [
    "### Output"
   ]
  },
  {
   "cell_type": "markdown",
   "metadata": {},
   "source": [
    "•\tIn the end print the count of cozonacs you have made, the colored eggs you have gathered and the money formatted to the 2nd decimal place in the format described above."
   ]
  },
  {
   "cell_type": "code",
   "execution_count": 14,
   "metadata": {},
   "outputs": [
    {
     "name": "stdout",
     "output_type": "stream",
     "text": [
      "20.5\n",
      "1.25\n",
      "You made 7 cozonacs! Now you have 16 eggs and 2.45BGN left.\n"
     ]
    }
   ],
   "source": [
    "budget = float(input())\n",
    "flour_price = float(input())\n",
    "\n",
    "egg_price = flour_price * 0.75\n",
    "milk_price = flour_price * 1.25 * 0.25\n",
    "cozonac_price = flour_price + egg_price + milk_price\n",
    "cozonacs = 0\n",
    "colored_eggs = 0\n",
    "\n",
    "while budget >= cozonac_price:\n",
    "    cozonacs += 1\n",
    "    colored_eggs += 3\n",
    "    if cozonacs % 3 == 0:\n",
    "        colored_eggs -= (cozonacs - 2)\n",
    "    budget -= cozonac_price\n",
    "    \n",
    "print(f\"You made {cozonacs} cozonacs! Now you have {colored_eggs} eggs and {budget:.2f}BGN left.\")"
   ]
  },
  {
   "cell_type": "markdown",
   "metadata": {},
   "source": [
    "# 10.\tChristmas Spirit "
   ]
  },
  {
   "cell_type": "markdown",
   "metadata": {},
   "source": [
    "It's time to get in a Christmas mood. You have to decorate the house in time for the big event, but you have limited days to do so.\n",
    "You will receive allowed quantity for one type of decoration and days left until Christmas day to decorate the house.\n",
    "There are 4 types of decorations and each piece costs a price:\n",
    "- Ornament Set – 2 dollars a piece\n",
    "- Tree Skirt – 5 dollars a piece\n",
    "- Tree Garlands – 3 dollars a piece\n",
    "- Tree Lights – 15 dollars a piece"
   ]
  },
  {
   "cell_type": "markdown",
   "metadata": {},
   "source": [
    "- Every second day you buy an Ornament Set quantity of times and increase your Christmas spirit by 5.\n",
    "- Every third day you buy Tree Skirts and Tree Garlands (both quantity of times) and increase your spirit by 13.\n",
    "- Every fifth day you buy Tree Lights quantity of times and increase your Christmas spirit by 17. If you have bought - Tree Skirts and Tree Garlands at the same day you additionally increase your spirit by 30.\n",
    "- Every tenth day you lose 20 spirit, because your cat ruins all tree decorations and you have to rebuild the tree and buy one piece of tree skirt, garlands and lights. That is why you are forced to increase the allowed quantity with 2 at the beginning of every eleventh day.\n",
    "- Also if the last day is a tenth day the cat decides to demolish even more and ruins the Christmas turkey and you lose additional 30 spirit.\n",
    "- At the end you must print the total cost and the gained spirit."
   ]
  },
  {
   "cell_type": "markdown",
   "metadata": {},
   "source": [
    "### Input / Constraints"
   ]
  },
  {
   "cell_type": "markdown",
   "metadata": {},
   "source": [
    "The input will consist of exactly 2 lines:\n",
    "- quantity – integer in range [1…100]\n",
    "- days – integer in range [1…100]"
   ]
  },
  {
   "cell_type": "markdown",
   "metadata": {},
   "source": [
    "### Output"
   ]
  },
  {
   "cell_type": "markdown",
   "metadata": {},
   "source": [
    "At the end print the total cost and the total gained spirit in the following format:\n",
    "- \"Total cost: {budget}\"\n",
    "- \"Total spirit: {totalSpirit}\"\n"
   ]
  },
  {
   "cell_type": "code",
   "execution_count": 16,
   "metadata": {},
   "outputs": [
    {
     "name": "stdout",
     "output_type": "stream",
     "text": [
      "3\n",
      "20\n",
      "Total cost: 558\n",
      "Total spirit: 156\n"
     ]
    }
   ],
   "source": [
    "quantity = int(input())\n",
    "days = int(input())\n",
    "\n",
    "ornament_set = 2\n",
    "tree_skirt = 5\n",
    "tree_garlands = 3\n",
    "tree_lights = 15\n",
    "christmas_spirit = 0\n",
    "costs = 0\n",
    "counter = 0\n",
    "\n",
    "for day in range(1, days + 1):\n",
    "    counter += 1\n",
    "    if counter == 11:\n",
    "        quantity += 2\n",
    "        counter = 0\n",
    "    if day % 2 == 0:\n",
    "        costs += (ornament_set * quantity)\n",
    "        christmas_spirit += 5\n",
    "    if day % 3 == 0:\n",
    "        costs += (tree_skirt * quantity + tree_garlands * quantity)\n",
    "        christmas_spirit += 13\n",
    "    if day % 5 == 0:\n",
    "        costs += (tree_lights * quantity)\n",
    "        christmas_spirit += 17\n",
    "        if day % 3 == 0:\n",
    "            christmas_spirit += 30\n",
    "    if day % 10 == 0:\n",
    "        christmas_spirit -= 20\n",
    "        costs += (tree_skirt + tree_garlands + tree_lights)\n",
    "        if day == days:\n",
    "            christmas_spirit -= 30\n",
    "            \n",
    "print(f\"Total cost: {costs}\")\n",
    "print(f\"Total spirit: {christmas_spirit}\")"
   ]
  }
 ],
 "metadata": {
  "kernelspec": {
   "display_name": "Python 3",
   "language": "python",
   "name": "python3"
  },
  "language_info": {
   "codemirror_mode": {
    "name": "ipython",
    "version": 3
   },
   "file_extension": ".py",
   "mimetype": "text/x-python",
   "name": "python",
   "nbconvert_exporter": "python",
   "pygments_lexer": "ipython3",
   "version": "3.8.3"
  }
 },
 "nbformat": 4,
 "nbformat_minor": 4
}
