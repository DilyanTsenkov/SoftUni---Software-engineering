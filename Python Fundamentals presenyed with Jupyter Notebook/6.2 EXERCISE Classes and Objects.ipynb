{
 "cells": [
  {
   "cell_type": "markdown",
   "metadata": {},
   "source": [
    "23.10.2020 EXERCISE:"
   ]
  },
  {
   "cell_type": "markdown",
   "metadata": {},
   "source": [
    "# Objects and Classes "
   ]
  },
  {
   "cell_type": "markdown",
   "metadata": {},
   "source": [
    "## 1.\tStorage"
   ]
  },
  {
   "cell_type": "markdown",
   "metadata": {},
   "source": [
    "Create a class Storage. The __init__ method should accept one parameter: the capacity of the storage. The Storage class should also have an attribute called storage, where all the items will be stored. The class should have two additional methods:\n",
    "- add_product(product) - adds the product in the storage if there is space for it\n",
    "- get_products() - returns the storage list"
   ]
  },
  {
   "cell_type": "code",
   "execution_count": 3,
   "metadata": {},
   "outputs": [
    {
     "name": "stdout",
     "output_type": "stream",
     "text": [
      "['apple', 'banana', 'potato', 'tomato', 'bread']\n"
     ]
    }
   ],
   "source": [
    "class Storage:\n",
    "    storage = []\n",
    "\n",
    "    def __init__(self, capacity ):\n",
    "        self.capacity  = capacity\n",
    "\n",
    "    def add_product(self, product):\n",
    "        if len(Storage.storage) < self.capacity :\n",
    "            Storage.storage.append(product)\n",
    "\n",
    "    def get_products(self):\n",
    "        return Storage.storage\n",
    "\n",
    "\n",
    "\n",
    "storage = Storage(5)\n",
    "storage.add_product(\"apple\")\n",
    "storage.add_product(\"banana\")\n",
    "storage.add_product(\"potato\")\n",
    "storage.add_product(\"tomato\")\n",
    "storage.add_product(\"bread\")\n",
    "print(storage.get_products())"
   ]
  },
  {
   "cell_type": "markdown",
   "metadata": {},
   "source": [
    "## 2.\tWeapon"
   ]
  },
  {
   "cell_type": "markdown",
   "metadata": {},
   "source": [
    "Create a class Weapon. The __init__ method should receive an amount of bullets (integer). Create an attribute called bullets, to store them. The class should also have the following methods:\n",
    "- shoot() - if there are bullets in the weapon, reduce them by 1 and return a message \"shooting…\". If there are no bullets left, return: \"no bullets left\""
   ]
  },
  {
   "cell_type": "markdown",
   "metadata": {},
   "source": [
    "You should also override the toString method, so that the following code: print(weapon) should work. To do that define a __repr__ method that returns \"Remaining bullets: {amount_of_bullets}\".\"Remaining bullets: {amount_of_bullets}\" You can read more about the __repr__ method here: link"
   ]
  },
  {
   "cell_type": "code",
   "execution_count": 4,
   "metadata": {},
   "outputs": [
    {
     "name": "stdout",
     "output_type": "stream",
     "text": [
      "Remaining bullets: 4\n"
     ]
    }
   ],
   "source": [
    "class Weapon:\n",
    "\n",
    "    def __init__(self, bullets):\n",
    "        self.bullets = int(bullets)\n",
    "\n",
    "    def shoot(self):\n",
    "        if self.bullets > 0:\n",
    "            self.bullets -= 1\n",
    "            return \"shooting...\"\n",
    "        else:\n",
    "            return \"no bullets left\"\n",
    "\n",
    "    def __repr__(self):\n",
    "        return f\"Remaining bullets: {self.bullets}\"\n",
    "\n",
    "\n",
    "weapon = Weapon(10)\n",
    "weapon.shoot()\n",
    "weapon.shoot()\n",
    "weapon.shoot()\n",
    "weapon.shoot()\n",
    "weapon.shoot()\n",
    "weapon.shoot()\n",
    "print(weapon)"
   ]
  },
  {
   "cell_type": "markdown",
   "metadata": {},
   "source": [
    "## 3.\tCatalogue"
   ]
  },
  {
   "cell_type": "markdown",
   "metadata": {},
   "source": [
    "Create a class Catalogue. The __init__ method should accept the name of the catalogue. Each catalogue should also have an attribute called products and it should be a list. The class should also have three more methods:\n",
    "- add_product(product) - add the product to the product list\n",
    "- get_by_letter(first_letter) - returns a list containing only the products that start with the given letter\n",
    "- __repr__ - returns the catalogue info in the following format: "
   ]
  },
  {
   "cell_type": "markdown",
   "metadata": {},
   "source": [
    "\"Items in the {name} catalogue:\n",
    "- {item1}\n",
    "- {item2}\n",
    "- …\"\n",
    "- The items should be sorted alphabetically (default sorting)"
   ]
  },
  {
   "cell_type": "code",
   "execution_count": 5,
   "metadata": {},
   "outputs": [
    {
     "name": "stdout",
     "output_type": "stream",
     "text": [
      "['Chair', 'Carpet']\n",
      "Items in the Furniture catalogue:\n",
      "Carpet\n",
      "Chair\n",
      "Desk\n",
      "Mirror\n",
      "Sofa\n"
     ]
    }
   ],
   "source": [
    "class Catalogue:\n",
    "    products = []\n",
    "\n",
    "    def __init__(self, name):\n",
    "        self.name = name\n",
    "\n",
    "    def add_product(self, product):\n",
    "        self.product = product\n",
    "        Catalogue.products.append(product)\n",
    "        Catalogue.products.sort()\n",
    "\n",
    "    def get_by_letter(self, first_letter):\n",
    "        letter = []\n",
    "        for el in Catalogue.products:\n",
    "            if el[0] == first_letter:\n",
    "                letter.insert(-1, el)\n",
    "        return letter\n",
    "\n",
    "    def __repr__(self):\n",
    "        result = f\"Items in the {self.name} catalogue:\\n\"\n",
    "        result += \"\\n\".join(Catalogue.products)\n",
    "        return result\n",
    "\n",
    "\n",
    "catalogue = Catalogue(\"Furniture\")\n",
    "catalogue.add_product(\"Sofa\")\n",
    "catalogue.add_product(\"Mirror\")\n",
    "catalogue.add_product(\"Desk\")\n",
    "catalogue.add_product(\"Chair\")\n",
    "catalogue.add_product(\"Carpet\")\n",
    "print(catalogue.get_by_letter(\"C\"))\n",
    "print(catalogue)"
   ]
  },
  {
   "cell_type": "markdown",
   "metadata": {},
   "source": [
    "## 4.\tTown"
   ]
  },
  {
   "cell_type": "markdown",
   "metadata": {},
   "source": [
    "Create a class Town. The __init__ method should receive the name of the town. It should also have 3 more methods:\n",
    "- set_latitude(latitude) - set an attribute called latitude to the given one\n",
    "- set_longitude(longitude) - set an attribute called longitude to the given one\n",
    "- __repr__ - return representation of the object in the following string format: \n",
    "\"Town: {name} | Latitude: {latitude} | Longitude: {longitude}\""
   ]
  },
  {
   "cell_type": "code",
   "execution_count": 6,
   "metadata": {},
   "outputs": [
    {
     "name": "stdout",
     "output_type": "stream",
     "text": [
      "Town: Sofia | Latitude: 42° 41' 51.04\" N | Longitude: 23° 19' 26.94\" E\n"
     ]
    }
   ],
   "source": [
    "class Town:\n",
    "    def __init__(self, name):\n",
    "        self.name = name\n",
    "\n",
    "    def set_latitude(self, latitude):\n",
    "        self.latitude = latitude\n",
    "\n",
    "    def set_longitude(self, longitude):\n",
    "        self.longitude = longitude\n",
    "\n",
    "    def __repr__(self):\n",
    "        return f\"Town: {self.name} | Latitude: {self.latitude} | Longitude: {self.longitude}\"\n",
    "\n",
    "\n",
    "town = Town(\"Sofia\")\n",
    "town.set_latitude(\"42° 41\\' 51.04\\\" N\")\n",
    "town.set_longitude(\"23° 19\\' 26.94\\\" E\")\n",
    "print(town)"
   ]
  },
  {
   "cell_type": "markdown",
   "metadata": {},
   "source": [
    "## 5.\tClass"
   ]
  },
  {
   "cell_type": "markdown",
   "metadata": {},
   "source": [
    "Create a class Class. The __init__ method should receive the name of the class. It should also have 2 lists (students and grades). Create a class attribute __students_count equal to 22. The class should also have 3 additional methods:\n",
    "- add_student(name, grade) - if there is space in the class, add the student and the grade in the two lists\n",
    "- get_average_grade() - returns the average of all existing grades formatted to the second decimal point (as a number)\n",
    "- __repr__ - returns the string (single line): \"The students in {class_name}: {students}. Average grade: {get_average_grade()}\". The students must be seperated by \", \""
   ]
  },
  {
   "cell_type": "code",
   "execution_count": 7,
   "metadata": {},
   "outputs": [
    {
     "name": "stdout",
     "output_type": "stream",
     "text": [
      "The students in 11B: Peter, George, Amy. Average grade: 4.77\n"
     ]
    }
   ],
   "source": [
    "class Class:\n",
    "    __students_count = 22\n",
    "\n",
    "    def __init__(self, name):\n",
    "        self.name = name\n",
    "        self.students = []\n",
    "        self.grades = []\n",
    "\n",
    "    def add_student(self, name, grade):\n",
    "        self.student_name = name\n",
    "        self.grade = grade\n",
    "        if len(self.students) < Class.__students_count:\n",
    "            self.students.append(self.student_name)\n",
    "            self.grades.append(self.grade)\n",
    "        self.students_string = \", \".join(self.students)\n",
    "\n",
    "    def get_average_grade(self):\n",
    "        grades_sum = sum(self.grades)\n",
    "        average = grades_sum / len(self.grades)\n",
    "        formatted_average = f\"{average:.2f}\"\n",
    "        return float(formatted_average)\n",
    "\n",
    "\n",
    "    def __repr__(self):\n",
    "        return f\"The students in {self.name}: {self.students_string}. Average grade: {(Class.get_average_grade(self))}\"\n",
    "\n",
    "\n",
    "a_class = Class(\"11B\")\n",
    "a_class.add_student(\"Peter\", 4.80)\n",
    "a_class.add_student(\"George\", 6.00)\n",
    "a_class.add_student(\"Amy\", 3.50)\n",
    "\n",
    "print(a_class)"
   ]
  },
  {
   "cell_type": "markdown",
   "metadata": {},
   "source": [
    "## 6.\tInventory"
   ]
  },
  {
   "cell_type": "markdown",
   "metadata": {},
   "source": [
    "Create a class Inventory. The __init__ method should accept only the capacity of the inventory. The capacity should be a private attribute (__capacity). You can read more about private attributes here. Each inventory should also have an attribute called items, where all the items will be stored. The class should also have 3 methods:\n",
    "- add_item(item) - adds the item in the inventory if there is space for it. Otherwise, returns \n",
    "\"not enough room in the inventory\"\n",
    "- get_capacity() - returns the value of __capacity\n",
    "- __repr__() - returns \"Items: {items}.\\nCapacity left: {left_capacity}\". The items should be separated by \", \""
   ]
  },
  {
   "cell_type": "code",
   "execution_count": 11,
   "metadata": {},
   "outputs": [
    {
     "name": "stdout",
     "output_type": "stream",
     "text": [
      "2\n",
      "Items: potion, sword.\n",
      "Capacity left: 0\n"
     ]
    }
   ],
   "source": [
    "class Inventory:\n",
    "    items = []\n",
    "\n",
    "    def __init__(self, capacity):\n",
    "        self.__capacity = capacity\n",
    "        self.left_capacity = self.__capacity\n",
    "\n",
    "    def add_item(self, item):\n",
    "        if len(Inventory.items) < self.__capacity:\n",
    "            Inventory.items.append(item)\n",
    "            self.left_capacity -= 1\n",
    "        else:\n",
    "            return \"not enough room in the inventory\"\n",
    "\n",
    "    def get_capacity(self):\n",
    "        return self.__capacity\n",
    "\n",
    "    def __repr__(self):\n",
    "        Inventory.items = \", \".join(Inventory.items)\n",
    "        return f\"Items: {Inventory.items}.\\nCapacity left: {self.left_capacity}\"\n",
    "\n",
    "\n",
    "inventory = Inventory(2)\n",
    "inventory.add_item(\"potion\")\n",
    "inventory.add_item(\"sword\")\n",
    "inventory.add_item(\"bottle\")\n",
    "print(inventory.get_capacity())\n",
    "print(inventory)"
   ]
  },
  {
   "cell_type": "markdown",
   "metadata": {},
   "source": [
    "## 7.\tArticles"
   ]
  },
  {
   "cell_type": "markdown",
   "metadata": {},
   "source": [
    "Create a class Article. The __init__ method should accept 3 arguments: title, content, author. The class should also have 4 methods:\n",
    "- edit(new_content) - changes the old content to the new one\n",
    "- change_author(new_author) - changes the old author to with the new one\n",
    "- rename(new_title) - changes the old title with the new one\n",
    "- __repr__() - returns the following string \"{title} - {content}: {author}\""
   ]
  },
  {
   "cell_type": "code",
   "execution_count": 8,
   "metadata": {},
   "outputs": [
    {
     "name": "stdout",
     "output_type": "stream",
     "text": [
      "new title - new content: new author\n"
     ]
    }
   ],
   "source": [
    "class Article:\n",
    "    def __init__(self, title, content, author):\n",
    "        self.title = title\n",
    "        self.content = content\n",
    "        self.author = author\n",
    "\n",
    "    def edit(self, new_content):\n",
    "        self.content = new_content\n",
    "\n",
    "    def change_author(self, new_author):\n",
    "        self.author = new_author\n",
    "\n",
    "    def rename(self, new_title):\n",
    "        self.title = new_title\n",
    "\n",
    "    def __repr__(self):\n",
    "        return f\"{self.title} - {self.content}: {self.author}\"\n",
    "\n",
    "\n",
    "article = Article(\"some title\", \"some content\", \"some author\")\n",
    "article.edit(\"new content\")\n",
    "article.rename(\"new title\")\n",
    "article.change_author(\"new author\")\n",
    "print(article)"
   ]
  },
  {
   "cell_type": "markdown",
   "metadata": {},
   "source": [
    "## 8.\t* Vehicle"
   ]
  },
  {
   "cell_type": "markdown",
   "metadata": {},
   "source": [
    "Create a class Vehicle. The __init__ method should receive: type, model, price. You should also set the owner to None. The class should have the following methods:\n",
    "- buy(money, owner) - if the person has enough money and the vehicle has no owner, returns: \"Successfully bought a {type}. Change: {change}\" and sets the owner to the given one. If the money is not enough, return: \"Sorry, not enough money\". If the car already has an owner, return: \"Car already sold\"\n",
    "- sell() - if the car has an owner, set it to None again. Otherwise, return: \"Vehicle has no owner\"\n",
    "- __repr__() - returns \"{model} {type} is owned by: {owner}\" if the vehicle has an owner. Otherwise, return: \"{model} {type} is on sale: {price}\""
   ]
  },
  {
   "cell_type": "code",
   "execution_count": 9,
   "metadata": {},
   "outputs": [
    {
     "name": "stdout",
     "output_type": "stream",
     "text": [
      "BMW car is owned by: George\n",
      "BMW car is on sale: 30000\n"
     ]
    }
   ],
   "source": [
    "class Vehicle:\n",
    "    def __init__(self, type, model, price):\n",
    "        self.type = type\n",
    "        self.model = model\n",
    "        self.price = price\n",
    "        self.owner = None\n",
    "\n",
    "    def buy(self, money, owner):\n",
    "        if self.price <= money and self.owner is None:\n",
    "            change = money - self.price\n",
    "            self.owner = owner\n",
    "            return f\"Successfully bought a {self.type}. Change: {change:.2f}\"\n",
    "        elif self.price > money:\n",
    "            return \"Sorry, not enough money\"\n",
    "        elif self.owner is not None:\n",
    "            return \"Car already sold\"\n",
    "\n",
    "    def sell(self):\n",
    "        if self.owner is not None:\n",
    "            self.owner = None\n",
    "        else:\n",
    "            return \"Vehicle has no owner\"\n",
    "\n",
    "    def __repr__(self):\n",
    "        if self.owner is not None:\n",
    "            return f\"{self.model} {self.type} is owned by: {self.owner}\"\n",
    "        else:\n",
    "            return f\"{self.model} {self.type} is on sale: {self.price}\"\n",
    "\n",
    "\n",
    "vehicle_type = \"car\"\n",
    "model = \"BMW\"\n",
    "price = 30000\n",
    "vehicle = Vehicle(vehicle_type, model, price)\n",
    "vehicle.buy(15000, \"Peter\")\n",
    "vehicle.buy(35000, \"George\")\n",
    "print(vehicle)\n",
    "vehicle.sell()\n",
    "print(vehicle)"
   ]
  },
  {
   "cell_type": "markdown",
   "metadata": {},
   "source": [
    "## 9.\t* Movie"
   ]
  },
  {
   "cell_type": "markdown",
   "metadata": {},
   "source": [
    "Create a class Movie. The __init__ method should receive a name and director. It should also have default value of an attribute watched to be False. There should also be a class attribute __watched_movies which will keep track of all the watched movies. The class should have the following methods:\n",
    "- change_name(new_name) - changes the name of the movie\n",
    "- change_director(new_director) - changes the director of the movie\n",
    "- watch() - change the watched attribute to True and increase the total watched movies class attribute (if the movie is not already watched)\n",
    "- __repr__() - returns \"Movie name: {name}; Movie director: {director}. Total watched movies: {__watched_movies}\""
   ]
  },
  {
   "cell_type": "code",
   "execution_count": 10,
   "metadata": {},
   "outputs": [
    {
     "name": "stdout",
     "output_type": "stream",
     "text": [
      "Movie name: Inception; Movie director: Me. Total watched movies: 2\n",
      "Movie name: The Matrix; Movie director: The Wachowskis. Total watched movies: 2\n",
      "Movie name: My Movie; Movie director: Shane Black. Total watched movies: 2\n"
     ]
    }
   ],
   "source": [
    "class Movie:\n",
    "    __watched_movies = []\n",
    "\n",
    "    def __init__(self, name, director, watched=False):\n",
    "        self.name = name\n",
    "        self.director = director\n",
    "        self.watched = watched\n",
    "\n",
    "    def change_name(self, new_name):\n",
    "        self.name = new_name\n",
    "\n",
    "    def change_director(self, new_director):\n",
    "        self.director = new_director\n",
    "\n",
    "    def watch(self):\n",
    "        if self.watched is False:\n",
    "            self.watched = True\n",
    "            Movie.__watched_movies.append(self.name)\n",
    "\n",
    "    def __repr__(self):\n",
    "        return f\"Movie name: {self.name}; Movie director: {self.director}. Total watched movies: {len(Movie.__watched_movies)}\"\n",
    "\n",
    "\n",
    "first_movie = Movie(\"Inception\", \"Christopher Nolan\")\n",
    "second_movie = Movie(\"The Matrix\", \"The Wachowskis\")\n",
    "third_movie = Movie(\"The Predator\", \"Shane Black\")\n",
    "first_movie.change_director(\"Me\")\n",
    "third_movie.change_name(\"My Movie\")\n",
    "first_movie.watch()\n",
    "third_movie.watch()\n",
    "first_movie.watch()\n",
    "print(first_movie)\n",
    "print(second_movie)\n",
    "print(third_movie)"
   ]
  }
 ],
 "metadata": {
  "kernelspec": {
   "display_name": "Python 3",
   "language": "python",
   "name": "python3"
  },
  "language_info": {
   "codemirror_mode": {
    "name": "ipython",
    "version": 3
   },
   "file_extension": ".py",
   "mimetype": "text/x-python",
   "name": "python",
   "nbconvert_exporter": "python",
   "pygments_lexer": "ipython3",
   "version": "3.8.3"
  }
 },
 "nbformat": 4,
 "nbformat_minor": 4
}
