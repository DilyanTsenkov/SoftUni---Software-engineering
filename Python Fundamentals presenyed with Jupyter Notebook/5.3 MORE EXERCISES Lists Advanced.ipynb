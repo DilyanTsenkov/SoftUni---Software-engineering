{
 "cells": [
  {
   "cell_type": "markdown",
   "metadata": {},
   "source": [
    "# More Exercises: Lists Advanced"
   ]
  },
  {
   "cell_type": "markdown",
   "metadata": {},
   "source": [
    "## 1.\tMessaging"
   ]
  },
  {
   "cell_type": "markdown",
   "metadata": {},
   "source": [
    "You will be given a list of numbers and a string. For each element of the list you have to calculate the sum of its digits and take the element, corresponding to that index from the text. If the index is greater than the length of the text, start counting from the beginning (so that you always have a valid index). Then you get that element from the text, you must remove the character you have taken from it (so for the next index, the text will be with one character less)."
   ]
  },
  {
   "cell_type": "code",
   "execution_count": 5,
   "metadata": {},
   "outputs": [
    {
     "name": "stdout",
     "output_type": "stream",
     "text": [
      "9992 562 8933\n",
      "This is some message for you\n",
      "hey\n"
     ]
    }
   ],
   "source": [
    "numbers = input().split()\n",
    "string = list(input())\n",
    "\n",
    "print_string = \"\"\n",
    "\n",
    "for el in numbers:\n",
    "    sum_of_numbers = 0\n",
    "    for i in el:\n",
    "        sum_of_numbers += int(i)\n",
    "\n",
    "    if sum_of_numbers < len(string):\n",
    "        print_string += string.pop(sum_of_numbers)\n",
    "    else:\n",
    "        n = sum_of_numbers % (len(string))\n",
    "        print_string += string.pop(n)\n",
    "\n",
    "print(print_string)"
   ]
  },
  {
   "cell_type": "markdown",
   "metadata": {},
   "source": [
    "## 2.\tCar Race"
   ]
  },
  {
   "cell_type": "markdown",
   "metadata": {},
   "source": [
    "Write a program to calculate the winner of a car race. You will receive a list of numbers. Each element of the list represents the time needed to pass through that step (the index). There are going to be two cars. One of them starts from the left side and the other one starts from the right side. The middle index of the list is the finish line. The number of elements in the list will always be odd. Calculate the total time for each racer to reach the finish, which is the middle of the list, and print the winner with his total time (the racer with less time). If you have a zero in the list, you have to reduce the time of the racer that reached it by 20% (from his current time)."
   ]
  },
  {
   "cell_type": "markdown",
   "metadata": {},
   "source": [
    "Print the result in the following format \"The winner is {left/right} with total time: {total time}\"."
   ]
  },
  {
   "cell_type": "code",
   "execution_count": null,
   "metadata": {},
   "outputs": [],
   "source": [
    "times = input().split()\n",
    "times = [int(el) for el in times]\n",
    "\n",
    "left_car_times = times[:(len(times) // 2)]\n",
    "right_car_times = times[(len(times) // 2 + 1):]\n",
    "right_car_times.reverse()\n",
    "\n",
    "\n",
    "def time_sum(car_times, all_times):\n",
    "    total_time = 0\n",
    "    for time in range(len(all_times) // 2):\n",
    "        if car_times[time] == 0:\n",
    "            total_time -= total_time * 0.2\n",
    "        else:\n",
    "            total_time += car_times[time]\n",
    "    return total_time\n",
    "\n",
    "\n",
    "left_car_total_time = time_sum(left_car_times, times)\n",
    "right_car_total_time = time_sum(right_car_times, times)\n",
    "\n",
    "if left_car_total_time < right_car_total_time:\n",
    "    print(f\"The winner is left with total time: {left_car_total_time:.1f}\")\n",
    "else:\n",
    "    print(f\"The winner is right with total time: {right_car_total_time:.1f}\")"
   ]
  },
  {
   "cell_type": "markdown",
   "metadata": {},
   "source": [
    "## 3.\tTake/Skip Rope"
   ]
  },
  {
   "cell_type": "markdown",
   "metadata": {},
   "source": [
    "Write a program, which reads a string and skips through it, extracting a hidden message. The algorithm you have to implement is as follows:"
   ]
  },
  {
   "cell_type": "markdown",
   "metadata": {},
   "source": [
    "Let’s take the string “skipTest_String044170” as an example."
   ]
  },
  {
   "cell_type": "markdown",
   "metadata": {},
   "source": [
    "Take every digit from the string and store it somewhere. After that, remove all the digits from the string. After this operation, you should have two lists of items: the numbers list and the non-numbers list:\n",
    "- Numbers list: [0, 4, 4, 1, 7, 0]\n",
    "- Non-numbers: [s, k, i, p, T, e, s, t, _, S, t, r, i, n, g]"
   ]
  },
  {
   "cell_type": "markdown",
   "metadata": {},
   "source": [
    "After that, take every digit in the numbers list and split it up into a take list and a skip list, depending on whether the digit is in an even or an odd index:\n",
    "- Numbers list: [0, 4, 4, 1, 7, 0]\n",
    "- Take list: [0, 4, 7]\n",
    "- Skip list: [4, 1, 0]"
   ]
  },
  {
   "cell_type": "markdown",
   "metadata": {},
   "source": [
    "Afterwards, iterate over both of the lists and skip {skipCount} characters from the non-numbers list, then take {takeCount} characters and store it in a result string. Note that the skipped characters are summed up as they go. The process would look like this on the aforementioned non-numbers list:\n",
    "1.\tTake 0 characters  Taken: \"\", skip 4 characters (total 0)  Skipped: \"skipTest_String\" Result: \"\"\n",
    "2.\tTake 4 characters Taken: \"Test\", skip 1 characters (total 4)  Skipped: \"skip\"  Result: \"Test\"\n",
    "3.\tTake 7 characters Taken: \"String\", skip 0 characters (total 9) Skipped: \"\"  Result: \"TestString\"\n",
    "After that, just print the result string on the console."
   ]
  },
  {
   "cell_type": "markdown",
   "metadata": {},
   "source": [
    "### Input"
   ]
  },
  {
   "cell_type": "markdown",
   "metadata": {},
   "source": [
    "First line: The encrypted message as a string"
   ]
  },
  {
   "cell_type": "markdown",
   "metadata": {},
   "source": [
    "### Output"
   ]
  },
  {
   "cell_type": "markdown",
   "metadata": {},
   "source": [
    "First line: The decrypted message as a string"
   ]
  },
  {
   "cell_type": "markdown",
   "metadata": {},
   "source": [
    "### Constraints"
   ]
  },
  {
   "cell_type": "markdown",
   "metadata": {},
   "source": [
    "- The count of digits in the input string will always be even.\n",
    "- The encrypted message will contain any printable ASCII character."
   ]
  },
  {
   "cell_type": "code",
   "execution_count": 4,
   "metadata": {},
   "outputs": [
    {
     "name": "stdout",
     "output_type": "stream",
     "text": [
      "this forbidden mess of an age rating 0127504740\n",
      "hidden message \n"
     ]
    }
   ],
   "source": [
    "encrypted_message = list(input())\n",
    "\n",
    "digit_in_message = list(filter(lambda el: el.isdigit(), encrypted_message))\n",
    "\n",
    "digit_in_message = [int(el) for el in digit_in_message]\n",
    "take_list = [digit_in_message[el] for el in range(len(digit_in_message)) if el % 2 == 0]\n",
    "skip_list = [digit_in_message[el] for el in range(len(digit_in_message)) if int(el) % 2 != 0]\n",
    "\n",
    "char_in_message = list(filter(lambda el: not el.isdigit(), encrypted_message))\n",
    "\n",
    "result = []\n",
    "for i in range(len(take_list)):\n",
    "    result += char_in_message[:take_list[i]]\n",
    "    char_in_message = char_in_message[take_list[i]:]\n",
    "    char_in_message = char_in_message[skip_list[i]:]\n",
    "\n",
    "print(\"\".join(result))"
   ]
  },
  {
   "cell_type": "markdown",
   "metadata": {},
   "source": [
    "## 4.\tSocial Distribution"
   ]
  },
  {
   "cell_type": "markdown",
   "metadata": {},
   "source": [
    "A core idea of several left-wing ideologies is that the wealthiest should support the poorest, no matter what and that is exactly what you are called to do for this problem."
   ]
  },
  {
   "cell_type": "markdown",
   "metadata": {},
   "source": [
    "On the first line you will be given the population (numbers separated by comma and space \", \"). On the second line you will be given the minimum wealth. You have to distribute the wealth, so that there is no part of the population that has less than the minimum wealth. To do that, you should always take wealth from the wealthiest part of the population. There will be cases, where the distribution will not be possible. In that case, print \"No equal distribution possible\" "
   ]
  },
  {
   "cell_type": "code",
   "execution_count": 3,
   "metadata": {},
   "outputs": [
    {
     "name": "stdout",
     "output_type": "stream",
     "text": [
      "2, 3, 5, 15, 75\n",
      "20\n",
      "[20, 20, 20, 20, 20]\n"
     ]
    }
   ],
   "source": [
    "population = input().split(\", \")\n",
    "min_wealth = int(input())\n",
    "\n",
    "population = [int(el) for el in population]\n",
    "\n",
    "for i in range(len(population)):\n",
    "    if population[i] < min_wealth:\n",
    "        max_p = population.index(max(population))\n",
    "        min_p = population.index(min(population))\n",
    "        if max(population) - min_wealth >= min_wealth - min(population):\n",
    "            population[max_p] -= min_wealth - population[min_p]\n",
    "            population[min_p] = min_wealth\n",
    "\n",
    "\n",
    "if min(population)<min_wealth:\n",
    "    print(\"No equal distribution possible\")\n",
    "\n",
    "else:\n",
    "    print(population)"
   ]
  },
  {
   "cell_type": "markdown",
   "metadata": {},
   "source": [
    "## 5.\tKate's Way Out"
   ]
  },
  {
   "cell_type": "markdown",
   "metadata": {},
   "source": [
    "Kate is stuck into a maze, you have to help her to find her way out"
   ]
  },
  {
   "cell_type": "markdown",
   "metadata": {},
   "source": [
    "On the first line you will be given how many rows there are in the maze. On the next n lines you will be given the maze itself. Here is a legend for the maze:\n",
    "- \"#\" - means a wall; Kate cannot go through there\n",
    "- \" \" - means empty space; Kate can go through there\n",
    "- \"k\" - the initial position of Kate; start looking for a way out from there"
   ]
  },
  {
   "cell_type": "markdown",
   "metadata": {},
   "source": [
    "There are two options: Kate either gets out or not. If Kate can get out print the following: \n",
    "\"Kate got out in {number_of_moves} moves\". Otherwise print: \"Kate cannot get out\""
   ]
  },
  {
   "cell_type": "code",
   "execution_count": 2,
   "metadata": {},
   "outputs": [
    {
     "name": "stdout",
     "output_type": "stream",
     "text": [
      "4\n",
      "######\n",
      "##  k#\n",
      "## ###\n",
      "## ###\n",
      "Kate got out in 5 moves\n"
     ]
    }
   ],
   "source": [
    "maze_rows = int(input())\n",
    "\n",
    "maze = [list(input()) for row in range(maze_rows)]\n",
    "\n",
    "for row_k in range(maze_rows):\n",
    "    if \"k\" in maze[row_k]:\n",
    "        place_of_k = [row_k, maze[row_k].index(\"k\")]\n",
    "\n",
    "no_way_out = False\n",
    "break_flag = False\n",
    "\n",
    "moves = 0\n",
    "\n",
    "while True:\n",
    "    if break_flag:\n",
    "        moves += 1\n",
    "        break\n",
    "    no_more_col = True\n",
    "    no_more_row = True\n",
    "    while True:\n",
    "        for column in range(place_of_k[1] - 1, place_of_k[1] + 2):\n",
    "            no_more_col = True\n",
    "            if \" \" not in maze[place_of_k[0]]:\n",
    "                break\n",
    "            if maze[place_of_k[0]][column] == \" \":\n",
    "                maze[place_of_k[0]][place_of_k[1]] = \"*\"\n",
    "                maze[place_of_k[0]][column] = \"k\"\n",
    "                place_of_k = [place_of_k[0], column]\n",
    "                no_more_col = False\n",
    "                moves += 1\n",
    "                break\n",
    "        for el in range(len(maze)):\n",
    "            if ((maze[el][0] == \"k\" and maze[el][1] != \" \") and (\n",
    "                    maze[el][0] == \"k\" and maze[el + 1][0] != \" \") and (\n",
    "                        maze[el][0] == \"k\" and maze[el - 1][0] != \" \")) or (\n",
    "                    (maze[el][-1] == \"k\" and maze[el][-2] != \" \") and (\n",
    "                    maze[el][-1] == \"k\" and maze[el + 1][-2] != \" \") and (\n",
    "                            maze[el][-1] == \"k\" and maze[el - 1][-2] != \" \")):\n",
    "                break_flag = True\n",
    "                no_more_col = False\n",
    "                break\n",
    "        break\n",
    "\n",
    "    while True:\n",
    "        for row in range(place_of_k[0] - 1, place_of_k[0] + 2):\n",
    "            no_more_row =True\n",
    "            if row < 0:\n",
    "                continue\n",
    "            if \"k\" in maze[maze_rows - 1] and \" \" not in maze[maze_rows - 2]:\n",
    "                break\n",
    "            if maze[row][place_of_k[1]] == \" \":\n",
    "                maze[place_of_k[0]][place_of_k[1]] = \"*\"\n",
    "                maze[row][place_of_k[1]] = \"k\"\n",
    "                place_of_k = [row, place_of_k[1]]\n",
    "                no_more_row = False\n",
    "                moves += 1\n",
    "                break\n",
    "        if (\"k\" in maze[0] and \" \" not in maze[0]) or (\"k\" in maze[maze_rows - 1] and \" \" not in maze[maze_rows - 1]):\n",
    "            break_flag = True\n",
    "            break\n",
    "        break\n",
    "    if no_more_col and no_more_row:\n",
    "        no_way_out = True\n",
    "        break\n",
    "if no_way_out:\n",
    "    print(\"Kate cannot get out\")\n",
    "else:\n",
    "    print(f\"Kate got out in {moves} moves\")"
   ]
  }
 ],
 "metadata": {
  "kernelspec": {
   "display_name": "Python 3",
   "language": "python",
   "name": "python3"
  },
  "language_info": {
   "codemirror_mode": {
    "name": "ipython",
    "version": 3
   },
   "file_extension": ".py",
   "mimetype": "text/x-python",
   "name": "python",
   "nbconvert_exporter": "python",
   "pygments_lexer": "ipython3",
   "version": "3.8.3"
  }
 },
 "nbformat": 4,
 "nbformat_minor": 4
}
