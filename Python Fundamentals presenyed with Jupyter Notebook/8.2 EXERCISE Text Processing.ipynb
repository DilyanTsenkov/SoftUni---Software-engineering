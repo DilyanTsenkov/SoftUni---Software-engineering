{
 "cells": [
  {
   "cell_type": "markdown",
   "metadata": {},
   "source": [
    "### 20.11.2020 EXERCISE:"
   ]
  },
  {
   "cell_type": "markdown",
   "metadata": {},
   "source": [
    "# Text Processing - Exercise"
   ]
  },
  {
   "cell_type": "markdown",
   "metadata": {},
   "source": [
    "## 1.\tValid Usernames\n",
    "Write a program that reads user names on a single line (joined by \", \") and prints all valid usernames. \n",
    "<br><br>A valid username is:\n",
    "* Has length between 3 and 16 characters\n",
    "* Contains only letters, numbers, hyphens and underscores\n",
    "* Has no redundant symbols before, after or in between"
   ]
  },
  {
   "cell_type": "code",
   "execution_count": 1,
   "metadata": {},
   "outputs": [
    {
     "name": "stdout",
     "output_type": "stream",
     "text": [
      "Jeff, john45, ab, cd, peter-ivanov, @smith\n",
      "Jeff\n",
      "john45\n",
      "peter-ivanov\n"
     ]
    }
   ],
   "source": [
    "user_name = input()\n",
    "user_name = user_name.split(\", \")\n",
    "\n",
    "for name in user_name:\n",
    "    if 3 <= len(name) <= 16:\n",
    "        counter = 0\n",
    "        for char in name:\n",
    "            if char.isalpha() or char.isdigit() or char == \"-\" or char == \"_\":\n",
    "                counter += 1\n",
    "                if counter == len(name):\n",
    "                    print(name)"
   ]
  },
  {
   "cell_type": "markdown",
   "metadata": {},
   "source": [
    "## 2.\t Character Multiplier\n",
    "Create a program that receives two strings on a single lines seperated by space and prints the sum of their character codes multiplied (multiply str1[0] with str2[0] and add to the total sum). Then continue with the next two characters. If one of the strings is longer than the other, add the remaining character codes to the total sum without multiplication."
   ]
  },
  {
   "cell_type": "code",
   "execution_count": 2,
   "metadata": {},
   "outputs": [
    {
     "name": "stdout",
     "output_type": "stream",
     "text": [
      "George Peter\n",
      "52114\n"
     ]
    }
   ],
   "source": [
    "text = input().split()\n",
    "\n",
    "shortest = min(len(text[0]), len(text[1]))\n",
    "total_sum = 0\n",
    "\n",
    "for n in range(shortest):\n",
    "    total_sum += ord(text[0][n]) * ord(text[1][n])\n",
    "\n",
    "text[0] = text[0][shortest:]\n",
    "text[1] = text[1][shortest:]\n",
    "text = \"\".join(text)\n",
    "\n",
    "for char in text:\n",
    "    total_sum += ord(char)\n",
    "\n",
    "print(total_sum)"
   ]
  },
  {
   "cell_type": "markdown",
   "metadata": {},
   "source": [
    "## 3.\t Extract File\n",
    "Write a program that reads the path to a file and subtracts the file name and its extension."
   ]
  },
  {
   "cell_type": "code",
   "execution_count": 3,
   "metadata": {},
   "outputs": [
    {
     "name": "stdout",
     "output_type": "stream",
     "text": [
      "C:\\Internal\\training-internal\\Template.pptx\n",
      "File name: Template\n",
      "File extension: pptx\n"
     ]
    }
   ],
   "source": [
    "path = input()\n",
    "for n in range(len(path) - 1, 0, -1):\n",
    "    if path[n] == \"\\\\\":\n",
    "        index = n\n",
    "        path = path[index + 1::]\n",
    "        break\n",
    "\n",
    "for el in path:\n",
    "    if el == \".\":\n",
    "        index = path.index(el)\n",
    "\n",
    "file_name = path[:index]\n",
    "extension = path[index + 1::]\n",
    "\n",
    "print(f\"File name: {file_name}\")\n",
    "print(f\"File extension: {extension}\")"
   ]
  },
  {
   "cell_type": "markdown",
   "metadata": {},
   "source": [
    "## 4.\t Caesar Cipher\n",
    "Write a program that returns an encrypted version of the same text. Encrypt the text by shifting each character with three positions forward. For example A would be replaced by D, B would become E, and so on. Print the encrypted text."
   ]
  },
  {
   "cell_type": "code",
   "execution_count": 4,
   "metadata": {},
   "outputs": [
    {
     "name": "stdout",
     "output_type": "stream",
     "text": [
      "One year has 365 days.\n",
      "Rqh#|hdu#kdv#698#gd|v1"
     ]
    }
   ],
   "source": [
    "text = input()\n",
    "\n",
    "for letter in text:\n",
    "    letter = chr(ord(letter) + 3)\n",
    "    print(letter, end=\"\")"
   ]
  },
  {
   "cell_type": "markdown",
   "metadata": {},
   "source": [
    "## 5.\t Emoticon Finder\n",
    "Find all emoticons in the text. An emoticon always starts with \":\" and is followed by a symbol.\n",
    "The input will be provided as a single string.\n"
   ]
  },
  {
   "cell_type": "code",
   "execution_count": 5,
   "metadata": {},
   "outputs": [
    {
     "name": "stdout",
     "output_type": "stream",
     "text": [
      "There are so many emoticons nowadays :P. I have many ideas :O what input to place here :)\n",
      ":P\n",
      ":O\n",
      ":)\n"
     ]
    }
   ],
   "source": [
    "text = input()\n",
    "\n",
    "for n in range(len(text)):\n",
    "    if text[n] == \":\":\n",
    "        print(f\":{text[n + 1]}\")"
   ]
  },
  {
   "cell_type": "markdown",
   "metadata": {},
   "source": [
    "## 6.\t Replace Repeating Chars\n",
    "Write a program that reads a string from the console and replaces any sequence of the same letters with a single corresponding letter."
   ]
  },
  {
   "cell_type": "code",
   "execution_count": 6,
   "metadata": {},
   "outputs": [
    {
     "name": "stdout",
     "output_type": "stream",
     "text": [
      "aaaaabbbbbcdddeeeedssaa\n",
      "abcdedsa\n"
     ]
    }
   ],
   "source": [
    "text = input()\n",
    "\n",
    "counter = 0\n",
    "\n",
    "while True:\n",
    "    if counter == len(text) - 1:\n",
    "        print(text[counter])\n",
    "        break\n",
    "    elif text[counter] == text[counter + 1]:\n",
    "        counter += 1\n",
    "        continue\n",
    "    else:\n",
    "        print(text[counter], end=\"\")\n",
    "        counter += 1"
   ]
  },
  {
   "cell_type": "markdown",
   "metadata": {},
   "source": [
    "## 7.\t String Explosion\n",
    "Explosions are marked with '>'. Immediately after the mark, there will be an integer, which signifies the strength of the explosion.\n",
    "<br><br>You should remove x characters (where x is the strength of the explosion), starting after the punch character ('>').\n",
    "<br>If you find another explosion mark ('>') while you’re deleting characters, you should add the strength to your previous explosion.\n",
    "<br>When all characters are processed, print the string without the deleted characters. \n",
    "<br>You should not delete the explosion character – '>', but you should delete the integers, which represent the strength. \n",
    "### Input\n",
    "* You will receive single line with the string."
   ]
  },
  {
   "cell_type": "markdown",
   "metadata": {},
   "source": [
    "### Output\n",
    "Print what is left from the string after explosions."
   ]
  },
  {
   "cell_type": "markdown",
   "metadata": {},
   "source": [
    "### Constraints\n",
    "* You will always receive a strength for the punches\n",
    "* The path will consist only of letters from the Latin alphabet, integers and the char '>'\n",
    "* The strength of the punches will be in the interval [0…9]"
   ]
  },
  {
   "cell_type": "code",
   "execution_count": 7,
   "metadata": {},
   "outputs": [
    {
     "name": "stdout",
     "output_type": "stream",
     "text": [
      "pesho>2sis>1a>2akarate>4hexmaster\n",
      "pesho>is>a>karate>master\n"
     ]
    }
   ],
   "source": [
    "text = input()\n",
    "\n",
    "counter = 0\n",
    "\n",
    "while True:\n",
    "    if counter == len(text):\n",
    "        break\n",
    "    if text[counter] == \">\":\n",
    "        strength = int(text[counter + 1])\n",
    "        while strength != 0:\n",
    "            if text[counter + 1] == \">\":\n",
    "                strength += int(text[counter + 2])\n",
    "                index = counter + 2\n",
    "                text = text[0:index:] + text[index::]\n",
    "                counter += 1\n",
    "            else:\n",
    "                index = counter + 1\n",
    "                text = text[0: index:] + text[index + 1::]\n",
    "            strength -= 1\n",
    "            if counter + 1 == len(text):\n",
    "                break\n",
    "        counter += 1\n",
    "    else:\n",
    "        counter += 1\n",
    "\n",
    "print(text)"
   ]
  },
  {
   "cell_type": "markdown",
   "metadata": {},
   "source": [
    "## 8.\t *Letters Change Numbers\n",
    "Nakov likes Math. But he also likes the English alphabet a lot. He invented a game with numbers and letters from the English alphabet. The game was simple. You get a string consisting of a number between two letters. Depending on whether the letter was in front of the number or after it you would perform different mathematical operations on the number to achieve the result.\n",
    "<br><br>First you start with the letter before the number. \n",
    "* If it's uppercase you divide the number by the letter's position in the alphabet. \n",
    "* If it's lowercase you multiply the number with the letter's position in the alphabet. \n",
    "<br><br>Then you move to the letter after the number. \n",
    "* If it's uppercase you subtract its position from the resulted number.\n",
    "* If it's lowercase you add its position to the resulted number.\n",
    "<br><br>But the game became too easy for Nakov really quick. He decided to complicate it a bit by doing the same but with multiple strings keeping track of only the total sum of all results. Once he started to solve this with more strings and bigger numbers it became quite hard to do it only in his mind. So he kindly asks you to write a program that calculates the sum of all numbers after the operations on each number have been done.\n",
    "<br><br>For example, you are given the sequence \"A12b s17G\":\n",
    "<br><br>We have two strings – \"A12b\" and \"s17G\". We do the operations on each and sum them. We start with the letter before the number on the first string. A is Uppercase and its position in the alphabet is 1. So we divide the number 12 with the position 1 (12/1 = 12). Then we move to the letter after the number. b is lowercase and its position is 2. So we add 2 to the resulted number (12+2=14). Similarly for the second string s is lowercase and its position is 19 so we multiply it with the number (17*19 = 323). Then we have Uppercase G with position 7, so we subtract it from the resulted number (323 – 7 = 316). Finally, we sum the 2 results and we get 14 + 316=330.\n",
    "### Input\n",
    "The input comes from the console as a single line, holding the sequence of strings. Strings are separated by one or more white spaces.\n",
    "<br><br>The input data will always be valid and in the format described. There is no need to check it explicitly.\n",
    "### Output\n",
    "Print at the console a single number: the total sum of all processed numbers rounded up to two digits after the decimal separator.\n",
    "### Constraints\n",
    "* The count of the strings will be in the range [1 … 10].\n",
    "* The numbers between the letters will be integers in range [1 … 2 147 483 647].\n",
    "* Time limit: 0.3 sec. Memory limit: 16 MB."
   ]
  },
  {
   "cell_type": "code",
   "execution_count": 8,
   "metadata": {},
   "outputs": [
    {
     "name": "stdout",
     "output_type": "stream",
     "text": [
      "A12b s17G\n",
      "330.00\n"
     ]
    }
   ],
   "source": [
    "def first_letter(r_string, first_i, num):\n",
    "    if r_string[first_index].isupper():\n",
    "        num /= (ord(r_string[first_i]) - 64)\n",
    "    elif r_string[first_index].islower():\n",
    "        num *= (ord(r_string[first_i]) - 96)\n",
    "    return num\n",
    "\n",
    "\n",
    "def second_letter(r_string, second_i, num):\n",
    "    if r_string[second_i].isupper():\n",
    "        num -= (ord(r_string[second_i]) - 64)\n",
    "    elif r_string[second_i].islower():\n",
    "        num += (ord(r_string[second_i]) - 96)\n",
    "    return num\n",
    "\n",
    "\n",
    "received_string = input()\n",
    "number = \"\"\n",
    "result = 0\n",
    "\n",
    "for n in range(len(received_string)):\n",
    "    if received_string[n] == \" \":\n",
    "        continue\n",
    "    if received_string[n].isalpha():\n",
    "        if number == \"\":\n",
    "            first_index = n\n",
    "        else:\n",
    "            second_index = n\n",
    "            number = first_letter(received_string, first_index, float(number))\n",
    "            number = second_letter(received_string, second_index, float(number))\n",
    "            result += number\n",
    "            number = \"\"\n",
    "    elif received_string[n].isdigit():\n",
    "        number += received_string[n]\n",
    "\n",
    "print(f\"{result:.2f}\")"
   ]
  },
  {
   "cell_type": "markdown",
   "metadata": {},
   "source": [
    "## 9.\t *Rage Quit\n",
    "Every gamer knows what rage-quitting means. It’s basically when you’re just not good enough and you blame everybody else for losing a game. You press the CAPS LOCK key on the keyboard and flood the chat with gibberish to show your frustration.\n",
    "<br><br>Chochko is a gamer, and a bad one at that. He asks for your help; he wants to be the most annoying kid in his team, so when he rage-quits he wants something truly spectacular. He’ll give you a series of strings followed by non-negative numbers, e.g. \"a3\"; you need to print on the console each string repeated N times; convert the letters to uppercase beforehand. In the example, you need to write back \"AAA\". \n",
    "<br><br>On the output, print first a statistic of the number of unique symbols used (the casing of letters is irrelevant, meaning that 'a' and 'A' are the same); the format shoud be \"Unique symbols used {0}\". Then, print the rage message itself.\n",
    "<br><br>The strings and numbers will not be separated by anything. The input will always start with a string and for each string there will be a corresponding number. The entire input will be given on a single line; Chochko is too lazy to make your job easier.\n",
    "### Input\n",
    "* The input data should be read from the console.\n",
    "* It consists of a single line holding a series of string-number sequences.\n",
    "* The input data will always be valid and in the format described. There is no need to check it explicitly.\n",
    "### Output\n",
    "* The output should be printed on the console. It should consist of exactly two lines.\n",
    "* On the first line, print the number of unique symbols used in the message.\n",
    "* On the second line, print the resulting rage message itself.\n",
    "### Constraints\n",
    "* The count of string-number pairs will be in the range [1 … 20 000].\n",
    "* Each string will contain any character except digits. The length of each string will be in the range [1 … 20].\n",
    "* The repeat count for each string will be an integer in the range [0 … 20].\n",
    "* Allowed working time for your program: 0.3 seconds. Allowed memory: 64 MB."
   ]
  },
  {
   "cell_type": "code",
   "execution_count": 9,
   "metadata": {},
   "outputs": [
    {
     "name": "stdout",
     "output_type": "stream",
     "text": [
      "aSd2&5s@1\n",
      "Unique symbols used: 5\n",
      "ASDASD&&&&&S@\n"
     ]
    }
   ],
   "source": [
    "received_string = input().upper()\n",
    "\n",
    "string_to_print = \"\"\n",
    "index = 0\n",
    "\n",
    "while len(received_string) > 0:\n",
    "    if received_string[index].isdigit():\n",
    "        if index + 1 < len(received_string):\n",
    "            if received_string[index + 1].isdigit():\n",
    "                number = received_string[index] + received_string[index + 1]\n",
    "                number = int(number)\n",
    "                string_to_print += (received_string[:index].upper()) * int(number)\n",
    "                received_string = received_string[index + 2:]\n",
    "                index = -1\n",
    "            else:\n",
    "                if int(received_string[index]) == 0:\n",
    "                    received_string = received_string[index + 1:]\n",
    "                    index = -1\n",
    "                else:\n",
    "                    string_to_print += (received_string[:index].upper()) * int(received_string[index])\n",
    "                    received_string = received_string[index + 1:]\n",
    "                    index = -1\n",
    "        else:\n",
    "            if int(received_string[index]) == 0:\n",
    "                received_string = received_string[index + 1:]\n",
    "                index = -1\n",
    "            else:\n",
    "                string_to_print += (received_string[:index].upper()) * int(received_string[index])\n",
    "                received_string = received_string[index + 1:]\n",
    "                index = -1\n",
    "    index += 1\n",
    "\n",
    "print(f\"Unique symbols used: {len(set(string_to_print))}\")\n",
    "print(string_to_print)"
   ]
  },
  {
   "cell_type": "markdown",
   "metadata": {},
   "source": [
    "## 10.\t*Winning Ticket\n",
    "<br><br>Lottery is exciting. What is not, is checking a million tickets for winnings only by hand. So, you are given the task to create a program which automatically checks if a ticket is a winner. \n",
    "<br><br>You are given a collection of tickets separated by commas and spaces. You need to check every one of them if it has a winning combination of symbols.\n",
    "<br><br>A valid ticket should have exactly 20 characters. The winning symbols are '@', '#', 'S', and '^'. But in order for a ticket to be a winner the symbol should uninterruptedly repeat for at least 6 times in both the tickets left half and the tickets right half. \n",
    "<br><br>For example, a valid winning ticket should be something like this: \n",
    "<br><br>\"CashSSSSSSCaSSSSSSsh\" \n",
    "<br><br>The left half \"CashSSSSSS\" contains \"SSSSSS\", which is also contained in the tickets right half \"CaSSSSSSsh\". <br><br>A winning ticket should contain symbols repeating up to 10 times in both halves, which is considered a Jackpot (for example: \"SSSSSSSSSSSSSSSSSSSS\")."
   ]
  },
  {
   "cell_type": "markdown",
   "metadata": {},
   "source": [
    "\n",
    "### Input\n",
    "The input will be read from the console. The input consists of a single line containing all tickets separated by commas and one or more white spaces in the format:\n",
    "* \"{ticket}, {ticket}, … {ticket}\""
   ]
  },
  {
   "cell_type": "markdown",
   "metadata": {},
   "source": [
    "### Output\n",
    "Print the result for every ticket in the order of their appearance, each on a separate line in the format:\n",
    "* Invalid ticket - \"invalid ticket\"\n",
    "* No match - \"ticket \"{ticket}\" - no match\"\n",
    "* Match with length 6 to 9 - \"ticket \"{ticket}\" - {match length}{match symbol}\"\n",
    "* Match with length 10 - \"ticket \"{ticket}\" - {match length}{match symbol} Jackpot!\""
   ]
  },
  {
   "cell_type": "markdown",
   "metadata": {},
   "source": [
    "### Constrains\n",
    "* Number of tickets will be in range [0 … 100]"
   ]
  },
  {
   "cell_type": "code",
   "execution_count": 10,
   "metadata": {},
   "outputs": [
    {
     "name": "stdout",
     "output_type": "stream",
     "text": [
      "$$$$$$$$$$$$$$$$$$$$, aabb  , th@@@@@@eemo@@@@@@ey\n",
      "ticket \"$$$$$$$$$$$$$$$$$$$$\" - 10$ Jackpot!\n",
      "invalid ticket\n",
      "ticket \"th@@@@@@eemo@@@@@@ey\" - 6@\n"
     ]
    }
   ],
   "source": [
    "def validator(ticket_checker):\n",
    "    if len(ticket_checker) != 20:\n",
    "        return False\n",
    "    return True\n",
    "\n",
    "\n",
    "def winner_searcher(part, win_symbol):\n",
    "    counter = 0\n",
    "    symbol_counter = 0\n",
    "    p_symbol = \"\"\n",
    "    symbol = \"\"\n",
    "    for n in range(10):\n",
    "        current_symbol = part[n]\n",
    "        if current_symbol == p_symbol and current_symbol in win_symbol:\n",
    "            counter += 1\n",
    "            if counter >= 6:\n",
    "                symbol = current_symbol\n",
    "                symbol_counter = counter\n",
    "        elif current_symbol in win_symbol:\n",
    "            p_symbol = current_symbol\n",
    "            counter = 1\n",
    "        else:\n",
    "            counter = 0\n",
    "            p_symbol = current_symbol\n",
    "    return symbol, symbol_counter\n",
    "\n",
    "\n",
    "tickets = input().split(\", \")\n",
    "winners = [\"@\", \"#\", \"$\", \"^\"]\n",
    "\n",
    "for ticket in tickets:\n",
    "    ticket = ticket.strip()\n",
    "    is_valid = validator(ticket)\n",
    "    if not is_valid:\n",
    "        print(\"invalid ticket\")\n",
    "    else:\n",
    "        first_part_symbol, first_part_counter = winner_searcher(ticket[:10], winners)\n",
    "        second_part_symbol, second_part_counter = winner_searcher(ticket[10:], winners)\n",
    "        if first_part_counter == 10 and second_part_counter == 10 and first_part_symbol == second_part_symbol:\n",
    "            print(f'ticket \"{ticket}\" - {first_part_counter}{first_part_symbol} Jackpot!')\n",
    "        elif first_part_symbol == second_part_symbol and 6 <= first_part_counter and second_part_counter >= 6:\n",
    "            print(f'ticket \"{ticket}\" - {min(first_part_counter, second_part_counter)}{first_part_symbol}')\n",
    "        else:\n",
    "            print(f'ticket \"{ticket}\" - no match')"
   ]
  }
 ],
 "metadata": {
  "kernelspec": {
   "display_name": "Python 3",
   "language": "python",
   "name": "python3"
  },
  "language_info": {
   "codemirror_mode": {
    "name": "ipython",
    "version": 3
   },
   "file_extension": ".py",
   "mimetype": "text/x-python",
   "name": "python",
   "nbconvert_exporter": "python",
   "pygments_lexer": "ipython3",
   "version": "3.8.3"
  }
 },
 "nbformat": 4,
 "nbformat_minor": 4
}
