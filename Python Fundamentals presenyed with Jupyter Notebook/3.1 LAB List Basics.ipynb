{
 "cells": [
  {
   "cell_type": "markdown",
   "metadata": {},
   "source": [
    "29.09.2020 Lab"
   ]
  },
  {
   "cell_type": "markdown",
   "metadata": {},
   "source": [
    "# Lists Basics"
   ]
  },
  {
   "cell_type": "markdown",
   "metadata": {},
   "source": [
    "## 1.\tStrange Zoo"
   ]
  },
  {
   "cell_type": "markdown",
   "metadata": {},
   "source": [
    "You are at the zoo and the meerkats look strange. You will receive 3 strings: (tail, body, head). You have to re-arrange the elements in a list, so that the animal looks normal again: (head, body, tail)"
   ]
  },
  {
   "cell_type": "code",
   "execution_count": 1,
   "metadata": {},
   "outputs": [
    {
     "name": "stdout",
     "output_type": "stream",
     "text": [
      "tail\n",
      "body\n",
      "head\n",
      "['head', 'body', 'tail']\n"
     ]
    }
   ],
   "source": [
    "tail = input()\n",
    "body = input()\n",
    "head = input()\n",
    "\n",
    "meerkats_list = [tail, body, head]\n",
    "meerkats_list[0], meerkats_list[2] = meerkats_list[2], meerkats_list[0]\n",
    "\n",
    "print(meerkats_list)"
   ]
  },
  {
   "cell_type": "markdown",
   "metadata": {},
   "source": [
    "## 2.\tCourses"
   ]
  },
  {
   "cell_type": "markdown",
   "metadata": {},
   "source": [
    "You will receive a single number n. On the next n lines you will receive names of courses. You have to create a list of them and print it"
   ]
  },
  {
   "cell_type": "code",
   "execution_count": 2,
   "metadata": {},
   "outputs": [
    {
     "name": "stdout",
     "output_type": "stream",
     "text": [
      "4\n",
      "Front-End\n",
      "C# Web\n",
      "JS Core\n",
      "Programming Fundamentals\n",
      "['Front-End', 'C# Web', 'JS Core', 'Programming Fundamentals']\n"
     ]
    }
   ],
   "source": [
    "courses = int(input())\n",
    "\n",
    "courses_list = []\n",
    "\n",
    "for course in range(courses):\n",
    "    course_name = input()\n",
    "    courses_list.append(course_name)\n",
    "\n",
    "print(courses_list)"
   ]
  },
  {
   "cell_type": "markdown",
   "metadata": {},
   "source": [
    "## 3.\tList Statistics"
   ]
  },
  {
   "cell_type": "markdown",
   "metadata": {},
   "source": [
    "You will be given a number n. On the next n lines you will receive integers. You have to create and print two lists:\n",
    "- One with all the positives (including 0) numbers\n",
    "- One with all the negatives numbers\n",
    "- Finally print the following message: \"Count of positives: {count_positives}. Sum of negatives: {sum_of_negatives}\""
   ]
  },
  {
   "cell_type": "code",
   "execution_count": 3,
   "metadata": {},
   "outputs": [
    {
     "name": "stdout",
     "output_type": "stream",
     "text": [
      "5\n",
      "10\n",
      "3\n",
      "2\n",
      "-15\n",
      "-4\n",
      "[10, 3, 2]\n",
      "[-15, -4]\n",
      "Count of positives: 3. Sum of negatives: -19\n"
     ]
    }
   ],
   "source": [
    "number = int(input())\n",
    "\n",
    "positive_list = []\n",
    "negative_list = []\n",
    "\n",
    "for num in range(number):\n",
    "    integer = int(input())\n",
    "    if integer < 0:\n",
    "        negative_list.append(integer)\n",
    "    else:\n",
    "        positive_list.append(integer)\n",
    "\n",
    "print(positive_list)\n",
    "print(negative_list)\n",
    "print(f\"Count of positives: {len(positive_list)}. Sum of negatives: {sum(negative_list)}\")"
   ]
  },
  {
   "cell_type": "markdown",
   "metadata": {},
   "source": [
    "## 4.\tSearch"
   ]
  },
  {
   "cell_type": "markdown",
   "metadata": {},
   "source": [
    "You will receive a number n and a word. On the next n lines you will be given some strings. You have to add them in a list and print them. After that you have to filter out only the strings that include the given word and print that list too."
   ]
  },
  {
   "cell_type": "code",
   "execution_count": 4,
   "metadata": {},
   "outputs": [
    {
     "name": "stdout",
     "output_type": "stream",
     "text": [
      "3\n",
      "SoftUni\n",
      "I study at SoftUni\n",
      "I walk to work\n",
      "I learn Python at SoftUni\n",
      "['I study at SoftUni', 'I walk to work', 'I learn Python at SoftUni']\n",
      "['I study at SoftUni', 'I learn Python at SoftUni']\n"
     ]
    }
   ],
   "source": [
    "number = int(input())\n",
    "word = input()\n",
    "my_list = []\n",
    "word_list = []\n",
    "\n",
    "for line in range(number):\n",
    "    string_input = input()\n",
    "    my_list.append(string_input)\n",
    "\n",
    "for i in range(len(my_list)):\n",
    "    if word in my_list[i]:\n",
    "        word_list.append(my_list[i])\n",
    "\n",
    "print(my_list)\n",
    "print(word_list)"
   ]
  },
  {
   "cell_type": "markdown",
   "metadata": {},
   "source": [
    "## 5.\tNumbers Filter"
   ]
  },
  {
   "cell_type": "markdown",
   "metadata": {},
   "source": [
    "You will receive a single number n. On the next n lines you will receive integers. After that you will be given one of the following commands:\n",
    "- even\n",
    "- odd\n",
    "- negative\n",
    "- positive\n",
    "- Filter all the numbers that fit in the category (0 counts as a positive and even). Finally, print the result."
   ]
  },
  {
   "cell_type": "code",
   "execution_count": 5,
   "metadata": {},
   "outputs": [
    {
     "name": "stdout",
     "output_type": "stream",
     "text": [
      "5\n",
      "33\n",
      "19\n",
      "-2\n",
      "18\n",
      "998\n",
      "even\n",
      "[-2, 18, 998]\n"
     ]
    }
   ],
   "source": [
    "number = int(input())\n",
    "\n",
    "my_list = []\n",
    "print_list = []\n",
    "\n",
    "for num in range(number):\n",
    "    integer = int(input())\n",
    "    my_list.append(integer)\n",
    "\n",
    "command = input()\n",
    "\n",
    "for i in range(len(my_list)):\n",
    "    if command == \"even\":\n",
    "        if my_list[i] % 2 == 0:\n",
    "            print_list.append(my_list[i])\n",
    "    elif command == \"odd\":\n",
    "        if my_list[i] % 2 != 0:\n",
    "            print_list.append(my_list[i])\n",
    "    elif command == \"negative\":\n",
    "        if my_list[i] < 0:\n",
    "            print_list.append(my_list[i])\n",
    "    elif command == \"positive\":\n",
    "        if my_list[i] >= 0:\n",
    "            print_list.append(my_list[i])\n",
    "\n",
    "print(print_list)"
   ]
  }
 ],
 "metadata": {
  "kernelspec": {
   "display_name": "Python 3",
   "language": "python",
   "name": "python3"
  },
  "language_info": {
   "codemirror_mode": {
    "name": "ipython",
    "version": 3
   },
   "file_extension": ".py",
   "mimetype": "text/x-python",
   "name": "python",
   "nbconvert_exporter": "python",
   "pygments_lexer": "ipython3",
   "version": "3.8.3"
  }
 },
 "nbformat": 4,
 "nbformat_minor": 4
}
